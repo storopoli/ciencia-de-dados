{
 "cells": [
  {
   "cell_type": "markdown",
   "metadata": {
    "slideshow": {
     "slide_type": "skip"
    }
   },
   "source": [
    "[![Binder](https://mybinder.org/badge_logo.svg)](https://mybinder.org/v2/gh/storopoli/ciencia-de-dados/main?filepath=notebooks%2FAula_10_Machine_Learning.ipynb)\n",
    "<br>\n",
    "[![Open In Colab](https://colab.research.google.com/assets/colab-badge.svg)](https://colab.research.google.com/github/storopoli/ciencia-de-dados/blob/main/notebooks/Aula_10_Machine_Learning.ipynb)"
   ]
  },
  {
   "cell_type": "markdown",
   "metadata": {
    "slideshow": {
     "slide_type": "slide"
    }
   },
   "source": [
    "# *Machine Learning*\n",
    "\n",
    "**Objetivos**: Aprender o que é *Machine Learning* e quais são os componentes de um algoritmo de ML."
   ]
  },
  {
   "cell_type": "markdown",
   "metadata": {
    "slideshow": {
     "slide_type": "slide"
    }
   },
   "source": [
    "## Defininição - *Machine Learning*\n",
    "\n",
    "*Machine Learning* é uma área de estudo que fornece aos computadores a habilidade de aprender sem serem explicitamente programados.\n",
    "\n",
    "> Um programa de computador que aprende a partir da experiência E em relação a algum tipo de tarefa T e alguma medida de desempenho P, se o seu desempenho em T, conforme medido por P, melhora com a experiência E.\n",
    "\n",
    "Mitchell, T. M. (1997). Machine Learning. McGraw-Hill, New York."
   ]
  },
  {
   "cell_type": "markdown",
   "metadata": {
    "slideshow": {
     "slide_type": "subslide"
    }
   },
   "source": [
    "### Experiência (E)\n",
    "\n",
    "Em *Machine Learning* um programa de computador aprende sem ser explicitamente programado. Ele aprende a partir de um conjunto de dados que expressa toda *experiência* (E) que desejamos ensiná-lo. Esse conjunto de dados é chamado de **conjunto de treinamento**. \n",
    "\n",
    "* **Aprendizagem Supervisionada**: o conjunto de treinamento é composto por amostras de entradas/saídas.\n",
    "* **Aprendizagem Não-Supervisionada**:  conjunto de treinamento é composto por amostras de entradas apenas.\n",
    "* ~~Aprendizagem por Reforço~~"
   ]
  },
  {
   "cell_type": "markdown",
   "metadata": {
    "slideshow": {
     "slide_type": "subslide"
    }
   },
   "source": [
    "### Tarefas (T)\n",
    "\n",
    "* Classificação - Supervisionada qualitativa\n",
    "* Regressão - Supervisionada quantitativa\n",
    "* Agrupamento - Não-supervisionada"
   ]
  },
  {
   "cell_type": "markdown",
   "metadata": {
    "slideshow": {
     "slide_type": "subslide"
    }
   },
   "source": [
    "#### Tente responder: Classifique as sentenças a baixo como: Aprendizagem supervisionada (classifição ou regressão) ou não-supervisionada\n",
    "* Estimar o preço de uma casa?\n",
    "* Agrupar notícias semelhantes publicadas por várias fontes de informação?\n",
    "* Identificar notícias que possuem maior engajamento de compartilhamentos em redes sociais?\n",
    "* Determinar se uma pessoa tem câncer benigno ou maligno?\n",
    "* Identificar padrões de navegação em sites?\n",
    "* Determinar se um texto publicado em uma rede social é inadequado ou não?"
   ]
  },
  {
   "cell_type": "markdown",
   "metadata": {
    "slideshow": {
     "slide_type": "subslide"
    }
   },
   "source": [
    "### Desempenho (P)\n",
    "\n",
    "Para medir o desempenho de um algoritmo de Machine Learning é preciso de uma medida de desempenho para mensurar a qualidade do processo de aprendizagem. Essa medida é conhecida como **função de custo** ou **função de erro**. Essa função é definida de acordo com o tipo de problema (aprendizagem supervisionada ou não-supervisionada). Essa função contém um **conjunto de parâmetros** a serem otimizados pelo um algoritmo de *Machine Learning*.\n",
    "\n",
    "De maneira geral, pode-se dizer que o objetivo do algoritmo de *Machine Learning* é otimizar (aprender) o **conjunto de parâmetros** de tal forma que resultado da função seja o mínimo possível. Isso significa que algoritmo tem uma alta taxa de aprendizagem e uma baixa taxa de erro.\n",
    "\n",
    "* Dividir os dados em\n",
    "* Treino\n",
    "* Teste\n",
    "    * Aqui eu mensuro desempenho (P)"
   ]
  },
  {
   "cell_type": "markdown",
   "metadata": {
    "slideshow": {
     "slide_type": "subslide"
    }
   },
   "source": [
    "<img src=\"images/train-test.png\" alt=\"train-test\" style=\"width: 400px;\"/>"
   ]
  },
  {
   "cell_type": "markdown",
   "metadata": {
    "slideshow": {
     "slide_type": "slide"
    }
   },
   "source": [
    "### Exemplo: jogo de computador\n",
    "- Tarefa $T$ é jogar xadrez. \n",
    "- Medida de desempenho $P$ é uma relação entre partidas ganhas contra oponentes versus perdidas. \n",
    "- Experiência $E$ é prática de partidas concluídas. Note que, estas experiências são descritas em um conjunto de dados chamado de **conjunto de treinamento**."
   ]
  },
  {
   "cell_type": "markdown",
   "metadata": {
    "slideshow": {
     "slide_type": "subslide"
    }
   },
   "source": [
    "#### Tente responder: Classifique as sentenças a baixo como: Tarefa $T$, Experiências $E$ e Medida de desempenho $P$\n",
    "\n",
    "- Classificar emails como spam ou não spam ?\n",
    "- Verificar quais emails o algoritmo classifica como spam ?\n",
    "- O número (ou fração) de emails corretamente classificados como spam ou não spam ?"
   ]
  },
  {
   "cell_type": "markdown",
   "metadata": {
    "slideshow": {
     "slide_type": "slide"
    }
   },
   "source": [
    "## Generalização\n",
    "\n",
    "A habilidade de desempenhar bem em dados não observados anteriormente.\n",
    "\n",
    "Mensurada por erro:\n",
    "* Dados de Treino: Erro de Treino\n",
    "* Dados de Teste: Erro de Teste"
   ]
  },
  {
   "cell_type": "markdown",
   "metadata": {
    "slideshow": {
     "slide_type": "subslide"
    }
   },
   "source": [
    "### Erro do Algoritmo\n",
    "\n",
    "2 Fatores:\n",
    "\n",
    "1. Habilidade de Reduzir o Erro de Treino\n",
    "2. Habilidade de Reduzir a Lacuna entre o Erro de Treino e o Erro de Teste\n",
    "\n",
    "<img src=\"images/train-vs-test-error.png\" alt=\"train-vs-test-error\" style=\"width: 400px;\"/>"
   ]
  },
  {
   "cell_type": "markdown",
   "metadata": {
    "slideshow": {
     "slide_type": "subslide"
    }
   },
   "source": [
    "<img src=\"images/trainin4.gif\" alt=\"training\" style=\"width: 500px;\"/>"
   ]
  },
  {
   "cell_type": "markdown",
   "metadata": {
    "slideshow": {
     "slide_type": "subslide"
    }
   },
   "source": [
    "### *Overfitting* e *Underfitting*\n",
    "\n",
    "* Centrais em *Machine Learning*\n",
    "* Underfitting\n",
    "    - Modelos **menos** flexíveis que o ideal\n",
    "* Overfitting\n",
    "    - Modelos **mais** flexíveis que o ideal   \n",
    "\n",
    "<img src=\"images/underfitting-overfitting-capacity.png\" alt=\"underfitting-overfitting-capacity\" style=\"width: 500px;\"/>"
   ]
  },
  {
   "cell_type": "markdown",
   "metadata": {
    "slideshow": {
     "slide_type": "subslide"
    }
   },
   "source": [
    "#### No Free Lunch Theorem (NFL)\n",
    "\n",
    "> “Se você faz nenhum pressuposto dos dados, não há razão para preferir um modelo por outro”\n",
    "\n",
    "> Wolpert, D. H. (1996). The Lack of a Priori Distinctions between Learning Algorithms. Neural Computation, 8(7), 1341–1390. https://doi.org/10.1162/neco.1996.8.7.1341\n",
    "\t\n",
    "* Nenhum modelo é garantido que funcionará melhor\n",
    "    * Ex: para alguns dados, regressão linear é melhor; para outros, redes neurais.\n",
    "* A única maneira de saber é avaliar todos os modelos\n",
    "* Por isso que não há *almoço grátis*"
   ]
  },
  {
   "cell_type": "markdown",
   "metadata": {
    "slideshow": {
     "slide_type": "slide"
    }
   },
   "source": [
    "## Otimização\n",
    "\n",
    "Método mais utilizado é o **Método do Gradiente** (*Gradient Descent*)\n",
    "\n",
    "Inventado em 1847 por Augustin-Louis Cauchy. Usa a derivativa para minimizar uma função-alvo.\n",
    "\n",
    "**Método iterativo**: a cada iteração, tenta ir para o local/global minima\n",
    "\n",
    "<img src=\"images/gradient-descent.png\" alt=\"gradient-descent\" style=\"width: 400px;\"/>"
   ]
  },
  {
   "cell_type": "markdown",
   "metadata": {
    "slideshow": {
     "slide_type": "subslide"
    }
   },
   "source": [
    "<img src=\"images/gradient-descent.gif\" alt=\"gradient-descent-animation\" style=\"width: 500px;\"/>"
   ]
  },
  {
   "cell_type": "markdown",
   "metadata": {
    "slideshow": {
     "slide_type": "subslide"
    }
   },
   "source": [
    "<img src=\"images/gradient-descent-2.gif\" alt=\"gradient-descent-animation\" style=\"width: 500px;\"/>"
   ]
  },
  {
   "cell_type": "markdown",
   "metadata": {
    "slideshow": {
     "slide_type": "subslide"
    }
   },
   "source": [
    "### Local/Global Minima/Maxima\n",
    "\n",
    "<img src=\"images/local-minima.png\" alt=\"local-minima\" style=\"width: 400px;\"/>"
   ]
  },
  {
   "cell_type": "markdown",
   "metadata": {
    "slideshow": {
     "slide_type": "subslide"
    }
   },
   "source": [
    "<img src=\"images/gradient-descent-1.gif\" alt=\"gradient-descent-animation-2\" style=\"width: 500px;\"/>"
   ]
  },
  {
   "cell_type": "markdown",
   "metadata": {
    "slideshow": {
     "slide_type": "subslide"
    }
   },
   "source": [
    "<img src=\"images/gradient-descent-3.gif\" alt=\"gradient-descent-animation-3\" style=\"width: 500px;\"/>"
   ]
  },
  {
   "cell_type": "markdown",
   "metadata": {
    "slideshow": {
     "slide_type": "slide"
    }
   },
   "source": [
    "### Tipos de Método do Gradiente (*Gradient Descent*)\n",
    "\n",
    "* *Batch Gradient Descent*: Dataset todo\n",
    "* *Stochastic Gradient Descent*: Um exemplo aleatório do Dataset\n",
    "* *Mini-batch Gradient Descent*: Amostras aleatórias do Dataset"
   ]
  },
  {
   "cell_type": "markdown",
   "metadata": {
    "slideshow": {
     "slide_type": "subslide"
    }
   },
   "source": [
    "\n",
    "<img src=\"images/grad-descent-methods.png\" alt=\"grad-descent-methods\" style=\"width: 500px;\"/>"
   ]
  },
  {
   "cell_type": "markdown",
   "metadata": {
    "slideshow": {
     "slide_type": "slide"
    }
   },
   "source": [
    "## Scikit-Learn"
   ]
  },
  {
   "cell_type": "markdown",
   "metadata": {
    "slideshow": {
     "slide_type": "fragment"
    }
   },
   "source": [
    "Você deve \"treinar\" o seu estimador do `sklearn` nos dados de treino e mensurar o desempenho nos dados de teste.\n",
    "\n",
    "1. Instancia um objeto de um estimador do `sklearn`. Tradicionalmente regressores e classificadores ambos são instanciados como `clf`:\n",
    "    ```python\n",
    "    from sklearn.MODULO import ESTIMADOR\n",
    "    clf = ESTIMADOR()\n",
    "    ```\n",
    "2. Treinar o estimador com os dados de treino usando o método `.fit()`:\n",
    "    ```python\n",
    "    clf.fit(X_train, y_train)\n",
    "    ```\n",
    "3. Mensurar o desempenho do estimador treinado nos dados de teste usando o método `.score()`:\n",
    "    ```python\n",
    "    clf.score(X_test, y_test)\n",
    "    ```"
   ]
  },
  {
   "cell_type": "markdown",
   "metadata": {
    "slideshow": {
     "slide_type": "subslide"
    }
   },
   "source": [
    "### Como preparar um dataset do Pandas para um modelo de aprendizagem supervisionada do Scikit-Learn"
   ]
  },
  {
   "cell_type": "markdown",
   "metadata": {
    "slideshow": {
     "slide_type": "fragment"
    }
   },
   "source": [
    "Lembrando que o nosso dataset do pandas possui todos os atributos `X` (variáveis / *features*) que usaremos na estimação da resposta `y`.\n",
    "\n",
    "* `X` são as variáveis **sem a resposta `y`**: `X = df.drop(['variavel_resposta'])`\n",
    "* `y` é **apenas a variável resposta `y`**: `y = df['variavel_resposta']`"
   ]
  },
  {
   "cell_type": "markdown",
   "metadata": {
    "slideshow": {
     "slide_type": "subslide"
    }
   },
   "source": [
    "> Mas, professor... E os dados de **treino** e de **teste**?"
   ]
  },
  {
   "cell_type": "markdown",
   "metadata": {
    "slideshow": {
     "slide_type": "fragment"
    }
   },
   "source": [
    "O Scikit-Learn tem uma função que divide automaticamente de maneira aleatória em dados de **treino** e dados de **teste**. Esta função chama-se `train_test_split()`. Ela aceita uma matriz e retorna duas matrizes uma de treino e uma de teste. Além disso, pode-se especificar o tamanho da quebra em pontos percentuais (ex: `0.33` quebra o dataset em 67% treino e 33% teste). Para replicabilidade, pode-se especificar também uma *seed* do gerador de número aleatórios que aceita um número inteiro como *seed*.\n",
    "\n",
    "> Obs: O `train_test_split()` aceita múltiplas matrices/tabelas para quebrar em treino/teste só tome cuidado com o tamanho da lista que a função retornará."
   ]
  },
  {
   "cell_type": "markdown",
   "metadata": {
    "slideshow": {
     "slide_type": "subslide"
    }
   },
   "source": [
    "```python\n",
    "from sklearn.model_selection import train_test_split\n",
    "\n",
    "X_train, X_test, y_train, y_test = train_test_split(\n",
    "    X, y, test_size=0.33, random_state=42)\n",
    "```"
   ]
  },
  {
   "cell_type": "markdown",
   "metadata": {
    "slideshow": {
     "slide_type": "subslide"
    }
   },
   "source": [
    "### Como *Treinar* um modelo de aprendizagem supervisionada no Scikit-Learn"
   ]
  },
  {
   "cell_type": "markdown",
   "metadata": {
    "slideshow": {
     "slide_type": "fragment"
    }
   },
   "source": [
    "Ao quebrar `X` e `y` em `X_train`, `X_test`, `y_train`, `y_test`, você obterá as seguintes variáveis:\n",
    "* `X_train`: atributos dos meus dados de treino\n",
    "* `y_train`: resposta dos meus dados de treino\n",
    "* `X_teste`: atributos dos meus dados de teste\n",
    "* `y_teste`: resposta dos meus dados de teste"
   ]
  },
  {
   "cell_type": "markdown",
   "metadata": {
    "slideshow": {
     "slide_type": "subslide"
    }
   },
   "source": [
    "```python\n",
    "# Regressor\n",
    "y_pred = clf.predict(X_test)\n",
    "sklearn.metrics.r2_score(y_test, y_pred)\n",
    "```\n",
    "```python\n",
    "# Classificador\n",
    "y_pred = clf.predict(X_test)\n",
    "sklearn.metrics.accuracy_score(y_test, y_pred)\n",
    "```\n",
    "\n",
    "```python\n",
    "clf.score(X_test, y_test)\n",
    "```"
   ]
  },
  {
   "cell_type": "markdown",
   "metadata": {
    "slideshow": {
     "slide_type": "subslide"
    }
   },
   "source": [
    "### Métricas de Desempenho Padrões do Scikit-Learn\n",
    "\n",
    "* **Regressor**: $R^2$ do estimador - O quanto (em porcentagem) de variação da resposta `y` é \"capturado\" pelos atributos `X` do estimador - `Float` entre $0$ e $1$\n",
    "* **Classificador**: Acurácia do estimador - O quanto (em porcentagem) o estimador acerta das classes da resposta `y` - `Float` entre $0$ e $1$"
   ]
  },
  {
   "cell_type": "markdown",
   "metadata": {
    "slideshow": {
     "slide_type": "subslide"
    }
   },
   "source": [
    "Estimador do Scikit-Learn: `clf`\n",
    "\n",
    "* **Estimar** (Aprenda com os dados): `clf.fit(X, y)`\n",
    "    * `X`: `DataFrame` Pandas ou `ndarray` NumPy (sem a variável que você quer prever - resposta) com linhas como observações e colunas como variáveis (atributos - *features*)\n",
    "    * `y`: `Series` Pandas ou `ndarray` NumPy da variável de interesse resposta que deve ter o mesmo número observações que `X`\n",
    "* **Métricas de Desempenho**: `clf.score(X, y)`\n",
    "    * Classificação: Acurácia\n",
    "    * Regressão: $R^2$ -  O quanto de variação da resposta que o seu estimador consegue \"explicar\"\n",
    "* **Prever** uma resposta `y_new` a partir de **novos dados** `X_new` não-observados no treinamento: `y_new = clf.predict(X_new)`"
   ]
  },
  {
   "cell_type": "markdown",
   "metadata": {
    "slideshow": {
     "slide_type": "slide"
    }
   },
   "source": [
    "## Atividade\n",
    "\n",
    "1. Traga 2 exemplos de Tarefa Supervisionada\n",
    "2. Traga 2 exemplos de Tarefa Não-Supervisionada"
   ]
  }
 ],
 "metadata": {
  "celltoolbar": "Slideshow",
  "kernelspec": {
   "display_name": "Python 3 (ipykernel)",
   "language": "python",
   "name": "python3"
  },
  "language_info": {
   "codemirror_mode": {
    "name": "ipython",
    "version": 3
   },
   "file_extension": ".py",
   "mimetype": "text/x-python",
   "name": "python",
   "nbconvert_exporter": "python",
   "pygments_lexer": "ipython3",
   "version": "3.9.7"
  },
  "rise": {
   "autolaunch": true,
   "enable_chalkboard": true,
   "progress": true,
   "scroll": true,
   "slideNumber": true
  }
 },
 "nbformat": 4,
 "nbformat_minor": 4
}
