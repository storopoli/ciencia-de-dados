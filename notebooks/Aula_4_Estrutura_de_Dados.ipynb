{
 "cells": [
  {
   "cell_type": "markdown",
   "metadata": {
    "slideshow": {
     "slide_type": "skip"
    }
   },
   "source": [
    "[![Binder](https://mybinder.org/badge_logo.svg)](https://mybinder.org/v2/gh/storopoli/ciencia-de-dados/master?filepath=notebooks%2FAula_4_Estrutura_de_Dados.ipynb)\n",
    "<br>\n",
    "[![Open In Colab](https://colab.research.google.com/assets/colab-badge.svg)](https://colab.research.google.com/github/storopoli/ciencia-de-dados/blob/master/notebooks/Aula_4_Estrutura_de_Dados.ipynb)"
   ]
  },
  {
   "cell_type": "markdown",
   "metadata": {
    "slideshow": {
     "slide_type": "slide"
    }
   },
   "source": [
    "# Estruturas de Dados (`list` e `dict`)\n",
    "\n",
    "**Objetivos**: Apresentar as estruturas de dados (`list` e `dict`)"
   ]
  },
  {
   "cell_type": "markdown",
   "metadata": {
    "slideshow": {
     "slide_type": "fragment"
    }
   },
   "source": [
    "Python trabalha com diferentes estrutura de dados. As duas principais estruturas de dados que Python trabalha são:\n",
    "* lista (`list`)\n",
    "* dicionário (`dict`)"
   ]
  },
  {
   "cell_type": "markdown",
   "metadata": {
    "slideshow": {
     "slide_type": "slide"
    }
   },
   "source": [
    "## Lista (`list`)\n",
    "\n",
    "Lista, também como conhecido como *list*, é uma estrutura de dados que possui nenhum, um ou mais itens, que estão ordenados. Os itens são conhecidos também como elementos. Ela é flexível, ou seja, podemos adicionar novos itens na lista, podemos alterar itens existentes, podemos remover itens da lista, tudo isto de forma dinâmica.\n",
    "\n",
    "Em Python, uma lista é representada por uma sequencia de itens, separados por vírgula e dentro de colchetes `[]`. Uma lista vazia é representada por colchetes sem nenhuma informação presente entre os colchetes."
   ]
  },
  {
   "cell_type": "code",
   "execution_count": 1,
   "metadata": {
    "slideshow": {
     "slide_type": "subslide"
    }
   },
   "outputs": [],
   "source": [
    "lista_vazia = []\n",
    "lista_campus = [\"Vergueiro\", \"Memorial\", \"Vila Prudente\", \"Santo Amaro\", \"Vila Maria\"]"
   ]
  },
  {
   "cell_type": "markdown",
   "metadata": {
    "slideshow": {
     "slide_type": "subslide"
    }
   },
   "source": [
    "### Tipos de variáveis de uma lista\n",
    "\n",
    "A lista pode acomodar qualquer tipo de variável"
   ]
  },
  {
   "cell_type": "code",
   "execution_count": 2,
   "metadata": {
    "slideshow": {
     "slide_type": "fragment"
    }
   },
   "outputs": [],
   "source": [
    "lista_mista = [\"Presidente\", 3, 34.2, None, True]"
   ]
  },
  {
   "cell_type": "markdown",
   "metadata": {
    "slideshow": {
     "slide_type": "subslide"
    }
   },
   "source": [
    "### Acessar elementos de uma lista\n",
    "\n",
    "Para acessar elementos de uma lista use `lista[<numero do elemento>]`.\n",
    "\n",
    "*Lembre-se que Python é indexado em zero $0$*"
   ]
  },
  {
   "cell_type": "code",
   "execution_count": 3,
   "metadata": {
    "slideshow": {
     "slide_type": "fragment"
    }
   },
   "outputs": [
    {
     "name": "stdout",
     "output_type": "stream",
     "text": [
      "Presidente\n",
      "Vila Prudente\n"
     ]
    }
   ],
   "source": [
    "print(lista_mista[0]) #primeiro elemento\n",
    "print(lista_campus[2]) #terceiro elemento"
   ]
  },
  {
   "cell_type": "markdown",
   "metadata": {
    "slideshow": {
     "slide_type": "subslide"
    }
   },
   "source": [
    "### Listas e `FOR` loops\n",
    "\n",
    "Listas podem ser iteradas com `for` loops"
   ]
  },
  {
   "cell_type": "code",
   "execution_count": 4,
   "metadata": {
    "slideshow": {
     "slide_type": "fragment"
    }
   },
   "outputs": [
    {
     "name": "stdout",
     "output_type": "stream",
     "text": [
      "Vergueiro\n",
      "Memorial\n",
      "Vila Prudente\n",
      "Santo Amaro\n",
      "Vila Maria\n",
      "<class 'str'>\n",
      "<class 'int'>\n",
      "<class 'float'>\n",
      "<class 'NoneType'>\n",
      "<class 'bool'>\n"
     ]
    }
   ],
   "source": [
    "for campus in lista_campus:\n",
    "    print(campus)\n",
    "for i in lista_mista:\n",
    "    print(type(i))"
   ]
  },
  {
   "cell_type": "markdown",
   "metadata": {
    "slideshow": {
     "slide_type": "subslide"
    }
   },
   "source": [
    "### Operações com lista\n",
    "\n",
    "* Adição e remoção: `append` e `remove`\n",
    "* Contar o número de items: `count`\n",
    "* Quantidade de itens: `len`\n",
    "* Arrumar: `sort` e `reverse` (para ordenar inversamente é necessário estar ordenada crescente)"
   ]
  },
  {
   "cell_type": "code",
   "execution_count": 5,
   "metadata": {
    "slideshow": {
     "slide_type": "fragment"
    }
   },
   "outputs": [
    {
     "name": "stdout",
     "output_type": "stream",
     "text": [
      "2\n",
      "0\n",
      "['Memorial', 'Memorial', 'Santo Amaro', 'Vila Maria', 'Vila Prudente']\n",
      "5\n"
     ]
    }
   ],
   "source": [
    "lista_campus = [\"Vergueiro\", \"Memorial\", \"Vila Prudente\", \"Santo Amaro\", \"Vila Maria\"]\n",
    "lista_campus.append(\"Memorial\")\n",
    "lista_campus.remove(\"Vergueiro\")\n",
    "print(lista_campus.count(\"Memorial\"))\n",
    "print(lista_campus.count(\"Vergueiro\"))\n",
    "\n",
    "lista_campus.sort()\n",
    "print(lista_campus)\n",
    "print(len(lista_campus))"
   ]
  },
  {
   "cell_type": "markdown",
   "metadata": {
    "slideshow": {
     "slide_type": "subslide"
    }
   },
   "source": [
    "### Mais operações com listas\n",
    "* Adição de listas: `list_1` + `list_2` ou `list_1.extend(list_2)`"
   ]
  },
  {
   "cell_type": "code",
   "execution_count": 6,
   "metadata": {
    "slideshow": {
     "slide_type": "fragment"
    }
   },
   "outputs": [
    {
     "name": "stdout",
     "output_type": "stream",
     "text": [
      "['Vergueiro', 'Memorial', 'Vila Prudente', 'Santo Amaro', 'Vila Maria', 1, 2, 3, 4, 5]\n",
      "['Vergueiro', 'Memorial', 'Vila Prudente', 'Santo Amaro', 'Vila Maria', 1, 2, 3, 4, 5]\n"
     ]
    }
   ],
   "source": [
    "lista_campus = [\"Vergueiro\", \"Memorial\", \"Vila Prudente\", \"Santo Amaro\", \"Vila Maria\"]\n",
    "lista_numeros = [1, 2, 3, 4, 5]\n",
    "\n",
    "print(lista_campus + lista_numeros)\n",
    "lista_campus.extend(lista_numeros)\n",
    "print(lista_campus)"
   ]
  },
  {
   "cell_type": "markdown",
   "metadata": {
    "slideshow": {
     "slide_type": "subslide"
    }
   },
   "source": [
    "### Pertencimento a lista\n",
    "\n",
    "Para verificar se um elemento pertence a lista use o operador `in` e para verificar se não pertence use o `not in`"
   ]
  },
  {
   "cell_type": "code",
   "execution_count": 7,
   "metadata": {
    "scrolled": true,
    "slideshow": {
     "slide_type": "fragment"
    }
   },
   "outputs": [
    {
     "name": "stdout",
     "output_type": "stream",
     "text": [
      "True\n",
      "False\n"
     ]
    }
   ],
   "source": [
    "lista_numeros = [1, 2, 3, 4, 5]\n",
    "\n",
    "print(3 in lista_numeros)\n",
    "print(4 not in lista_numeros)"
   ]
  },
  {
   "cell_type": "markdown",
   "metadata": {
    "slideshow": {
     "slide_type": "subslide"
    }
   },
   "source": [
    "### Fatiar (`slice`) uma lista\n",
    "\n",
    "Para fatiar (*slice*) uma lista use o `:` e o índice (indexado em zero)\n",
    "\n",
    "```python\n",
    "lista[1:3]\n",
    "```\n",
    "\n",
    "*Cuidado que o intervalo final é não inclusivo*"
   ]
  },
  {
   "cell_type": "code",
   "execution_count": 8,
   "metadata": {
    "scrolled": true,
    "slideshow": {
     "slide_type": "fragment"
    }
   },
   "outputs": [
    {
     "name": "stdout",
     "output_type": "stream",
     "text": [
      "['Memorial', 'Vila Prudente']\n",
      "['Santo Amaro', 'Vila Maria']\n",
      "['Vergueiro', 'Memorial', 'Vila Prudente']\n",
      "['Vila Prudente', 'Santo Amaro', 'Vila Maria']\n"
     ]
    }
   ],
   "source": [
    "lista_campus = [\"Vergueiro\",\n",
    "                \"Memorial\",\n",
    "                \"Vila Prudente\",\n",
    "                \"Santo Amaro\",\n",
    "                \"Vila Maria\"]\n",
    "\n",
    "print(lista_campus[1:3])  # lista_campus[1] e lista_campus[2]\n",
    "print(lista_campus[3:])\n",
    "print(lista_campus[:3])\n",
    "print(lista_campus[2:])"
   ]
  },
  {
   "cell_type": "markdown",
   "metadata": {
    "slideshow": {
     "slide_type": "subslide"
    }
   },
   "source": [
    "## Máximos, Mínimos e Soma de uma lista\n",
    "Podemos utilizar as funções `max()` e `min()` para recuperar os maiores e menores valores, respectivamente, além da função `sum()` para totalizar uma lista."
   ]
  },
  {
   "cell_type": "code",
   "execution_count": 9,
   "metadata": {
    "slideshow": {
     "slide_type": "fragment"
    }
   },
   "outputs": [
    {
     "name": "stdout",
     "output_type": "stream",
     "text": [
      "Menor valor: 1\n",
      "Maior valor: 10\n",
      "soma: 41\n"
     ]
    }
   ],
   "source": [
    "lista = [1, 2, 9, 4, 8, 7, 10]\n",
    "\n",
    "print('Menor valor:', min(lista))\n",
    "print('Maior valor:', max(lista))\n",
    "print('soma:', sum(lista))"
   ]
  },
  {
   "cell_type": "markdown",
   "metadata": {
    "slideshow": {
     "slide_type": "slide"
    }
   },
   "source": [
    "## Dicionários (`dict`)\n",
    "\n",
    "Dicionário, também como conhecido como `dict`, é uma estrutura de dados que possui nenhum, um ou mais itens, que não estão ordenados porém estão **indexados**. Os itens são conhecidos também como elementos. Ela é flexível, ou seja, podemos adicionar novos itens no dicionário, podemos alterar itens existentes, podemos remover itens do dicionário, tudo isto de forma dinâmica.\n",
    "\n",
    "O dicionário é composto por uma tupla CHAVE (`key`) e VALOR (`value`). O dicionário é indexado pela CHAVE.\n",
    "\n",
    "```python\n",
    "<nome do dicionario> = {<chave_01>: <valor_01>, <chave_02>: <valor_02>, <chave_03>: <valor_03>}\n",
    "```"
   ]
  },
  {
   "cell_type": "code",
   "execution_count": 10,
   "metadata": {
    "slideshow": {
     "slide_type": "subslide"
    }
   },
   "outputs": [],
   "source": [
    "dicionario = {'RA': 123,\n",
    "              'nome': \"Alexandre\",\n",
    "              'idade': 23,\n",
    "              'AV1': 7,\n",
    "              'AV2': 9\n",
    "             }"
   ]
  },
  {
   "cell_type": "markdown",
   "metadata": {
    "slideshow": {
     "slide_type": "subslide"
    }
   },
   "source": [
    "### Operações com dicionários\n",
    "* Acessar valor de uma chave: `dict[key]`\n",
    "* Alterar o valor de uma chave: `dict[key] = novo_valor`\n",
    "* Para iterar todas as chaves e valores: `for key, value in dict.items()`\n",
    "* Verificar pertencimento: `if chave_desejada in dict:` ou `if valor_desejado in dict.items()`"
   ]
  },
  {
   "cell_type": "code",
   "execution_count": 11,
   "metadata": {
    "slideshow": {
     "slide_type": "fragment"
    }
   },
   "outputs": [
    {
     "name": "stdout",
     "output_type": "stream",
     "text": [
      "dicionario[RA]:  123\n",
      "dicionario[RA] - após dicionario[RA] = 456:  456\n"
     ]
    }
   ],
   "source": [
    "print(\"dicionario[RA]: \", dicionario['RA'])\n",
    "\n",
    "dicionario['RA'] = 456\n",
    "\n",
    "print(\"dicionario[RA] - após dicionario[RA] = 456: \", dicionario[\"RA\"])"
   ]
  },
  {
   "cell_type": "code",
   "execution_count": 12,
   "metadata": {
    "scrolled": true,
    "slideshow": {
     "slide_type": "subslide"
    }
   },
   "outputs": [
    {
     "name": "stdout",
     "output_type": "stream",
     "text": [
      "RA\n",
      "nome\n",
      "idade\n",
      "AV1\n",
      "AV2\n"
     ]
    }
   ],
   "source": [
    "for i in dicionario:\n",
    "    print(i)"
   ]
  },
  {
   "cell_type": "code",
   "execution_count": 13,
   "metadata": {
    "slideshow": {
     "slide_type": "fragment"
    }
   },
   "outputs": [
    {
     "name": "stdout",
     "output_type": "stream",
     "text": [
      "RA 456\n",
      "nome Alexandre\n",
      "idade 23\n",
      "AV1 7\n",
      "AV2 9\n"
     ]
    }
   ],
   "source": [
    "for key, value in dicionario.items():\n",
    "    print(key, value)"
   ]
  },
  {
   "cell_type": "markdown",
   "metadata": {
    "slideshow": {
     "slide_type": "slide"
    }
   },
   "source": [
    "## Atividade Lista\n",
    "\n",
    "1. Crie uma lista com todos os número primos até $100$\n",
    "2. Crie uma lista vazia chamada `log_numeros_primos`\n",
    "3. Crie um `for` loop para cada item da lista de números primos e peça para calcular o log do item e adicioná-lo à lista `log_numeros_primos`\n",
    "4. Imprima todos os items do décimo até o vigésimo da lista `log_numeros_primos` (*cuidado com indexação não-inclusiva*)"
   ]
  },
  {
   "cell_type": "code",
   "execution_count": null,
   "metadata": {
    "slideshow": {
     "slide_type": "fragment"
    }
   },
   "outputs": [],
   "source": [
    "from math import log\n",
    "\n",
    "numeros_primos = [2, 3, 5, 7, 11, 13, 17, 19, 23, 29, 31, 37, 41, 43, 47, 53, 59, 61, 67, 71, 73, 79, 83, 89, 97]\n",
    "\n",
    "for $$ in $$:\n",
    "    $$$$\n",
    "\n",
    "print()"
   ]
  },
  {
   "cell_type": "markdown",
   "metadata": {
    "slideshow": {
     "slide_type": "slide"
    }
   },
   "source": [
    "## Atividade Dicionário\n",
    "\n",
    "Crie um dicionário dos primeiros $100$ números primos com a chave sendo o número primo e valor a raíz quadrada do número primo.\n",
    "\n",
    "Observação: use `dict[key] = novo_valor`"
   ]
  },
  {
   "cell_type": "code",
   "execution_count": null,
   "metadata": {
    "slideshow": {
     "slide_type": "fragment"
    }
   },
   "outputs": [],
   "source": [
    "from math import sqrt\n",
    "\n",
    "numeros_primos = [2, 3, 5, 7, 11, 13, 17, 19, 23, 29, 31, 37, 41, 43, 47, 53, 59, 61, 67, 71, 73, 79, 83, 89, 97]\n",
    "\n",
    "primos_raiz = {}\n",
    "\n",
    "for $$ in $$:\n",
    "    $$$$"
   ]
  },
  {
   "cell_type": "markdown",
   "metadata": {
    "slideshow": {
     "slide_type": "subslide"
    }
   },
   "source": [
    "## Desafio\n",
    "Utilizando os conceitos sobre `list` e `dict`, desenvolva um algoritmo que apresente para os dados abaixo:\n",
    "* A Maior nota\n",
    "* A Menor nota\n",
    "* A Média das notas"
   ]
  },
  {
   "cell_type": "code",
   "execution_count": null,
   "metadata": {
    "slideshow": {
     "slide_type": "fragment"
    }
   },
   "outputs": [],
   "source": [
    "alunos = []\n",
    "alunos.append({'nome': 'Aluno 01', 'curso': 'Ciências da Computação', 'AV1':8 })\n",
    "alunos.append({'nome': 'Aluno 02', 'curso': 'Sistemas de Informação', 'AV1':7 })\n",
    "alunos.append({'nome': 'Aluno 03', 'curso': 'Sistemas de Informação', 'AV1':6 })\n",
    "alunos.append({'nome': 'Aluno 04', 'curso': 'Sistemas de Informação', 'AV1':6 })\n",
    "alunos.append({'nome': 'Aluno 05', 'curso': 'Sistemas de Informação', 'AV1':6 })\n",
    "alunos.append({'nome': 'Aluno 06', 'curso': 'Análise e Desenvolvimento de Sistemas', 'AV1':7 })\n",
    "alunos.append({'nome': 'Aluno 07', 'curso': 'Análise e Desenvolvimento de Sistemas', 'AV1':9 })\n",
    "alunos.append({'nome': 'Aluno 08', 'curso': 'Ciências da Computação', 'AV1':10 })\n",
    "alunos.append({'nome': 'Aluno 09', 'curso': 'Ciências da Computação', 'AV1':10 })\n",
    "alunos.append({'nome': 'Aluno 10', 'curso': 'Ciências da Computação', 'AV1':4 })\n",
    "alunos.append({'nome': 'Aluno 11', 'curso': 'Análise e Desenvolvimento de Sistemas', 'AV1':5 })\n",
    "alunos.append({'nome': 'Aluno 11', 'curso': 'Análise e Desenvolvimento de Sistemas', 'AV1':5 })\n",
    "alunos.append({'nome': 'Aluno 12', 'curso': 'Análise e Desenvolvimento de Sistemas', 'AV1':9 })\n",
    "alunos.append({'nome': 'Aluno 13', 'curso': 'Análise e Desenvolvimento de Sistemas', 'AV1':9 })\n",
    "alunos.append({'nome': 'Aluno 14', 'curso': 'Ciências da Computação', 'AV1': 7})\n",
    "alunos.append({'nome': 'Aluno 15', 'curso': 'Análise e Desenvolvimento de Sistemas', 'AV1':7})\n",
    "alunos.append({'nome': 'Aluno 16', 'curso': 'Ciências da Computação', 'AV1': 6})\n",
    "alunos.append({'nome': 'Aluno 17', 'curso': 'Análise e Desenvolvimento de Sistemas', 'AV1':8 })\n",
    "alunos.append({'nome': 'Aluno 18', 'curso': 'Ciências da Computação', 'AV1':4 })\n",
    "alunos.append({'nome': 'Aluno 19', 'curso': 'Sistemas de Informação', 'AV1':2 })\n",
    "alunos.append({'nome': 'Aluno 20', 'curso': 'Análise e Desenvolvimento de Sistemas', 'AV1':9 })\n",
    "\n",
    "media = 0\n",
    "notas = []\n",
    "\n",
    "            \n",
    "print('Notas Gerais')\n",
    "print('A MAIOR nota é.....:', $$$)\n",
    "print('A MENOR nota é.....:', $$$)\n",
    "print('A MÉDIA das notas é:', $$$)"
   ]
  }
 ],
 "metadata": {
  "celltoolbar": "Slideshow",
  "kernelspec": {
   "display_name": "Python [conda env:ciencia-de-dados]",
   "language": "python",
   "name": "conda-env-ciencia-de-dados-py"
  },
  "language_info": {
   "codemirror_mode": {
    "name": "ipython",
    "version": 3
   },
   "file_extension": ".py",
   "mimetype": "text/x-python",
   "name": "python",
   "nbconvert_exporter": "python",
   "pygments_lexer": "ipython3",
   "version": "3.7.10"
  },
  "rise": {
   "autolaunch": true,
   "enable_chalkboard": true,
   "progress": true,
   "scroll": true,
   "slideNumber": true
  }
 },
 "nbformat": 4,
 "nbformat_minor": 4
}
