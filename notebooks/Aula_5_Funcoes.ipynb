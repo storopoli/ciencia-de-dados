{
 "cells": [
  {
   "cell_type": "markdown",
   "source": [
    "[![Binder](https://mybinder.org/badge_logo.svg)](https://mybinder.org/v2/gh/storopoli/ciencia-de-dados/main?filepath=notebooks%2FAula_5_Funcoes.ipynb)\r\n",
    "<br>\r\n",
    "[![Open In Colab](https://colab.research.google.com/assets/colab-badge.svg)](https://colab.research.google.com/github/storopoli/ciencia-de-dados/blob/main/notebooks/Aula_5_Funcoes.ipynb)"
   ],
   "metadata": {
    "slideshow": {
     "slide_type": "skip"
    }
   }
  },
  {
   "cell_type": "markdown",
   "source": [
    "# Funções\n",
    "\n",
    "**Objetivos**: Apresentar as funções de Python"
   ],
   "metadata": {
    "slideshow": {
     "slide_type": "slide"
    }
   }
  },
  {
   "cell_type": "markdown",
   "source": [
    "Uma das técnicas de programação existentes consiste em quebrar um problema maior em vários problemas menores (ou sub-problemas). Desta forma cada sub-problema é solucionado e ao final teremos a solução de nosso problema maior. \n",
    "\n",
    "Em programação, para atendermos tal necessidade, existem funções e métodos. Funções seguem os princípios da programação procedural e e os métodos estão diretamente relacionados com programação orientada a objetos.\n",
    "\n",
    "Python trabalha tanto com funções como também com métodos."
   ],
   "metadata": {
    "slideshow": {
     "slide_type": "fragment"
    }
   }
  },
  {
   "cell_type": "markdown",
   "source": [
    "## Funções\n",
    "Uma função é um bloco de programa contendo início e fim e identificado por um nome, por meio do qual será referenciado em qualquer parte do programa principal ou em outra função.\n",
    "\n",
    "A característica principal de uma função é que há retorno de valor ou variável para o programa para o qual fez a chamada a função. Quando uma função é chamada por um programa, ela é executada até o seu término e a execução do programa volta exatamente para a primeira linha de instrução, após a linha que fez a chamada da função."
   ],
   "metadata": {
    "slideshow": {
     "slide_type": "slide"
    }
   }
  },
  {
   "cell_type": "markdown",
   "source": [
    "```python\n",
    "def <nome da função>(<argumento_1>,<argumento_2>, ..., <argumento_n>):\n",
    "    <instruções a serem executadas pela função>\n",
    "```"
   ],
   "metadata": {
    "slideshow": {
     "slide_type": "subslide"
    }
   }
  },
  {
   "cell_type": "markdown",
   "source": [
    "```python\n",
    "def <nome da função> (<argumento_1>,<argumento_2>, ..., <argumento_n>):\n",
    "    <instruções a serem executadas pela função>\n",
    "    return <valor a ser retornado pela função>\n",
    "```"
   ],
   "metadata": {
    "slideshow": {
     "slide_type": "fragment"
    }
   }
  },
  {
   "cell_type": "markdown",
   "source": [
    "### Exemplo"
   ],
   "metadata": {
    "slideshow": {
     "slide_type": "subslide"
    }
   }
  },
  {
   "cell_type": "code",
   "execution_count": 1,
   "source": [
    "def foo():\n",
    "    print(\"foo\")"
   ],
   "outputs": [],
   "metadata": {
    "slideshow": {
     "slide_type": "fragment"
    }
   }
  },
  {
   "cell_type": "markdown",
   "source": [
    "## Docstrings em Funções\n",
    "\n",
    "É sempre bom você colocar *docstrings* em funções (veja a [PEP-257](https://www.python.org/dev/peps/pep-0257/)).\n",
    "\n",
    "Veja um exemplo:"
   ],
   "metadata": {
    "slideshow": {
     "slide_type": "subslide"
    }
   }
  },
  {
   "cell_type": "code",
   "execution_count": 2,
   "source": [
    "def servico_restaurante(valor):\n",
    "    \"\"\"\n",
    "    Adiciona 10% ao final de um valor\n",
    "    \"\"\"\n",
    "    valor *= 1.10\n",
    "    print(f\"Com serviço de 10%: R${valor}\")\n",
    "    return valor"
   ],
   "outputs": [],
   "metadata": {
    "slideshow": {
     "slide_type": "fragment"
    }
   }
  },
  {
   "cell_type": "code",
   "execution_count": 3,
   "source": [
    "servico_restaurante(82)"
   ],
   "outputs": [
    {
     "output_type": "stream",
     "name": "stdout",
     "text": [
      "Com serviço de 10%: R$90.2\n"
     ]
    },
    {
     "output_type": "execute_result",
     "data": {
      "text/plain": [
       "90.2"
      ]
     },
     "metadata": {},
     "execution_count": 3
    }
   ],
   "metadata": {
    "scrolled": true,
    "slideshow": {
     "slide_type": "fragment"
    }
   }
  },
  {
   "cell_type": "markdown",
   "source": [
    "## Funções Anônimas -- `lambda`s\n",
    "\n",
    "Lambda's, ou funções anônimas, são expressões que permitem representar uma função sem precisar defini-la explicitamente. Assim, pode deixar o código mais facil, mais claro e mais rápido de ser lido. \n",
    "\n",
    "Em Python as funções anônimas usam a keyword `lambda`.\n",
    "\n",
    "Exemplos:\n",
    "\n",
    "* identidade: `lambda x: x`\n",
    "* quadrática: `lambda x: x**2`\n",
    "* adição dois números: `lambda x, y: x + y`\n",
    "\n",
    "### Outras funções utilizadas com `lambda`s\n",
    "\n",
    "1. `map` - Aplica uma função a cada item de uma lista ou dicionário e retorna um novo iterador para recuperar os resultados. Essa função retorna um objeto de mapa (um iterador). Também é possível passar o objeto de mapa para a função `list`, ou outro tipo de sequência, para criar um iterável.\n",
    "\n",
    "2. `filter` - Filtra uma sequência dada com a ajuda de uma função que testa cada elemento na sequência para verificar se é verdadeiro ou falso ou se foi encontrado. \n",
    "\n",
    "3. `reduce` - É usada para aplicar uma função particular passada em seu argumento a todos os elementos da lista mencionados na seqüência passada."
   ],
   "metadata": {
    "slideshow": {
     "slide_type": "slide"
    }
   }
  },
  {
   "cell_type": "code",
   "execution_count": 4,
   "source": [
    "list(map(lambda x: x.upper(), ['gato', 'cachorro', 'vaca']))"
   ],
   "outputs": [
    {
     "output_type": "execute_result",
     "data": {
      "text/plain": [
       "['GATO', 'CACHORRO', 'VACA']"
      ]
     },
     "metadata": {},
     "execution_count": 4
    }
   ],
   "metadata": {
    "slideshow": {
     "slide_type": "fragment"
    }
   }
  },
  {
   "cell_type": "code",
   "execution_count": 5,
   "source": [
    "list(filter(lambda x: 'o' in x, ['gato', 'cachorro', 'vaca']))"
   ],
   "outputs": [
    {
     "output_type": "execute_result",
     "data": {
      "text/plain": [
       "['gato', 'cachorro']"
      ]
     },
     "metadata": {},
     "execution_count": 5
    }
   ],
   "metadata": {
    "slideshow": {
     "slide_type": "fragment"
    }
   }
  },
  {
   "cell_type": "code",
   "execution_count": 6,
   "source": [
    "from functools import reduce\n",
    "\n",
    "pares = [(1, 'a'), (2, 'b'), (3, 'c')]\n",
    "reduce(lambda acc, par: acc + par[0], pares, 0)"
   ],
   "outputs": [
    {
     "output_type": "execute_result",
     "data": {
      "text/plain": [
       "6"
      ]
     },
     "metadata": {},
     "execution_count": 6
    }
   ],
   "metadata": {
    "slideshow": {
     "slide_type": "subslide"
    }
   }
  },
  {
   "cell_type": "code",
   "execution_count": 7,
   "source": [
    "reduce(lambda x, y: f\"{x}, {y}\", [0, 1, 2, 3, 4, 5, 6, 7, 8, 9])"
   ],
   "outputs": [
    {
     "output_type": "execute_result",
     "data": {
      "text/plain": [
       "'0, 1, 2, 3, 4, 5, 6, 7, 8, 9'"
      ]
     },
     "metadata": {},
     "execution_count": 7
    }
   ],
   "metadata": {
    "slideshow": {
     "slide_type": "fragment"
    }
   }
  },
  {
   "cell_type": "markdown",
   "source": [
    "**Atenção com lambdas**\n",
    "\n",
    "[PEP-8](https://www.python.org/dev/peps/pep-0008/#programming-recommendations):\n",
    "\n",
    "> Always use a def statement instead of an assignment statement that binds a lambda expression directly to an identifier.\n",
    "\n",
    "Você pode usar uma função `factorial` do módulo `math` da biblioteca padrão:"
   ],
   "metadata": {
    "slideshow": {
     "slide_type": "subslide"
    }
   }
  },
  {
   "cell_type": "code",
   "execution_count": 8,
   "source": [
    "from math import factorial\n",
    "\n",
    "n = 5\n",
    "factorial(n)"
   ],
   "outputs": [
    {
     "output_type": "execute_result",
     "data": {
      "text/plain": [
       "120"
      ]
     },
     "metadata": {},
     "execution_count": 8
    }
   ],
   "metadata": {
    "slideshow": {
     "slide_type": "fragment"
    }
   }
  },
  {
   "cell_type": "markdown",
   "source": [
    "Ou se torturar com uma lambda recursiva:"
   ],
   "metadata": {
    "slideshow": {
     "slide_type": "fragment"
    }
   }
  },
  {
   "cell_type": "code",
   "execution_count": 9,
   "source": [
    "(lambda f: (lambda x: f(lambda v: x(x)(v)))(lambda x: f(lambda v: x(x)(v))))(lambda f: (lambda i: 1 if (i == 0) else i * f(i - 1)))(n)"
   ],
   "outputs": [
    {
     "output_type": "execute_result",
     "data": {
      "text/plain": [
       "120"
      ]
     },
     "metadata": {},
     "execution_count": 9
    }
   ],
   "metadata": {
    "slideshow": {
     "slide_type": "fragment"
    }
   }
  },
  {
   "cell_type": "markdown",
   "source": [
    "## Atividade Função #1\n",
    "\n",
    "Fazer uma função chamada `potencia` que tem dois argumentos:\n",
    "* argumento `numero`: um numero real `float` ou inteiro `int`\n",
    "* argumento `potencia`: um numero real `float` ou inteiro `int`\n",
    "\n",
    "Ela deve retornar o argumento `numero` elevado ao argumento `potencia`"
   ],
   "metadata": {
    "slideshow": {
     "slide_type": "slide"
    }
   }
  },
  {
   "cell_type": "code",
   "execution_count": null,
   "source": [
    "def potencia(numero, potencia):\n",
    "    assert isinstance(numero, int) or isinstance(numero, float)\n",
    "    assert isinstance(potencia, int) or isinstance(potencia, float)\n",
    "    #return $$$$"
   ],
   "outputs": [],
   "metadata": {
    "slideshow": {
     "slide_type": "subslide"
    }
   }
  },
  {
   "cell_type": "code",
   "execution_count": null,
   "source": [
    "assert potencia(2, 3) == 8\n",
    "assert potencia(2, 3.6) == 12.125732532083186"
   ],
   "outputs": [],
   "metadata": {
    "slideshow": {
     "slide_type": "fragment"
    }
   }
  },
  {
   "cell_type": "code",
   "execution_count": null,
   "source": [
    "potencia(5, 2)"
   ],
   "outputs": [],
   "metadata": {
    "slideshow": {
     "slide_type": "fragment"
    }
   }
  },
  {
   "cell_type": "code",
   "execution_count": null,
   "source": [
    "def funcao(arg1, arg2):\n",
    "    print(arg1)\n",
    "    print(arg2)"
   ],
   "outputs": [],
   "metadata": {
    "slideshow": {
     "slide_type": "fragment"
    }
   }
  },
  {
   "cell_type": "markdown",
   "source": [
    "## Atividade Função #2\n",
    "\n",
    "Lembram-se que o módulo de um número inteiro pode determinar se ele é *ímpar* ou *par*?\n",
    "\n",
    "```python\n",
    "15 % 2    # 1\n",
    "14 % 2    # 0\n",
    "```\n",
    "\n",
    "Fazer uma função chamada `numero_par` que tem um argumento:\n",
    "* argumento `numero`: um numero inteiro `int`\n",
    "\n",
    "Ela deve testar se o número é par e retorna um `bool` `True` ou `False`"
   ],
   "metadata": {
    "slideshow": {
     "slide_type": "slide"
    }
   }
  },
  {
   "cell_type": "code",
   "execution_count": null,
   "source": [
    "def numero_par(numero):\n",
    "    assert isinstance(numero, int)\n",
    "    $$$$\n",
    "    return $$$"
   ],
   "outputs": [],
   "metadata": {
    "slideshow": {
     "slide_type": "subslide"
    }
   }
  },
  {
   "cell_type": "code",
   "execution_count": null,
   "source": [
    "assert numero_par(2) == True\n",
    "assert numero_par(3) == False"
   ],
   "outputs": [],
   "metadata": {
    "slideshow": {
     "slide_type": "subslide"
    }
   }
  },
  {
   "cell_type": "code",
   "execution_count": null,
   "source": [
    "numero_par(15)"
   ],
   "outputs": [],
   "metadata": {
    "scrolled": true,
    "slideshow": {
     "slide_type": "subslide"
    }
   }
  },
  {
   "cell_type": "markdown",
   "source": [
    "## Atividade Função #3\n",
    "Desenvolva uma função (denominada **calcula**) que receba 5 números (no formato de lista) e retorne: o maior e o menor número, a soma dos números e a média. Mostre separadamente os valores."
   ],
   "metadata": {
    "slideshow": {
     "slide_type": "subslide"
    }
   }
  },
  {
   "cell_type": "code",
   "execution_count": null,
   "source": [
    "def calcula(lista):\n",
    "    ##\n",
    "    return (maior, menor, soma, media)"
   ],
   "outputs": [],
   "metadata": {
    "slideshow": {
     "slide_type": "fragment"
    }
   }
  },
  {
   "cell_type": "code",
   "execution_count": null,
   "source": [
    "maior, menor, soma, media = calcula([1, 2, 3, 4, 5])\n",
    "print('Maior:', maior)\n",
    "print('Menor:', menor)\n",
    "print('Soma.:', soma)\n",
    "print('Média:', media)"
   ],
   "outputs": [],
   "metadata": {
    "slideshow": {
     "slide_type": "fragment"
    }
   }
  },
  {
   "cell_type": "markdown",
   "source": [
    "## Atividade Função #4\n",
    "Desenvolva uma expressão `lambda` que calcule o reajuste das parcelas (no formato de lista) em **4%** e mostre o resultado de cada uma já com o reajuste.\n",
    "\n",
    "Saída: [130.38, 245.22, 165.39, 244.41, 1065.53]"
   ],
   "metadata": {
    "slideshow": {
     "slide_type": "subslide"
    }
   }
  },
  {
   "cell_type": "code",
   "execution_count": null,
   "source": [
    "parcelas = [125.37, 235.79, 159.03, 235.01, 1024.55]\n",
    "reajustadas = list(map($$$)\n",
    "print(reajustadas)"
   ],
   "outputs": [],
   "metadata": {
    "slideshow": {
     "slide_type": "fragment"
    }
   }
  }
 ],
 "metadata": {
  "celltoolbar": "Slideshow",
  "kernelspec": {
   "display_name": "Python 3.8.10 64-bit",
   "language": "python",
   "name": "python3810jvsc74a57bd0916dbcbb3f70747c44a77c7bcd40155683ae19c65e1c03b4aa3499c5328201f1"
  },
  "language_info": {
   "codemirror_mode": {
    "name": "ipython",
    "version": 3
   },
   "file_extension": ".py",
   "mimetype": "text/x-python",
   "name": "python",
   "nbconvert_exporter": "python",
   "pygments_lexer": "ipython3",
   "version": "3.8.10"
  },
  "rise": {
   "autolaunch": true,
   "enable_chalkboard": true,
   "progress": true,
   "scroll": true,
   "slideNumber": true
  }
 },
 "nbformat": 4,
 "nbformat_minor": 4
}