{
 "cells": [
  {
   "cell_type": "markdown",
   "source": [
    "[![Binder](https://mybinder.org/badge_logo.svg)](https://mybinder.org/v2/gh/storopoli/ciencia-de-dados/main?filepath=notebooks%2FAula_0_Jupyter.ipynb)\r\n",
    "<br>\r\n",
    "[![Open In Colab](https://colab.research.google.com/assets/colab-badge.svg)](https://colab.research.google.com/github/storopoli/ciencia-de-dados/blob/main/notebooks/Aula_0_Jupyter.ipynb)"
   ],
   "metadata": {
    "slideshow": {
     "slide_type": "skip"
    }
   }
  },
  {
   "cell_type": "markdown",
   "source": [
    "# Jupyter\n",
    "\n",
    "**Objetivo**: Apresentar o ambiente Jupyter Notebook."
   ],
   "metadata": {
    "slideshow": {
     "slide_type": "slide"
    }
   }
  },
  {
   "cell_type": "markdown",
   "source": [
    "Documentação Jupyter Notebook: https://jupyter-notebook.readthedocs.io/en/stable/\n",
    "\n",
    "Lista de Kernels: https://github.com/jupyter/jupyter/wiki/Jupyter-kernels"
   ],
   "metadata": {
    "slideshow": {
     "slide_type": "fragment"
    }
   }
  },
  {
   "cell_type": "markdown",
   "source": [
    "## Arquivo\n",
    "\n",
    "Notebooks são documentos `JSON` com extensão `.ipynb` (**iPy**thon **N**ote**b**ook) \n",
    "\n",
    "Trabalha com células:\n",
    "* Código\n",
    "* Markdown"
   ],
   "metadata": {
    "slideshow": {
     "slide_type": "slide"
    }
   }
  },
  {
   "cell_type": "markdown",
   "source": [
    "### Salvando Notebooks\n",
    "\n",
    "* `.html`\n",
    "* `.md`\n",
    "* `.ipynb`\n",
    "* `.py`"
   ],
   "metadata": {
    "slideshow": {
     "slide_type": "subslide"
    }
   }
  },
  {
   "cell_type": "markdown",
   "source": [
    "## Comandos de Células\n",
    "\n",
    "* Para rodar a célula aperte `Shift + Enter`\n",
    "* Modo Comando `Esc`\n",
    "* Modo Edição `Enter`\n",
    "* Para inserir nova célula aperte `a` (para **antes** da célula selecionada) ou `b` (para **depois** da célula selecionada)\n",
    "* Para deletar célula aperte duas vezes `d` (delete)\n",
    "* Copiar célula(s) selecionada(s) aperte `c` (copy)\n",
    "* Colar célula(s) copiada(s) aperte `v` (paste)\n",
    "* Mudar tipo:\n",
    "    * Code `y`\n",
    "    * Markdown `m`"
   ],
   "metadata": {
    "slideshow": {
     "slide_type": "slide"
    }
   }
  },
  {
   "cell_type": "markdown",
   "source": [
    "### Célula de Código"
   ],
   "metadata": {
    "slideshow": {
     "slide_type": "subslide"
    }
   }
  },
  {
   "cell_type": "code",
   "execution_count": 1,
   "source": [
    "# Isto é uma celula de código\n",
    "\n",
    "print('Quantos cocos carrega uma andorinha?')"
   ],
   "outputs": [
    {
     "output_type": "stream",
     "name": "stdout",
     "text": [
      "Quantos cocos carrega uma andorinha?\n"
     ]
    }
   ],
   "metadata": {
    "slideshow": {
     "slide_type": "fragment"
    }
   }
  },
  {
   "cell_type": "markdown",
   "source": [
    "### Célula Markdown\n",
    "\n",
    "Veja documentação em: https://www.markdownguide.org/cheat-sheet/\n",
    "\n",
    "* LaTeX com entre dólar ( \\\\$ ): $P(A|B) = \\frac{P(B|A) P(A)}{P(B)}$\n",
    "* Código entre (\\```)\n",
    "```python\n",
    "print('Qual a velocidade de voo de uma andorinha sem carga?')\n",
    "```"
   ],
   "metadata": {
    "slideshow": {
     "slide_type": "subslide"
    }
   }
  },
  {
   "cell_type": "markdown",
   "source": [
    "## Comandos `shell` \n",
    "\n",
    "Use o *bang* `!`"
   ],
   "metadata": {
    "slideshow": {
     "slide_type": "slide"
    }
   }
  },
  {
   "cell_type": "code",
   "execution_count": 2,
   "source": [
    "!ls"
   ],
   "outputs": [
    {
     "output_type": "stream",
     "name": "stdout",
     "text": [
      "Atividade_TADS.ipynb\r\n",
      "Aula_0_Jupyter.ipynb\r\n",
      "Aula_10_Machine_Learning.ipynb\r\n",
      "Aula_11_Regressao_Linear.ipynb\r\n",
      "Aula_12_Regressao_Logistica.ipynb\r\n",
      "Aula_13_Support_Vector_Machines.ipynb\r\n",
      "Aula_14_Arvores_de_Decisao.ipynb\r\n",
      "Aula_15_Florestas_Aleatorias.ipynb\r\n",
      "Aula_16_Analise_de_Componentes_Principais.ipynb\r\n",
      "Aula_17_Clusterizacao.ipynb\r\n",
      "Aula_18_a_Redes_Neurais_com_TensorFlow.ipynb\r\n",
      "Aula_18_b_Redes_Neurais_com_PyTorch.ipynb\r\n",
      "Aula_1_Operadores_Aritmeticos_Relacionais_e_Logicos.ipynb\r\n",
      "Aula_2_Desvio_Condicional_IF.ipynb\r\n",
      "Aula_3_Estruturas_de_Repeticao.ipynb\r\n",
      "Aula_4_Estrutura_de_Dados.ipynb\r\n",
      "Aula_5a_Classes_e_Metodos.ipynb\r\n",
      "Aula_5_Funcoes.ipynb\r\n",
      "Aula_6_Numpy_Algebra_Linear.ipynb\r\n",
      "Aula_7_pandas.ipynb\r\n",
      "Aula_8_pandas_estatistica.ipynb\r\n",
      "Aula_9_graficos.ipynb\r\n",
      "Aula_Especial_Python.ipynb\r\n",
      "data\r\n",
      "images\r\n"
     ]
    }
   ],
   "metadata": {
    "slideshow": {
     "slide_type": "subslide"
    }
   }
  },
  {
   "cell_type": "code",
   "execution_count": 3,
   "source": [
    "# print working directory\n",
    "!pwd"
   ],
   "outputs": [
    {
     "output_type": "stream",
     "name": "stdout",
     "text": [
      "/home/storopoli/Documents/Python/ciencia-de-dados/notebooks\r\n"
     ]
    }
   ],
   "metadata": {
    "slideshow": {
     "slide_type": "subslide"
    }
   }
  },
  {
   "cell_type": "markdown",
   "source": [
    "## Jupyter Magic\n",
    "\n",
    "Tem [diversos](https://ipython.readthedocs.io/en/stable/interactive/magics.html), mas o que eu mais uso são:\n",
    "\n",
    "* `%timeit`: Cronometra o tempo de execução de uma **expressão** `Python`\n",
    "* `%%timeit`: Cronometra o tempo de execução de uma **célula**"
   ],
   "metadata": {
    "slideshow": {
     "slide_type": "slide"
    }
   }
  },
  {
   "cell_type": "code",
   "execution_count": 4,
   "source": [
    "%timeit 3**999999"
   ],
   "outputs": [
    {
     "output_type": "stream",
     "name": "stdout",
     "text": [
      "42.7 ms ± 35 µs per loop (mean ± std. dev. of 7 runs, 10 loops each)\n"
     ]
    }
   ],
   "metadata": {
    "slideshow": {
     "slide_type": "subslide"
    }
   }
  },
  {
   "cell_type": "code",
   "execution_count": 5,
   "source": [
    "%%timeit\n",
    "y = 5\n",
    "x = 3**999999"
   ],
   "outputs": [
    {
     "output_type": "stream",
     "name": "stdout",
     "text": [
      "42.7 ms ± 43.5 µs per loop (mean ± std. dev. of 7 runs, 10 loops each)\n"
     ]
    }
   ],
   "metadata": {
    "slideshow": {
     "slide_type": "fragment"
    }
   }
  }
 ],
 "metadata": {
  "celltoolbar": "Slideshow",
  "kernelspec": {
   "display_name": "Python [conda env:root] *",
   "language": "python",
   "name": "conda-root-py"
  },
  "language_info": {
   "codemirror_mode": {
    "name": "ipython",
    "version": 3
   },
   "file_extension": ".py",
   "mimetype": "text/x-python",
   "name": "python",
   "nbconvert_exporter": "python",
   "pygments_lexer": "ipython3",
   "version": "3.9.6"
  },
  "rise": {
   "autolaunch": true,
   "enable_chalkboard": true,
   "progress": true,
   "scroll": true,
   "slideNumber": true
  }
 },
 "nbformat": 4,
 "nbformat_minor": 4
}