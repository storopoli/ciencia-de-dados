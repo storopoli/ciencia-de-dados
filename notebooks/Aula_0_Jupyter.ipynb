{
 "cells": [
  {
   "cell_type": "markdown",
   "metadata": {
    "slideshow": {
     "slide_type": "skip"
    }
   },
   "source": [
    "[![Binder](https://mybinder.org/badge_logo.svg)](https://mybinder.org/v2/gh/storopoli/ciencia-de-dados/master?filepath=notebooks%2FAula_0_Jupyter.ipynb)\n",
    "<br>\n",
    "[![Open In Colab](https://colab.research.google.com/assets/colab-badge.svg)](https://colab.research.google.com/github/storopoli/ciencia-de-dados/blob/master/notebooks/Aula_0_Jupyter.ipynb)"
   ]
  },
  {
   "cell_type": "markdown",
   "metadata": {
    "slideshow": {
     "slide_type": "slide"
    }
   },
   "source": [
    "# Jupyter\n",
    "\n",
    "**Objetivo**: Apresentar o ambiente Jupyter Notebook."
   ]
  },
  {
   "cell_type": "markdown",
   "metadata": {
    "slideshow": {
     "slide_type": "fragment"
    }
   },
   "source": [
    "Documentação Jupyter Notebook: https://jupyter-notebook.readthedocs.io/en/stable/\n",
    "\n",
    "Lista de Kernels: https://github.com/jupyter/jupyter/wiki/Jupyter-kernels"
   ]
  },
  {
   "cell_type": "markdown",
   "metadata": {
    "slideshow": {
     "slide_type": "slide"
    }
   },
   "source": [
    "## Arquivo\n",
    "\n",
    "Notebooks são documentos `JSON` com extensão `.ipynb` (**iPy**thon **N**ote**b**ook) \n",
    "\n",
    "Trabalha com células:\n",
    "* Código\n",
    "* Markdown"
   ]
  },
  {
   "cell_type": "markdown",
   "metadata": {
    "slideshow": {
     "slide_type": "subslide"
    }
   },
   "source": [
    "### Salvando Notebooks\n",
    "\n",
    "* `.html`\n",
    "* `.md`\n",
    "* `.ipynb`\n",
    "* `.py`"
   ]
  },
  {
   "cell_type": "markdown",
   "metadata": {
    "slideshow": {
     "slide_type": "slide"
    }
   },
   "source": [
    "## Comandos de Células\n",
    "\n",
    "* Para rodar a célula aperte `Shift + Enter`\n",
    "* Modo Comando `Esc`\n",
    "* Modo Edição `Enter`\n",
    "* Para inserir nova célula aperte `a` (para **antes** da célula selecionada) ou `b` (para **depois** da célula selecionada)\n",
    "* Para deletar célula aperte duas vezes `d` (delete)\n",
    "* Copiar célula(s) selecionada(s) aperte `c` (copy)\n",
    "* Colar célula(s) copiada(s) aperte `v` (paste)\n",
    "* Mudar tipo:\n",
    "    * Code `y`\n",
    "    * Markdown `m`"
   ]
  },
  {
   "cell_type": "markdown",
   "metadata": {
    "slideshow": {
     "slide_type": "subslide"
    }
   },
   "source": [
    "### Célula de Código"
   ]
  },
  {
   "cell_type": "code",
   "execution_count": 1,
   "metadata": {
    "slideshow": {
     "slide_type": "fragment"
    }
   },
   "outputs": [
    {
     "name": "stdout",
     "output_type": "stream",
     "text": [
      "Quantos cocos carrega uma andorinha?\n"
     ]
    }
   ],
   "source": [
    "# Isto é uma celula de código\n",
    "\n",
    "print('Quantos cocos carrega uma andorinha?')"
   ]
  },
  {
   "cell_type": "markdown",
   "metadata": {
    "slideshow": {
     "slide_type": "subslide"
    }
   },
   "source": [
    "### Célula Markdown\n",
    "\n",
    "Veja documentação em: https://www.markdownguide.org/cheat-sheet/\n",
    "\n",
    "* LaTeX com entre dólar ( \\\\$ ): $P(A|B) = \\frac{P(B|A) P(A)}{P(B)}$\n",
    "* Código entre (\\```)\n",
    "```python\n",
    "print('Qual a velocidade de voo de uma andorinha sem carga?')\n",
    "```"
   ]
  },
  {
   "cell_type": "markdown",
   "metadata": {
    "slideshow": {
     "slide_type": "slide"
    }
   },
   "source": [
    "## Comandos `shell` \n",
    "\n",
    "Use o *bang* `!`"
   ]
  },
  {
   "cell_type": "code",
   "execution_count": 2,
   "metadata": {
    "slideshow": {
     "slide_type": "subslide"
    }
   },
   "outputs": [
    {
     "name": "stdout",
     "output_type": "stream",
     "text": [
      "Atividade_TADS.ipynb\r\n",
      "Aula_0_Jupyter.ipynb\r\n",
      "Aula_10_Machine_Learning.ipynb\r\n",
      "Aula_11_Regressao_Linear.ipynb\r\n",
      "Aula_12_Regressao_Logistica.ipynb\r\n",
      "Aula_13_Support_Vector_Machines.ipynb\r\n",
      "Aula_14_Arvores_de_Decisao.ipynb\r\n",
      "Aula_15_Florestas_Aleatorias.ipynb\r\n",
      "Aula_16_Analise_de_Componentes_Principais.ipynb\r\n",
      "Aula_17_Clusterizacao.ipynb\r\n",
      "Aula_18_a_Redes_Neurais_com_TensorFlow.ipynb\r\n",
      "Aula_18_b_Redes_Neurais_com_PyTorch.ipynb\r\n",
      "Aula_1_Operadores_Aritmeticos_Relacionais_e_Logicos.ipynb\r\n",
      "Aula_2_Desvio_Condicional_IF.ipynb\r\n",
      "Aula_3_Estruturas_de_Repeticao.ipynb\r\n",
      "Aula_4_Estrutura_de_Dados.ipynb\r\n",
      "Aula_5a_Classes_e_Metodos.ipynb\r\n",
      "Aula_5_Funcoes.ipynb\r\n",
      "Aula_6_Numpy_Algebra_Linear.ipynb\r\n",
      "Aula_7_pandas.ipynb\r\n",
      "Aula_8_pandas_estatistica.ipynb\r\n",
      "Aula_9_graficos.ipynb\r\n",
      "Aula_Especial_Python.ipynb\r\n",
      "data\r\n",
      "images\r\n"
     ]
    }
   ],
   "source": [
    "!ls"
   ]
  },
  {
   "cell_type": "code",
   "execution_count": 3,
   "metadata": {
    "slideshow": {
     "slide_type": "subslide"
    }
   },
   "outputs": [
    {
     "name": "stdout",
     "output_type": "stream",
     "text": [
      "/home/storopoli/Documents/Python/ciencia-de-dados/notebooks\r\n"
     ]
    }
   ],
   "source": [
    "# print working directory\n",
    "!pwd"
   ]
  },
  {
   "cell_type": "markdown",
   "metadata": {
    "slideshow": {
     "slide_type": "slide"
    }
   },
   "source": [
    "## Jupyter Magic\n",
    "\n",
    "Tem [diversos](https://ipython.readthedocs.io/en/stable/interactive/magics.html), mas o que eu mais uso são:\n",
    "\n",
    "* `%timeit`: Cronometra o tempo de execução de uma **expressão** `Python`\n",
    "* `%%timeit`: Cronometra o tempo de execução de uma **célula**"
   ]
  },
  {
   "cell_type": "code",
   "execution_count": 4,
   "metadata": {
    "slideshow": {
     "slide_type": "subslide"
    }
   },
   "outputs": [
    {
     "name": "stdout",
     "output_type": "stream",
     "text": [
      "42.7 ms ± 35 µs per loop (mean ± std. dev. of 7 runs, 10 loops each)\n"
     ]
    }
   ],
   "source": [
    "%timeit 3**999999"
   ]
  },
  {
   "cell_type": "code",
   "execution_count": 5,
   "metadata": {
    "slideshow": {
     "slide_type": "fragment"
    }
   },
   "outputs": [
    {
     "name": "stdout",
     "output_type": "stream",
     "text": [
      "42.7 ms ± 43.5 µs per loop (mean ± std. dev. of 7 runs, 10 loops each)\n"
     ]
    }
   ],
   "source": [
    "%%timeit\n",
    "y = 5\n",
    "x = 3**999999"
   ]
  }
 ],
 "metadata": {
  "celltoolbar": "Slideshow",
  "kernelspec": {
   "display_name": "Python [conda env:root] *",
   "language": "python",
   "name": "conda-root-py"
  },
  "language_info": {
   "codemirror_mode": {
    "name": "ipython",
    "version": 3
   },
   "file_extension": ".py",
   "mimetype": "text/x-python",
   "name": "python",
   "nbconvert_exporter": "python",
   "pygments_lexer": "ipython3",
   "version": "3.9.6"
  },
  "rise": {
   "autolaunch": true,
   "enable_chalkboard": true,
   "progress": true,
   "scroll": true,
   "slideNumber": true
  }
 },
 "nbformat": 4,
 "nbformat_minor": 4
}
