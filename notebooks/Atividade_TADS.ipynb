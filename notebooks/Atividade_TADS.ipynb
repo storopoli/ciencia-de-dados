{
 "cells": [
  {
   "cell_type": "markdown",
   "metadata": {},
   "source": [
    "[![Binder](https://mybinder.org/badge_logo.svg)](https://mybinder.org/v2/gh/diegobilhalva/ciencia-de-dados/main?filepath=notebooks%2FAtividade_TADS.ipynb)\n",
    "<br>\n",
    "[![Open In Colab](https://colab.research.google.com/assets/colab-badge.svg)](https://colab.research.google.com/github/diegobilhalva/ciencia-de-dados/blob/main/notebooks/Atividade_TADS.ipynb)"
   ]
  },
  {
   "cell_type": "markdown",
   "metadata": {
    "id": "DaKJno4WTNa2"
   },
   "source": [
    "# Atividade TADS\n",
    "\n",
    "Nesta atividadade que, conforme orientação da coordenação, vale 60% da média do aluno, o objetivo é **desenvolver e treinar um algoritmo de regressão linear** para prever o preço de um diamante.\n",
    "\n",
    "Lembrando que preço é uma variável quantitativa, portanto estamos em um problema de aprendizagem supervisionada de regressão.\n",
    "\n",
    "## Sobre o Dataset Diamonds\n",
    "\n",
    "O dataset diamonds foi baixado pelo Kaggle e pode ser encontrado neste [link](https://www.kaggle.com/shivam2503/diamonds). Está em formato de valores separados por vírgula (`.CSV`).\n",
    "\n",
    "Ele possui as seguintes variáveis:\n",
    "* `carat` peso do diamante em quilates\n",
    "* `cut` qualidade do corte do diamante\n",
    "* `color` cor do diamante\n",
    "* `clarity` uma medida de transparência do diamante\n",
    "* `depth` profundidade total em pontos percentuais\n",
    "* `table` largura do topo do diamante relativo ao seu ponto mais largo\n",
    "* **`price`: preço em dólares do diamante**\n",
    "* `x` comprimento em milímetros\n",
    "* `y` largura em milímetros\n",
    "* `z` profundidade em milímetros"
   ]
  },
  {
   "cell_type": "markdown",
   "metadata": {
    "id": "2XpwULXmYzGI"
   },
   "source": [
    "## Etapas da Atividade\n",
    "\n",
    "1. Importar o dataset no pandas (`pd.read_csv`):\n",
    "  1. se atentar com os `index_col`.\n",
    "  2. especificar os `dtypes` -- tem muita variável qualitativa nesse dataset. Usar o argumento `dtype` do `pd.read_csv` que aceita um dicionário. Ver a documentação do pandas.\n",
    "\n",
    "2. Calcular algumas estatísticas dos dados com pandas `groupby`:\n",
    "  1. Média e Mediana do `price` por `cut`\n",
    "    * Guardar em variáveis: `mean_price_cut` e `median_price_cut`.\n",
    "  2. Média e Mediana do `carat` por `color`\n",
    "    * Guardar em variáveis: `mean_carat_color` e `median_carat_color`.\n",
    "\n",
    "3. Fazer alguns gráficos dos dados com o matplotlib.pyplot (Obs: pode usar direto a API do pandas para gráficos `Pd.plot`):\n",
    "  1. Histograma `hist` da variável `price`. Adicionar um título com `plt.title()` e adicionar os rótulos do eixo X e Y `plt.xlab()` e `plt.ylabel()`.\n",
    "  2. Gráfico de barras `bar` da variável `cut` (cuidado com o `Pd.Series.value_counts()`). Adicionar um título com `plt.title()` e adicionar os rótulos do eixo X e Y `plt.xlab()` e `plt.ylabel()`.\n",
    "\n",
    "4. Preparar os dados para o Scikit-Learn\n",
    "  1. Codificar as variáveis qualitativas `cut`, `color` e `clarity` com dummies (OBS: atividade já realizada, inserida apenas para aprendizagem)\n",
    "  2. Criar o dataset `X` com todas as variáveis do `df_final` **menos** `price`.\n",
    "  3. Criar a resposta `y` **somente** com `price`.\n",
    "  4. Quebrar em dados de treino e de teste com o `train_test_split`. Usar o padrão `test_size = 0.25`. **Não passar seed** no `random_state` pois estamos já setando uma global com o `np.random.seed`.\n",
    "\n",
    "5. Treinar um modelo `LinearRegression` do Scikit-Learn para prever o `price` do diamante:\n",
    "  1. Reportar o erro absoluto médio `mean_absolute_error` do seu modelo nos dados de treino e dados de teste. Guardar em variáveis `mae_train` e `mae_test`.\n"
   ]
  },
  {
   "cell_type": "code",
   "execution_count": null,
   "metadata": {
    "id": "1dMuccWQV6MI"
   },
   "outputs": [],
   "source": [
    "import pandas as pd\n",
    "import numpy as np\n",
    "import matplotlib.pyplot as plt\n",
    "from sklearn.model_selection import train_test_split\n",
    "from sklearn.linear_model import LinearRegression\n",
    "from sklearn.metrics import mean_absolute_error\n",
    "\n",
    "%matplotlib inline\n",
    "\n",
    "# Importante não mudar essa seed pois sua atividade será avaliada baseada nos resultados dessa seed\n",
    "np.random.seed(123)"
   ]
  },
  {
   "cell_type": "code",
   "execution_count": null,
   "metadata": {
    "id": "Oy5zGaoViV8H"
   },
   "outputs": [],
   "source": [
    "# 1. Importar no Pandas\n",
    "df = pd.read_csv('https://github.com/storopoli/ciencia-de-dados/raw/main/notebooks/data/diamonds.csv',\n",
    "                 index_col=$$$,\n",
    "                 dtype=$$)"
   ]
  },
  {
   "cell_type": "code",
   "execution_count": null,
   "metadata": {
    "id": "c22_uVYFiWxv"
   },
   "outputs": [],
   "source": [
    "# 2. Groupbys\n",
    "mean_price_cut = $$$\n",
    "median_price_cut = $$$\n",
    "mean_carat_color = $$$\n",
    "median_carat_color = $$$"
   ]
  },
  {
   "cell_type": "code",
   "execution_count": null,
   "metadata": {
    "id": "gxQyPXw9idme"
   },
   "outputs": [],
   "source": [
    "# 3. Plots\n",
    "$$$"
   ]
  },
  {
   "cell_type": "code",
   "execution_count": null,
   "metadata": {
    "id": "VR4AnYsthhAV"
   },
   "outputs": [],
   "source": [
    "# 4. Pré-processamento Scikit-Learn\n",
    "df_final = pd.get_dummies(df, columns=['cut', 'color', 'clarity'])\n",
    "\n",
    "X = $$$\n",
    "y = $$$\n",
    "\n",
    "X_train, X_test, y_train, y_test = train_test_split($$$)"
   ]
  },
  {
   "cell_type": "code",
   "execution_count": null,
   "metadata": {
    "id": "HS5uDcNyincv"
   },
   "outputs": [],
   "source": [
    "# 5. Treinamento do Modelo\n",
    "clf = LinearRegression()\n",
    "clf.fit($$$)\n",
    "\n",
    "y_pred_train = $$$\n",
    "mae_train = mean_absolute_error(y_pred_train, y_train)\n",
    "\n",
    "y_pred_test = $$$\n",
    "mae_test = mean_absolute_error(y_pred_test, y_test)\n",
    "\n",
    "print(f\"MAE Treino: {mae_train}\")\n",
    "print(f\"MAE Teste: {mae_test}\")"
   ]
  },
  {
   "cell_type": "code",
   "execution_count": null,
   "metadata": {
    "id": "zPyVxTUScPJx"
   },
   "outputs": [],
   "source": [
    "from numpy.testing import assert_approx_equal\n",
    "\n",
    "# Groupbys\n",
    "assert_approx_equal(mean_price_cut['Good'], 3928.8644)\n",
    "assert_approx_equal(median_price_cut['Fair'], 3282)\n",
    "assert_approx_equal(mean_carat_color['D'], 0.657794833)\n",
    "assert_approx_equal(median_carat_color['H'], 0.9)\n",
    "\n",
    "# MAEs\n",
    "assert_approx_equal(mae_train, 739.279089)\n",
    "assert_approx_equal(mae_test, 742.526558)"
   ]
  }
 ],
 "metadata": {
  "colab": {
   "collapsed_sections": [],
   "name": "Atividade_TADS.ipynb",
   "provenance": [],
   "toc_visible": true
  },
  "kernelspec": {
   "display_name": "Python 3",
   "language": "python",
   "name": "python3"
  },
  "language_info": {
   "codemirror_mode": {
    "name": "ipython",
    "version": 3
   },
   "file_extension": ".py",
   "mimetype": "text/x-python",
   "name": "python",
   "nbconvert_exporter": "python",
   "pygments_lexer": "ipython3",
   "version": "3.8.6"
  }
 },
 "nbformat": 4,
 "nbformat_minor": 4
}
