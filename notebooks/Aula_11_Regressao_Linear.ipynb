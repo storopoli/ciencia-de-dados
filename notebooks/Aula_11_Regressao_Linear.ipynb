{
 "cells": [
  {
   "cell_type": "markdown",
   "metadata": {
    "slideshow": {
     "slide_type": "skip"
    }
   },
   "source": [
    "[![Binder](https://mybinder.org/badge_logo.svg)](https://mybinder.org/v2/gh/storopoli/ciencia-de-dados/main?filepath=notebooks%2FAula_11_Regressao_Linear.ipynb)\n",
    "<br>\n",
    "[![Open In Colab](https://colab.research.google.com/assets/colab-badge.svg)](https://colab.research.google.com/github/storopoli/ciencia-de-dados/blob/main/notebooks/Aula_11_Regressao_Linear.ipynb)"
   ]
  },
  {
   "cell_type": "markdown",
   "metadata": {
    "slideshow": {
     "slide_type": "slide"
    }
   },
   "source": [
    "# Regressão Linear\n",
    "\n",
    "**Objetivos**: Aprender o que é Regressão Linear e introduzir intuições sobre o Método do Gradiente e o Método do Gradiente Estocástico assim como os problemas de regressão de aprendizagem de máquina. Apresentar a biblioteca `SciKit-Learn`."
   ]
  },
  {
   "cell_type": "markdown",
   "metadata": {
    "slideshow": {
     "slide_type": "subslide"
    }
   },
   "source": [
    "## Defininição - Regressão Linear\n",
    "\n",
    "> Uma regressão linear faz uma predição simplesmente computando uma soma ponderada dos atributos (*features*), mais uma constante chamada viés (*bias*), também chamado de constante (*intercept*)."
   ]
  },
  {
   "cell_type": "markdown",
   "metadata": {
    "slideshow": {
     "slide_type": "subslide"
    }
   },
   "source": [
    "<img src=\"images/reg-linear.png\" alt=\"reg-linear\" style=\"width: 400px;\"/>"
   ]
  },
  {
   "cell_type": "markdown",
   "metadata": {
    "slideshow": {
     "slide_type": "subslide"
    }
   },
   "source": [
    "$$ \\hat{y} = \\theta_0 + \\theta_1 x_1 + \\theta_2 x_2 + \\dots + \\theta_n x_n$$\n",
    "\n",
    "$\\hat{y}$ - valor previsto\n",
    "\n",
    "$\\theta$ - parâmetro do modelo\n",
    "\n",
    "$n$ - número de atributos (*features*)\n",
    "\n",
    "$x_i$ - o valor do *inésimo* atributo (*feature*)"
   ]
  },
  {
   "cell_type": "markdown",
   "metadata": {
    "slideshow": {
     "slide_type": "fragment"
    }
   },
   "source": [
    "### Exemplo\n",
    "\n",
    "$$\\mathrm{preço~de~residência} = 4500 + 1000\\times \\mathrm{quartos} + 120 \\times \\mathrm{m}^2 + 3000 \\times \\mathrm{banheiros} - 1500 \\times \\mathrm{distância~do~centro~km}$$"
   ]
  },
  {
   "cell_type": "markdown",
   "metadata": {
    "slideshow": {
     "slide_type": "slide"
    }
   },
   "source": [
    "## Métricas de Desempenho de uma Regressão\n",
    "\n",
    "<img src=\"images/erro-reg.png\" alt=\"erro-reg\" style=\"width: 400px;\"/>"
   ]
  },
  {
   "cell_type": "markdown",
   "metadata": {
    "slideshow": {
     "slide_type": "subslide"
    }
   },
   "source": [
    "### *Mean Squared Error* (MSE) - Erro Quadrático Médio\n",
    "\n",
    "$$MSE = \\frac{1}{m}\\Sigma_{i=1}^{m}{(\\hat{y}_i - y_i)^2}$$\n",
    "\n",
    "### *Mean Absolute Error* (MAE) - Erro Absoluto Médio\n",
    "$$MAE = \\frac{1}{m}\\Sigma_{i=1}^{m}{|\\hat{y}_i - y_i|}$$"
   ]
  },
  {
   "cell_type": "markdown",
   "metadata": {
    "slideshow": {
     "slide_type": "subslide"
    }
   },
   "source": [
    "<img src=\"images/gradient-descent.gif\" alt=\"gradient-descent-animation\" style=\"width: 500px;\"/>"
   ]
  },
  {
   "cell_type": "markdown",
   "metadata": {
    "slideshow": {
     "slide_type": "subslide"
    }
   },
   "source": [
    "<img src=\"images/gradient-descent-2.gif\" alt=\"gradient-descent-animation\" style=\"width: 500px;\"/>"
   ]
  },
  {
   "cell_type": "markdown",
   "metadata": {
    "slideshow": {
     "slide_type": "slide"
    }
   },
   "source": [
    "## Exemplo com o dataset [Boston House Prices](https://scikit-learn.org/stable/datasets/toy_dataset.html#boston-house-prices-dataset)\n",
    "\n",
    "\n",
    "* $N = 506$\n",
    "* Atributos: 13\n",
    "    * `CRIM` crime per capita da região\n",
    "    * `ZN` proporção de terra residencial\n",
    "    * `INDUS` proporção terra comercial não-varejista\n",
    "    * `CHAS` *Dummy* se fica as margens do Charles River (1 ou 0)\n",
    "    * `NOX` concentração de óxido nítrico (partes por 10 milhões)\n",
    "    * `RM` número de quartos\n",
    "    * `AGE` idade da residência\n",
    "    * `DIS` distância dos cinco centros de emprego de Boston\n",
    "    * `RAD` acessibilidade às rodovias radiais\n",
    "    * `TAX` valor do IPTU por 10,000 USD\n",
    "    * `PTRATIO` relação professor-aluno (*pupil-teacher ratio*) da região\n",
    "    * `B` proporção de afro-descendentes na região\n",
    "    * `LSTAT` porcentagem de população de baixa-renda\n",
    "* **Variável resposta**: valor da casa por 10,000 USD"
   ]
  },
  {
   "cell_type": "code",
   "execution_count": 1,
   "metadata": {
    "slideshow": {
     "slide_type": "subslide"
    }
   },
   "outputs": [
    {
     "name": "stderr",
     "output_type": "stream",
     "text": [],
   "source": [
    "from sklearn.datasets import load_boston\n",
    "\n",
    "boston = load_boston()\n",
    "X = boston['data']\n",
    "y = boston['target']"
   ]
  },
  {
   "cell_type": "code",
   "execution_count": 2,
   "metadata": {
    "slideshow": {
     "slide_type": "subslide"
    }
   },
   "outputs": [
    {
     "name": "stdout",
     "output_type": "stream",
     "text": [
      "Nomes dos Atributos: ['CRIM' 'ZN' 'INDUS' 'CHAS' 'NOX' 'RM' 'AGE' 'DIS' 'RAD' 'TAX' 'PTRATIO'\n",
      " 'B' 'LSTAT']\n",
      "Tamanho de X: (506, 13)\n",
      "Tamanho de y: (506,)\n"
     ]
    }
   ],
   "source": [
    "print(f\"Nomes dos Atributos: {boston['feature_names']}\")\n",
    "print(f\"Tamanho de X: {X.shape}\")\n",
    "print(f\"Tamanho de y: {y.shape}\")"
   ]
  },
  {
   "cell_type": "markdown",
   "metadata": {
    "slideshow": {
     "slide_type": "subslide"
    }
   },
   "source": [
    "### Quebrando dataset em `train` e `test`\n",
    "\n",
    "Usar a função do Scikit-Learn [`sklearn.model_selection.train_test_split()`](https://scikit-learn.org/stable/modules/generated/sklearn.model_selection.train_test_split.html)\n",
    "\n",
    "#### Argumentos:\n",
    "\n",
    "* matriz a ser dividida - `X` ou `y`\n",
    "* `test_size` - `float` ou `int` do tamanho do dataset de teste (padrão $0.25$)\n",
    "* `train_size` - padrão `1 - test_size`\n",
    "* `random_state` - `int` - seed do gerador de número randômicos (replicabilidade)"
   ]
  },
  {
   "cell_type": "code",
   "execution_count": 3,
   "metadata": {
    "slideshow": {
     "slide_type": "subslide"
    }
   },
   "outputs": [],
   "source": [
    "from sklearn.model_selection import train_test_split\n",
    "\n",
    "X_train, X_test, y_train, y_test = train_test_split(X,\n",
    "                                                    y,\n",
    "                                                    test_size=0.25,\n",
    "                                                    random_state=123)"
   ]
  },
  {
   "cell_type": "code",
   "execution_count": 4,
   "metadata": {
    "slideshow": {
     "slide_type": "subslide"
    }
   },
   "outputs": [
    {
     "name": "stdout",
     "output_type": "stream",
     "text": [
      "Tamanho de X_train: (379, 13)\n",
      "Tamanho de X_test: (127, 13)\n",
      "Tamanho de y_train: (379,)\n",
      "Tamanho de y_test: (127,)\n"
     ]
    }
   ],
   "source": [
    "print(f\"Tamanho de X_train: {X_train.shape}\")\n",
    "print(f\"Tamanho de X_test: {X_test.shape}\")\n",
    "print(f\"Tamanho de y_train: {y_train.shape}\")\n",
    "print(f\"Tamanho de y_test: {y_test.shape}\")"
   ]
  },
  {
   "cell_type": "markdown",
   "metadata": {
    "slideshow": {
     "slide_type": "subslide"
    }
   },
   "source": [
    "### Regressão Linear\n",
    "Usar a função do Scikit-Learn [`sklearn.linear_model.LinearRegression()`](https://scikit-learn.org/stable/modules/generated/sklearn.linear_model.LinearRegression.html)\n",
    "\n",
    "#### Retorna:\n",
    "* Objeto `estimator` do Scikit-Learn"
   ]
  },
  {
   "cell_type": "code",
   "execution_count": 5,
   "metadata": {
    "slideshow": {
     "slide_type": "subslide"
    }
   },
   "outputs": [],
   "source": [
    "from sklearn.linear_model import LinearRegression\n",
    "\n",
    "clf = LinearRegression()"
   ]
  },
  {
   "cell_type": "markdown",
   "metadata": {
    "slideshow": {
     "slide_type": "subslide"
    }
   },
   "source": [
    "### Classe `Estimators`\n",
    "\n",
    "* `.fit()` - Treina o Modelo\n",
    "    * `X`\n",
    "    * `y`\n",
    "* `.predict()` - Gera predições do modelo\n",
    "    * `X`\n",
    "* `.coef_` - Retorna os coeficientes do modelo ($\\theta_i$)\n",
    "* `.intercept_` - Retorna o viés/constante (*bias/intercept*) do modelo ($\\theta_0$)"
   ]
  },
  {
   "cell_type": "code",
   "execution_count": 6,
   "metadata": {
    "slideshow": {
     "slide_type": "subslide"
    }
   },
   "outputs": [
    {
     "data": {
      "text/plain": [
       "LinearRegression()"
      ]
     },
     "execution_count": 6,
     "metadata": {},
     "output_type": "execute_result"
    }
   ],
   "source": [
    "clf.fit(X_train, y_train)"
   ]
  },
  {
   "cell_type": "code",
   "execution_count": 7,
   "metadata": {},
   "outputs": [
    {
     "data": {
      "text/plain": [
       "[-0.0978910352225638,\n",
       " 0.042778934770087484,\n",
       " 0.059149350730374396,\n",
       " 1.2314983223913494,\n",
       " -15.490255817248162,\n",
       " 4.352157244999684,\n",
       " -0.0004691367973256389,\n",
       " -1.3772064509938096,\n",
       " 0.28208574937892705,\n",
       " -0.012491944544221069,\n",
       " -0.9400115034030595,\n",
       " 0.006622607126908275,\n",
       " -0.548551054070872]"
      ]
     },
     "execution_count": 7,
     "metadata": {},
     "output_type": "execute_result"
    }
   ],
   "source": [
    "clf.coef_.tolist()"
   ]
  },
  {
   "cell_type": "code",
   "execution_count": 8,
   "metadata": {
    "slideshow": {
     "slide_type": "subslide"
    }
   },
   "outputs": [
    {
     "name": "stdout",
     "output_type": "stream",
     "text": [
      "CRIM: 0\n",
      "ZN: 0\n",
      "INDUS: 0\n",
      "CHAS: 1\n",
      "NOX: -15\n",
      "RM: 4\n",
      "AGE: 0\n",
      "DIS: -1\n",
      "RAD: 0\n",
      "TAX: 0\n",
      "PTRATIO: 0\n",
      "B: 0\n",
      "LSTAT: 0\n",
      "Constante: 32\n"
     ]
    }
   ],
   "source": [
    "# Coeficientes do modelo\n",
    "for feature, coef in zip(boston['feature_names'].tolist(), clf.coef_.tolist()):\n",
    "    print(f\"{feature}: {int(coef)}\")\n",
    "\n",
    "# Constante do modelo\n",
    "print(f\"Constante: {int(clf.intercept_)}\")"
   ]
  },
  {
   "cell_type": "markdown",
   "metadata": {
    "slideshow": {
     "slide_type": "slide"
    }
   },
   "source": [
    "### Erro do Modelo\n",
    "\n",
    "Erro do Modelo é $\\pm \\sqrt{MSE}$"
   ]
  },
  {
   "cell_type": "code",
   "execution_count": 9,
   "metadata": {
    "slideshow": {
     "slide_type": "subslide"
    }
   },
   "outputs": [
    {
     "name": "stdout",
     "output_type": "stream",
     "text": [
      "MSE de Teste: 24.8\n",
      "MAE de Teste: 3.4\n"
     ]
    }
   ],
   "source": [
    "from sklearn.metrics import mean_absolute_error, mean_squared_error\n",
    "\n",
    "y_pred = clf.predict(X_test)\n",
    "\n",
    "print(f\"MSE de Teste: {mean_squared_error(y_test, y_pred):1.1f}\")\n",
    "print(f\"MAE de Teste: {mean_absolute_error(y_test, y_pred):1.1f}\")"
   ]
  },
  {
   "cell_type": "markdown",
   "metadata": {
    "slideshow": {
     "slide_type": "slide"
    }
   },
   "source": [
    "## Atividade - Regressão com o dataset [Diabetes](https://scikit-learn.org/stable/datasets/toy_dataset.html#diabetes-dataset)\n",
    "\n",
    "* $N = 442$\n",
    "* Atributos: 10\n",
    "    * `age`\n",
    "    * `sex`\n",
    "    * `bmi` Índice de Massa Corpórea (IMC) - *Body Mass Index* (BMI)\n",
    "    * `bp` pressão arterial média *blood pressure* (bp)\n",
    "    * `s1` colesterol total\n",
    "    * `s2` colesterol LDL\n",
    "    * `s3` colesterol HDL\n",
    "    * `s4` colesterol VLDL\n",
    "    * `s5` triglicerides\n",
    "    * `s6` glicose\n",
    "* Variável dependente: medida quantitativa de progressão da diabetes\n",
    "\n",
    "* Rodem o `LinearRegression()` nos dados de treino e mensure o desempenho nos dados de teste.\n",
    "\n",
    ">Obs: usar `test_size = 0.25` e `random_state = 123`"
   ]
  },
  {
   "cell_type": "code",
   "execution_count": null,
   "metadata": {
    "slideshow": {
     "slide_type": "subslide"
    }
   },
   "outputs": [],
   "source": [
    "from sklearn.datasets import load_diabetes\n",
    "\n",
    "diabetes = load_diabetes()\n",
    "X = diabetes['data']\n",
    "y = diabetes['target']"
   ]
  },
  {
   "cell_type": "code",
   "execution_count": null,
   "metadata": {
    "slideshow": {
     "slide_type": "subslide"
    }
   },
   "outputs": [],
   "source": [
    "print(f\"Nomes dos Atributos: {diabetes['feature_names']}\")\n",
    "print(f\"Tamanho de X: {X.shape}\")\n",
    "print(f\"Tamanho de y: {y.shape}\")"
   ]
  },
  {
   "cell_type": "code",
   "execution_count": null,
   "metadata": {
    "slideshow": {
     "slide_type": "subslide"
    }
   },
   "outputs": [],
   "source": [
    "from sklearn.model_selection import train_test_split\n",
    "\n",
    "X_train, X_test, y_train, y_test = train_test_split(X, y, test_size=0.25, random_state=123)"
   ]
  },
  {
   "cell_type": "code",
   "execution_count": null,
   "metadata": {
    "slideshow": {
     "slide_type": "subslide"
    }
   },
   "outputs": [],
   "source": [
    "print(f\"Tamanho de X_train: {X_train.shape}\")\n",
    "print(f\"Tamanho de X_test: {X_test.shape}\")\n",
    "print(f\"Tamanho de y_train: {y_train.shape}\")\n",
    "print(f\"Tamanho de y_test: {y_test.shape}\")"
   ]
  }
 ],
 "metadata": {
  "celltoolbar": "Slideshow",
  "kernelspec": {
   "display_name": "Python [conda env:ciencia-de-dados]",
   "language": "python",
   "name": "conda-env-ciencia-de-dados-py"
  },
  "language_info": {
   "codemirror_mode": {
    "name": "ipython",
    "version": 3
   },
   "file_extension": ".py",
   "mimetype": "text/x-python",
   "name": "python",
   "nbconvert_exporter": "python",
   "pygments_lexer": "ipython3",
   "version": "3.9.7"
  },
  "rise": {
   "autolaunch": true,
   "enable_chalkboard": true,
   "progress": true,
   "scroll": true,
   "slideNumber": true
  }
 },
 "nbformat": 4,
 "nbformat_minor": 4
}
