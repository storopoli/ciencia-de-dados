{
 "cells": [
  {
   "cell_type": "markdown",
   "metadata": {
    "slideshow": {
     "slide_type": "skip"
    }
   },
   "source": [
    "[![Binder](https://mybinder.org/badge_logo.svg)](https://mybinder.org/v2/gh/storopoli/ciencia-de-dados/main?filepath=notebooks%2FAula_11_Regressao_Linear.ipynb)\n",
    "<br>\n",
    "[![Open In Colab](https://colab.research.google.com/assets/colab-badge.svg)](https://colab.research.google.com/github/storopoli/ciencia-de-dados/blob/main/notebooks/Aula_11_Regressao_Linear.ipynb)"
   ]
  },
  {
   "cell_type": "markdown",
   "metadata": {
    "slideshow": {
     "slide_type": "slide"
    }
   },
   "source": [
    "# Regressão Linear\n",
    "\n",
    "**Objetivos**: Aprender o que é Regressão Linear e introduzir intuições sobre o Método do Gradiente e o Método do Gradiente Estocástico assim como os problemas de regressão de aprendizagem de máquina. Apresentar a biblioteca `SciKit-Learn`."
   ]
  },
  {
   "cell_type": "markdown",
   "metadata": {
    "slideshow": {
     "slide_type": "subslide"
    }
   },
   "source": [
    "## Defininição - Regressão Linear\n",
    "\n",
    "> Uma regressão linear faz uma predição simplesmente computando uma soma ponderada dos atributos (*features*), mais uma constante chamada viés (*bias*), também chamado de constante (*intercept*)."
   ]
  },
  {
   "cell_type": "markdown",
   "metadata": {
    "slideshow": {
     "slide_type": "subslide"
    }
   },
   "source": [
    "<img src=\"images/reg-linear.png\" alt=\"reg-linear\" style=\"width: 400px;\"/>"
   ]
  },
  {
   "cell_type": "markdown",
   "metadata": {
    "slideshow": {
     "slide_type": "subslide"
    }
   },
   "source": [
    "$$ \\hat{y} = \\theta_0 + \\theta_1 x_1 + \\theta_2 x_2 + \\dots + \\theta_n x_n$$\n",
    "\n",
    "$\\hat{y}$ - valor previsto\n",
    "\n",
    "$\\theta$ - parâmetro do modelo\n",
    "\n",
    "$n$ - número de atributos (*features*)\n",
    "\n",
    "$x_i$ - o valor do *inésimo* atributo (*feature*)"
   ]
  },
  {
   "cell_type": "markdown",
   "metadata": {
    "slideshow": {
     "slide_type": "fragment"
    }
   },
   "source": [
    "### Exemplo\n",
    "\n",
    "$$\\mathrm{preço~de~residência} = 4500 + 1000\\times \\mathrm{quartos} + 120 \\times \\mathrm{m}^2 + 3000 \\times \\mathrm{banheiros} - 1500 \\times \\mathrm{distância~do~centro~km}$$"
   ]
  },
  {
   "cell_type": "markdown",
   "metadata": {
    "slideshow": {
     "slide_type": "slide"
    }
   },
   "source": [
    "## Métricas de Desempenho de uma Regressão\n",
    "\n",
    "<img src=\"images/erro-reg.png\" alt=\"erro-reg\" style=\"width: 400px;\"/>"
   ]
  },
  {
   "cell_type": "markdown",
   "metadata": {
    "slideshow": {
     "slide_type": "subslide"
    }
   },
   "source": [
    "### *Mean Squared Error* (MSE) - Erro Quadrático Médio\n",
    "\n",
    "$$MSE = \\frac{1}{m}\\Sigma_{i=1}^{m}{(\\hat{y}_i - y_i)^2}$$\n",
    "\n",
    "### *Mean Absolute Error* (MAE) - Erro Absoluto Médio\n",
    "$$MAE = \\frac{1}{m}\\Sigma_{i=1}^{m}{|\\hat{y}_i - y_i|}$$"
   ]
  },
  {
   "cell_type": "markdown",
   "metadata": {
    "slideshow": {
     "slide_type": "subslide"
    }
   },
   "source": [
    "<img src=\"images/gradient-descent.gif\" alt=\"gradient-descent-animation\" style=\"width: 500px;\"/>"
   ]
  },
  {
   "cell_type": "markdown",
   "metadata": {
    "slideshow": {
     "slide_type": "subslide"
    }
   },
   "source": [
    "<img src=\"images/gradient-descent-2.gif\" alt=\"gradient-descent-animation\" style=\"width: 500px;\"/>"
   ]
  },
  {
   "cell_type": "markdown",
   "metadata": {
    "slideshow": {
     "slide_type": "slide"
    }
   },
   "source": [
    "## Exemplo com o dataset [Boston House Prices](https://scikit-learn.org/stable/datasets/toy_dataset.html#boston-house-prices-dataset)\n",
    "\n",
    "\n",
    "* $N = 506$\n",
    "* Atributos: 13\n",
    "    * `CRIM` crime per capita da região\n",
    "    * `ZN` proporção de terra residencial\n",
    "    * `INDUS` proporção terra comercial não-varejista\n",
    "    * `CHAS` *Dummy* se fica as margens do Charles River (1 ou 0)\n",
    "    * `NOX` concentração de óxido nítrico (partes por 10 milhões)\n",
    "    * `RM` número de quartos\n",
    "    * `AGE` idade da residência\n",
    "    * `DIS` distância dos cinco centros de emprego de Boston\n",
    "    * `RAD` acessibilidade às rodovias radiais\n",
    "    * `TAX` valor do IPTU por 10,000 USD\n",
    "    * `PTRATIO` relação aluno-professor (*pupil-teacher ratio*) da região\n",
    "    * `B` proporção de afro-descendentes na região\n",
    "    * `LSTAT` porcentagem de população de baixa-renda\n",
    "* Variável resposta: valor da casa por 10,000 USD"
   ]
  },
  {
   "cell_type": "code",
   "execution_count": 1,
   "metadata": {
    "slideshow": {
     "slide_type": "subslide"
    }
   },
   "outputs": [],
   "source": [
    "from sklearn.datasets import load_boston\n",
    "\n",
    "boston = load_boston()\n",
    "X = boston['data']\n",
    "y = boston['target']"
   ]
  },
  {
   "cell_type": "code",
   "execution_count": 2,
   "metadata": {
    "slideshow": {
     "slide_type": "subslide"
    }
   },
   "outputs": [
    {
     "name": "stdout",
     "output_type": "stream",
     "text": [
      "Nomes dos Atributos: ['CRIM' 'ZN' 'INDUS' 'CHAS' 'NOX' 'RM' 'AGE' 'DIS' 'RAD' 'TAX' 'PTRATIO'\n",
      " 'B' 'LSTAT']\n",
      "Tamanho de X: (506, 13)\n",
      "Tamanho de y: (506,)\n"
     ]
    }
   ],
   "source": [
    "print(f\"Nomes dos Atributos: {boston['feature_names']}\")\n",
    "print(f\"Tamanho de X: {X.shape}\")\n",
    "print(f\"Tamanho de y: {y.shape}\")"
   ]
  },
  {
   "cell_type": "markdown",
   "metadata": {
    "slideshow": {
     "slide_type": "subslide"
    }
   },
   "source": [
    "### Quebrando dataset em `train` e `test`\n",
    "\n",
    "Usar a função do Scikit-Learn [`sklearn.model_selection.train_test_split()`](https://scikit-learn.org/stable/modules/generated/sklearn.model_selection.train_test_split.html)\n",
    "\n",
    "#### Argumentos:\n",
    "\n",
    "* matriz a ser dividida - `X` ou `y`\n",
    "* `test_size` - `float` ou `int` do tamanho do dataset de teste (padrão $0.25$)\n",
    "* `train_size` - padrão `1 - test_size`\n",
    "* `random_state` - `int` - seed do gerador de número randômicos (replicabilidade)"
   ]
  },
  {
   "cell_type": "code",
   "execution_count": 3,
   "metadata": {
    "slideshow": {
     "slide_type": "subslide"
    }
   },
   "outputs": [],
   "source": [
    "from sklearn.model_selection import train_test_split\n",
    "\n",
    "X_train, X_test, y_train, y_test = train_test_split(X,\n",
    "                                                    y,\n",
    "                                                    test_size=0.25,\n",
    "                                                    random_state=123)"
   ]
  },
  {
   "cell_type": "code",
   "execution_count": 4,
   "metadata": {
    "slideshow": {
     "slide_type": "subslide"
    }
   },
   "outputs": [
    {
     "name": "stdout",
     "output_type": "stream",
     "text": [
      "Tamanho de X_train: (379, 13)\n",
      "Tamanho de X_test: (127, 13)\n",
      "Tamanho de y_train: (379,)\n",
      "Tamanho de y_test: (127,)\n"
     ]
    }
   ],
   "source": [
    "print(f\"Tamanho de X_train: {X_train.shape}\")\n",
    "print(f\"Tamanho de X_test: {X_test.shape}\")\n",
    "print(f\"Tamanho de y_train: {y_train.shape}\")\n",
    "print(f\"Tamanho de y_test: {y_test.shape}\")"
   ]
  },
  {
   "cell_type": "markdown",
   "metadata": {
    "slideshow": {
     "slide_type": "subslide"
    }
   },
   "source": [
    "### Regressão Linear\n",
    "Usar a função do Scikit-Learn [`sklearn.linear_model.SGDRegressor()`](https://scikit-learn.org/stable/modules/generated/sklearn.linear_model.SGDRegressor.html)\n",
    "\n",
    "#### Argumentos:\n",
    "* `loss` - `str`\n",
    "    * MSE - `'squared_loss'`\n",
    "    * MAE - `'epsilon_insensitive'`\n",
    "* `max_iter` - `int` - Número máximo de iterações do *Gradient Descent*\n",
    "* `tol` - Tolerância - Critério de parada de treino\n",
    "* `random_state` - `int` - seed do gerador de número randômicos (replicabilidade)\n",
    "* `eta0` - `float` - Taxa de aprendizagem inicial\n",
    "    * padrão `0.01`\n",
    "* `learning_rate` - `str` - Taxa de aprendizagem\n",
    "    * Constante - `'constant'`\n",
    "    * Adaptativa - `'adaptive'`\n",
    "* `n_iter_no_change` - `int` - Somente se usar Taxa de Aprendizagem Adaptativa\n",
    "\n",
    "#### Retorna:\n",
    "* Objeto `estimator` do Scikit-Learn"
   ]
  },
  {
   "cell_type": "code",
   "execution_count": 5,
   "metadata": {
    "slideshow": {
     "slide_type": "subslide"
    }
   },
   "outputs": [],
   "source": [
    "from sklearn.linear_model import SGDRegressor\n",
    "\n",
    "clf = SGDRegressor(loss='squared_loss',\n",
    "                   learning_rate='constant',\n",
    "                   max_iter=10,\n",
    "                   eta0=0.01,\n",
    "                   verbose=1,\n",
    "                   tol=None,\n",
    "                   random_state=123)"
   ]
  },
  {
   "cell_type": "markdown",
   "metadata": {
    "slideshow": {
     "slide_type": "subslide"
    }
   },
   "source": [
    "### Classe `Estimators`\n",
    "\n",
    "* `.fit()` - Treina o Modelo\n",
    "    * `X`\n",
    "    * `y`\n",
    "* `.predict()` - Gera predições do modelo\n",
    "    * `X`\n",
    "* `.coef_` - Retorna os coeficientes do modelo ($\\theta_i$)\n",
    "* `.intercept_` - Retorna o viés/constante (*bias/intercept*) do modelo ($\\theta_0$)"
   ]
  },
  {
   "cell_type": "code",
   "execution_count": 6,
   "metadata": {
    "slideshow": {
     "slide_type": "subslide"
    }
   },
   "outputs": [
    {
     "name": "stdout",
     "output_type": "stream",
     "text": [
      "-- Epoch 1\n",
      "Norm: 8536459609585.63, NNZs: 13, Bias: -71934749050.291260, T: 379, Avg. loss: 2101086349192392031772136701952.000000\n",
      "Total training time: 0.00 seconds.\n",
      "-- Epoch 2\n",
      "Norm: 11139670311831.62, NNZs: 13, Bias: -61934749050.291260, T: 758, Avg. loss: 2193272863063904930530368421888.000000\n",
      "Total training time: 0.00 seconds.\n",
      "-- Epoch 3\n",
      "Norm: 8399272905155.67, NNZs: 13, Bias: -71934749050.291260, T: 1137, Avg. loss: 2202852818526744015180300025856.000000\n",
      "Total training time: 0.00 seconds.\n",
      "-- Epoch 4\n",
      "Norm: 8668374748731.92, NNZs: 13, Bias: -61934749050.291260, T: 1516, Avg. loss: 2051232878754990729154904719360.000000\n",
      "Total training time: 0.00 seconds.\n",
      "-- Epoch 5\n",
      "Norm: 7628649591511.44, NNZs: 13, Bias: -111934749050.291260, T: 1895, Avg. loss: 2129419028677382508885707849728.000000\n",
      "Total training time: 0.00 seconds.\n",
      "-- Epoch 6\n",
      "Norm: 9935320540360.65, NNZs: 13, Bias: -161934749050.291260, T: 2274, Avg. loss: 2085108476758519611426879832064.000000\n",
      "Total training time: 0.00 seconds.\n",
      "-- Epoch 7\n",
      "Norm: 12446425189512.03, NNZs: 13, Bias: -131934749050.291260, T: 2653, Avg. loss: 2095755146975964117405555228672.000000\n",
      "Total training time: 0.00 seconds.\n",
      "-- Epoch 8\n",
      "Norm: 10553654396473.23, NNZs: 13, Bias: -83449561952.853989, T: 3032, Avg. loss: 2104416480444008258087744962560.000000\n",
      "Total training time: 0.00 seconds.\n",
      "-- Epoch 9\n",
      "Norm: 11646112956789.23, NNZs: 13, Bias: -153449561952.854004, T: 3411, Avg. loss: 2197099551414495881929575890944.000000\n",
      "Total training time: 0.00 seconds.\n",
      "-- Epoch 10\n",
      "Norm: 8166662797879.52, NNZs: 13, Bias: -143449561952.854004, T: 3790, Avg. loss: 2204063463703200556357026578432.000000\n",
      "Total training time: 0.00 seconds.\n"
     ]
    },
    {
     "data": {
      "text/plain": [
       "SGDRegressor(learning_rate='constant', max_iter=10, random_state=123, tol=None,\n",
       "             verbose=1)"
      ]
     },
     "execution_count": 6,
     "metadata": {},
     "output_type": "execute_result"
    }
   ],
   "source": [
    "clf.fit(X_train, y_train)"
   ]
  },
  {
   "cell_type": "code",
   "execution_count": 7,
   "metadata": {},
   "outputs": [
    {
     "data": {
      "text/plain": [
       "[521651325706.6274,\n",
       " 1479542295803.8472,\n",
       " 3831768057720.7256,\n",
       " 159563221238.50052,\n",
       " -18369203160.469345,\n",
       " -1194585001511.8408,\n",
       " 3522021224217.425,\n",
       " -743550607894.5062,\n",
       " 1859636444.5988407,\n",
       " 3860147118889.9033,\n",
       " -3795951699095.441,\n",
       " -1616019044369.043,\n",
       " 1794137959774.2043]"
      ]
     },
     "execution_count": 7,
     "metadata": {},
     "output_type": "execute_result"
    }
   ],
   "source": [
    "clf.coef_.tolist()"
   ]
  },
  {
   "cell_type": "code",
   "execution_count": 8,
   "metadata": {
    "slideshow": {
     "slide_type": "subslide"
    }
   },
   "outputs": [
    {
     "name": "stdout",
     "output_type": "stream",
     "text": [
      "CRIM: 521651325706\n",
      "ZN: 1479542295803\n",
      "INDUS: 3831768057720\n",
      "CHAS: 159563221238\n",
      "NOX: -18369203160\n",
      "RM: -1194585001511\n",
      "AGE: 3522021224217\n",
      "DIS: -743550607894\n",
      "RAD: 1859636444\n",
      "TAX: 3860147118889\n",
      "PTRATIO: -3795951699095\n",
      "B: -1616019044369\n",
      "LSTAT: 1794137959774\n",
      "Constante: -143449561952\n"
     ]
    }
   ],
   "source": [
    "# Coeficientes do modelo\n",
    "for feature, coef in zip(boston['feature_names'].tolist(), clf.coef_.tolist()):\n",
    "    print(f\"{feature}: {int(coef)}\")\n",
    "\n",
    "# Constante do modelo\n",
    "print(f\"Constante: {int(clf.intercept_)}\")"
   ]
  },
  {
   "cell_type": "markdown",
   "metadata": {
    "slideshow": {
     "slide_type": "slide"
    }
   },
   "source": [
    "### Erro do Modelo\n",
    "\n",
    "Erro do Modelo é $\\pm \\sqrt{MSE}$"
   ]
  },
  {
   "cell_type": "code",
   "execution_count": 9,
   "metadata": {
    "slideshow": {
     "slide_type": "subslide"
    }
   },
   "outputs": [
    {
     "name": "stdout",
     "output_type": "stream",
     "text": [
      "Acurácia de Teste: ±1273604802366119\n"
     ]
    }
   ],
   "source": [
    "from sklearn.metrics import mean_absolute_error, mean_squared_error\n",
    "\n",
    "y_pred = clf.predict(X_test)\n",
    "\n",
    "print(f\"Acurácia de Teste: ±{mean_absolute_error(y_test, y_pred):1.0f}\")"
   ]
  },
  {
   "cell_type": "markdown",
   "metadata": {
    "slideshow": {
     "slide_type": "slide"
    }
   },
   "source": [
    "### Efeito da Taxa de Aprendizagem $\\eta$"
   ]
  },
  {
   "cell_type": "code",
   "execution_count": 11,
   "metadata": {
    "scrolled": true,
    "slideshow": {
     "slide_type": "subslide"
    }
   },
   "outputs": [
    {
     "data": {
      "image/png": "[encoded data removed]",
      "text/plain": [
       "<Figure size 432x288 with 2 Axes>"
      ]
     },
     "metadata": {
      "needs_background": "light"
     },
     "output_type": "display_data"
    }
   ],
   "source": [
    "import numpy as np\n",
    "import matplotlib.pyplot as plt\n",
    "\n",
    "clf = SGDRegressor()\n",
    "\n",
    "# inicia duas listas vazias\n",
    "mae_train_values = []\n",
    "mae_test_values = []\n",
    "\n",
    "# Eixo X do grafico\n",
    "x_axis = np.linspace(1e-6, 1, 1000)\n",
    "\n",
    "for i in x_axis:\n",
    "    clf =  clf.set_params(eta0=i)\n",
    "    clf.fit(X_train, y_train)\n",
    "    \n",
    "    y_train_pred = clf.predict(X_train)\n",
    "    mae_train = mean_absolute_error(y_train, y_train_pred)\n",
    "    mae_train_values.append(mae_train)\n",
    "    \n",
    "    y_test_pred = clf.predict(X_test)\n",
    "    mae_test = mean_absolute_error(y_test, y_test_pred)\n",
    "    mae_test_values.append(mae_test)\n",
    "    \n",
    "fig, axes = plt.subplots(2, 1, sharex=True)\n",
    "axes[0].plot(x_axis, mae_train_values, color='orange')\n",
    "axes[1].plot(x_axis, mae_test_values, color='blue')\n",
    "axes[0].set_title('Erro de Treino')\n",
    "axes[1].set_title('Erro de Teste')\n",
    "axes[1].set_xlabel('Taxa de aprendizagem $\\eta$')\n",
    "axes[0].set_ylabel('$MAE$')\n",
    "axes[1].set_ylabel('$MAE$')\n",
    "fig.suptitle('Comparação Erro de Treino vs Erro de Teste')\n",
    "plt.tight_layout()\n",
    "plt.show()"
   ]
  },
  {
   "cell_type": "markdown",
   "metadata": {
    "slideshow": {
     "slide_type": "slide"
    }
   },
   "source": [
    "### Efeito do Número de Iterações"
   ]
  },
  {
   "cell_type": "code",
   "execution_count": 12,
   "metadata": {
    "slideshow": {
     "slide_type": "subslide"
    }
   },
   "outputs": [
    {
     "name": "stderr",
     "output_type": "stream",
     "text": [
      "/Users/storopoli/miniforge3/lib/python3.9/site-packages/sklearn/linear_model/_stochastic_gradient.py:1225: ConvergenceWarning: Maximum number of iteration reached before convergence. Consider increasing max_iter to improve the fit.\n",
      "  warnings.warn(\"Maximum number of iteration reached before \"\n"
     ]
    },
    {
     "data": {
      "image/png": "[encoded data removed]",
      "text/plain": [
       "<Figure size 432x288 with 2 Axes>"
      ]
     },
     "metadata": {
      "needs_background": "light"
     },
     "output_type": "display_data"
    }
   ],
   "source": [
    "# inicia duas listas vazias\n",
    "mae_train_values = []\n",
    "mae_test_values = []\n",
    "\n",
    "# Eixo X do grafico\n",
    "x_axis = np.linspace(10, 100000, 10)\n",
    "\n",
    "for i in x_axis:\n",
    "    clf.set_params(max_iter=i, eta0=1e-7, verbose=0)  # 0.0000007\n",
    "    clf.fit(X_train, y_train)\n",
    "    \n",
    "    y_train_pred = clf.predict(X_train)\n",
    "    mae_train = mean_absolute_error(y_train, y_train_pred)\n",
    "    mae_train_values.append(mae_train)\n",
    "    \n",
    "    y_test_pred = clf.predict(X_test)\n",
    "    mae_test = mean_absolute_error(y_test, y_test_pred)\n",
    "    mae_test_values.append(mae_test)\n",
    "\n",
    "fig, axes = plt.subplots(2, 1, sharex=True)\n",
    "axes[0].plot(x_axis, mae_train_values, color='orange')\n",
    "axes[1].plot(x_axis, mae_test_values, color='blue')\n",
    "axes[0].set_title('Erro de Treino')\n",
    "axes[1].set_title('Erro de Teste')\n",
    "axes[1].set_xlabel('Número de Iterações')\n",
    "axes[0].set_ylabel('$MAE$')\n",
    "axes[1].set_ylabel('$MAE$')\n",
    "fig.suptitle('Comparação Erro de Treino vs Erro de Teste')\n",
    "plt.tight_layout()\n",
    "plt.show()"
   ]
  },
  {
   "cell_type": "markdown",
   "metadata": {
    "slideshow": {
     "slide_type": "slide"
    }
   },
   "source": [
    "## Atividade - Regressão com o dataset [Diabetes](https://scikit-learn.org/stable/datasets/toy_dataset.html#diabetes-dataset)\n",
    "\n",
    "* $N = 442$\n",
    "* Atributos: 10\n",
    "    * `age`\n",
    "    * `sex`\n",
    "    * `bmi` Índice de Massa Corpórea (IMC) - *Body Mass Index* (BMI)\n",
    "    * `bp` pressão arterial média *blood pressure* (bp)\n",
    "    * `s1` colesterol total\n",
    "    * `s2` colesterol LDL\n",
    "    * `s3` colesterol HDL\n",
    "    * `s4` colesterol VLDL\n",
    "    * `s5` triglicerides\n",
    "    * `s6` glicose\n",
    "* Variável dependente: medida quantitativa de progressão da diabetes\n",
    "\n",
    "* Achar o melhor `eta0` e os respectivos coeficientes dos atributos ($\\theta_i$) e viés/constante ($\\theta_0$)\n",
    "\n",
    ">Obs: usar `test_size = 0.25` e `random_state = 123`"
   ]
  },
  {
   "cell_type": "code",
   "execution_count": 13,
   "metadata": {
    "slideshow": {
     "slide_type": "subslide"
    }
   },
   "outputs": [],
   "source": [
    "from sklearn.datasets import load_diabetes\n",
    "\n",
    "diabetes = load_diabetes()\n",
    "X = diabetes['data']\n",
    "y = diabetes['target']"
   ]
  },
  {
   "cell_type": "code",
   "execution_count": 14,
   "metadata": {
    "slideshow": {
     "slide_type": "subslide"
    }
   },
   "outputs": [
    {
     "name": "stdout",
     "output_type": "stream",
     "text": [
      "Nomes dos Atributos: ['age', 'sex', 'bmi', 'bp', 's1', 's2', 's3', 's4', 's5', 's6']\n",
      "Tamanho de X: (442, 10)\n",
      "Tamanho de y: (442,)\n"
     ]
    }
   ],
   "source": [
    "print(f\"Nomes dos Atributos: {diabetes['feature_names']}\")\n",
    "print(f\"Tamanho de X: {X.shape}\")\n",
    "print(f\"Tamanho de y: {y.shape}\")"
   ]
  },
  {
   "cell_type": "code",
   "execution_count": 15,
   "metadata": {
    "slideshow": {
     "slide_type": "subslide"
    }
   },
   "outputs": [],
   "source": [
    "from sklearn.model_selection import train_test_split\n",
    "\n",
    "X_train, X_test, y_train, y_test = train_test_split(X, y, test_size=0.25, random_state=123)"
   ]
  },
  {
   "cell_type": "code",
   "execution_count": 16,
   "metadata": {
    "slideshow": {
     "slide_type": "subslide"
    }
   },
   "outputs": [
    {
     "name": "stdout",
     "output_type": "stream",
     "text": [
      "Tamanho de X_train: (331, 10)\n",
      "Tamanho de X_test: (111, 10)\n",
      "Tamanho de y_train: (331,)\n",
      "Tamanho de y_test: (111,)\n"
     ]
    }
   ],
   "source": [
    "print(f\"Tamanho de X_train: {X_train.shape}\")\n",
    "print(f\"Tamanho de X_test: {X_test.shape}\")\n",
    "print(f\"Tamanho de y_train: {y_train.shape}\")\n",
    "print(f\"Tamanho de y_test: {y_test.shape}\")"
   ]
  }
 ],
 "metadata": {
  "celltoolbar": "Slideshow",
  "kernelspec": {
   "display_name": "Python 3",
   "language": "python",
   "name": "python3"
  },
  "language_info": {
   "codemirror_mode": {
    "name": "ipython",
    "version": 3
   },
   "file_extension": ".py",
   "mimetype": "text/x-python",
   "name": "python",
   "nbconvert_exporter": "python",
   "pygments_lexer": "ipython3",
   "version": "3.9.4"
  },
  "rise": {
   "autolaunch": true,
   "enable_chalkboard": true,
   "progress": true,
   "scroll": true,
   "slideNumber": true
  }
 },
 "nbformat": 4,
 "nbformat_minor": 4
}
