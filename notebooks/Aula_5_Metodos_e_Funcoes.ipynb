{
 "cells": [
  {
   "cell_type": "markdown",
   "metadata": {
    "slideshow": {
     "slide_type": "skip"
    }
   },
   "source": [
    "[![Binder](https://mybinder.org/badge_logo.svg)](https://mybinder.org/v2/gh/storopoli/ciencia-de-dados/master?filepath=notebooks%2FAula_5_Metodos_e_Funcoes.ipynb)\n",
    "<br>\n",
    "[![Open In Colab](https://colab.research.google.com/assets/colab-badge.svg)](https://colab.research.google.com/github/storopoli/ciencia-de-dados/blob/master/notebooks/Aula_5_Metodos_e_Funcoes.ipynb)"
   ]
  },
  {
   "cell_type": "markdown",
   "metadata": {
    "slideshow": {
     "slide_type": "slide"
    }
   },
   "source": [
    "# Funções e métodos\n",
    "\n",
    "**Objetivos**: Apresentar as funções e métodos de Python"
   ]
  },
  {
   "cell_type": "markdown",
   "metadata": {
    "slideshow": {
     "slide_type": "fragment"
    }
   },
   "source": [
    "Uma das técnicas de programação existentes consiste em quebrar um problema maior em vários problemas menores (ou sub-problemas). Desta forma cada sub-problema é solucionado e ao final teremos a solução de nosso problema maior. \n",
    "\n",
    "Em programação, para atendermos tal necessidade, existem funções e métodos. Funções seguem os princípios da programação procedural e e os métodos estão diretamente relacionados com programação orientada a objetos.\n",
    "\n",
    "Python trabalha tanto com funções como também com métodos."
   ]
  },
  {
   "cell_type": "markdown",
   "metadata": {
    "slideshow": {
     "slide_type": "slide"
    }
   },
   "source": [
    "## Funções\n",
    "Uma função é um bloco de programa contendo início e fim e identificado por um nome, por meio do qual será referenciado em qualquer parte do programa principal ou em outra função.\n",
    "\n",
    "A característica principal de uma função é que há retorno de valor ou variável para o programa para o qual fez a chamada a função. Quando uma função é chamada por um programa, ela é executada até o seu término e a execução do programa volta exatamente para a primeira linha de instrução, após a linha que fez a chamada da função."
   ]
  },
  {
   "cell_type": "markdown",
   "metadata": {
    "slideshow": {
     "slide_type": "subslide"
    }
   },
   "source": [
    "```python\n",
    "def <nome da função>(<argumento_1>,<argumento_2>, ..., <argumento_n>):\n",
    "    <instruções a serem executadas pela função>\n",
    "```"
   ]
  },
  {
   "cell_type": "markdown",
   "metadata": {
    "slideshow": {
     "slide_type": "fragment"
    }
   },
   "source": [
    "```python\n",
    "def <nome da função> (<argumento_1>,<argumento_2>, ..., <argumento_n>):\n",
    "    <instruções a serem executadas pela função>\n",
    "    return <valor a ser retornado pela função>\n",
    "```"
   ]
  },
  {
   "cell_type": "markdown",
   "metadata": {
    "slideshow": {
     "slide_type": "subslide"
    }
   },
   "source": [
    "### Exemplo"
   ]
  },
  {
   "cell_type": "code",
   "execution_count": 1,
   "metadata": {
    "slideshow": {
     "slide_type": "fragment"
    }
   },
   "outputs": [],
   "source": [
    "def foo():\n",
    "    print(\"foo\")"
   ]
  },
  {
   "cell_type": "code",
   "execution_count": 2,
   "metadata": {
    "slideshow": {
     "slide_type": "fragment"
    }
   },
   "outputs": [],
   "source": [
    "def servico_restaurante(valor):\n",
    "    \"\"\"Adiciona 10% ao final de um valor\"\"\"\n",
    "    valor *= 1.10\n",
    "    print(f\"Com serviço de 10%: R${valor}\")\n",
    "    return valor"
   ]
  },
  {
   "cell_type": "code",
   "execution_count": 3,
   "metadata": {
    "scrolled": true,
    "slideshow": {
     "slide_type": "fragment"
    }
   },
   "outputs": [
    {
     "name": "stdout",
     "output_type": "stream",
     "text": [
      "Com serviço de 10%: R$90.2\n"
     ]
    },
    {
     "data": {
      "text/plain": [
       "90.2"
      ]
     },
     "execution_count": 3,
     "metadata": {},
     "output_type": "execute_result"
    }
   ],
   "source": [
    "servico_restaurante(82)"
   ]
  },
  {
   "cell_type": "markdown",
   "metadata": {
    "slideshow": {
     "slide_type": "slide"
    }
   },
   "source": [
    "## Atividade Função #1\n",
    "\n",
    "Fazer uma função chamada `potencia` que tem dois argumentos:\n",
    "* argumento `numero`: um numero real `float` ou inteiro `int`\n",
    "* argumento `potencia`: um numero real `float` ou inteiro `int`\n",
    "\n",
    "Ela deve retornar o argumento `numero` elevado ao argumento `potencia`"
   ]
  },
  {
   "cell_type": "code",
   "execution_count": null,
   "metadata": {
    "slideshow": {
     "slide_type": "subslide"
    }
   },
   "outputs": [],
   "source": [
    "def potencia(numero, potencia):\n",
    "    assert isinstance(numero, int) or isinstance(numero, float)\n",
    "    assert isinstance(potencia, int) or isinstance(potencia, float)\n",
    "    #return $$$$"
   ]
  },
  {
   "cell_type": "code",
   "execution_count": null,
   "metadata": {
    "slideshow": {
     "slide_type": "fragment"
    }
   },
   "outputs": [],
   "source": [
    "assert potencia(2, 3) == 8\n",
    "assert potencia(2, 3.6) == 12.125732532083186"
   ]
  },
  {
   "cell_type": "code",
   "execution_count": null,
   "metadata": {
    "slideshow": {
     "slide_type": "fragment"
    }
   },
   "outputs": [],
   "source": [
    "potencia(5, 2)"
   ]
  },
  {
   "cell_type": "code",
   "execution_count": null,
   "metadata": {
    "slideshow": {
     "slide_type": "fragment"
    }
   },
   "outputs": [],
   "source": [
    "def funcao(arg1, arg2):\n",
    "    print(arg1)\n",
    "    print(arg2)"
   ]
  },
  {
   "cell_type": "markdown",
   "metadata": {
    "slideshow": {
     "slide_type": "slide"
    }
   },
   "source": [
    "## Atividade Função #2\n",
    "\n",
    "Lembram-se que o módulo de um número inteiro pode determinar se ele é *ímpar* ou *par*?\n",
    "\n",
    "```python\n",
    "15 % 2    # 1\n",
    "14 % 2    # 0\n",
    "```\n",
    "\n",
    "Fazer uma função chamada `numero_par` que tem um argumento:\n",
    "* argumento `numero`: um numero inteiro `int`\n",
    "\n",
    "Ela deve testar se o número é par e retorna um `bool` `True` ou `False`"
   ]
  },
  {
   "cell_type": "code",
   "execution_count": null,
   "metadata": {
    "slideshow": {
     "slide_type": "subslide"
    }
   },
   "outputs": [],
   "source": [
    "def numero_par(numero):\n",
    "    assert isinstance(numero, int)\n",
    "    $$$$\n",
    "    return $$$"
   ]
  },
  {
   "cell_type": "code",
   "execution_count": null,
   "metadata": {
    "slideshow": {
     "slide_type": "subslide"
    }
   },
   "outputs": [],
   "source": [
    "assert numero_par(2) == True\n",
    "assert numero_par(3) == False"
   ]
  },
  {
   "cell_type": "code",
   "execution_count": null,
   "metadata": {
    "scrolled": true,
    "slideshow": {
     "slide_type": "subslide"
    }
   },
   "outputs": [],
   "source": [
    "numero_par(15)"
   ]
  },
  {
   "cell_type": "markdown",
   "metadata": {
    "slideshow": {
     "slide_type": "subslide"
    }
   },
   "source": [
    "## Atividade Função #3\n",
    "Desenvolva uma função (denominada **calcula**) que receba 5 números (no formato de lista) e retorne: o maior e o menor número, a soma dos números e a média. Mostre separadamente os valores."
   ]
  },
  {
   "cell_type": "code",
   "execution_count": null,
   "metadata": {
    "slideshow": {
     "slide_type": "fragment"
    }
   },
   "outputs": [],
   "source": [
    "def calcula(lista):\n",
    "    ##\n",
    "    return (maior, menor, soma, media)"
   ]
  },
  {
   "cell_type": "code",
   "execution_count": null,
   "metadata": {
    "slideshow": {
     "slide_type": "fragment"
    }
   },
   "outputs": [],
   "source": [
    "maior, menor, soma, media = calcula([1, 2, 3, 4, 5])\n",
    "print('Maior:', maior)\n",
    "print('Menor:', menor)\n",
    "print('Soma.:', soma)\n",
    "print('Média:', media)"
   ]
  },
  {
   "cell_type": "markdown",
   "metadata": {
    "slideshow": {
     "slide_type": "slide"
    }
   },
   "source": [
    "## Métodos\n",
    "\n",
    "Python nos permite que programemos utilizando orientação a objetos (POO). E neste paradigma de programação temos que o equivalente a função, de forma bem simplista, são os métodos.\n",
    "\n",
    "No paradigma de orientação a objetos temos que uma classe é formada por dados (atributos) e operações (métodos) numa só estrutura. Um objeto é uma instância de uma classe."
   ]
  },
  {
   "cell_type": "markdown",
   "metadata": {
    "slideshow": {
     "slide_type": "subslide"
    }
   },
   "source": [
    "### Exemplo"
   ]
  },
  {
   "cell_type": "markdown",
   "metadata": {
    "slideshow": {
     "slide_type": "subslide"
    }
   },
   "source": [
    "`__init__` é o método construtor da classe e faz alocação de recursos necessários ao funcionamento do objeto além da definição inicial dos atributos do objeto. Ele é executado quando da criação do objeto.\n",
    "\n",
    "Note que todos os métodos têm como primeiro parâmetro o `self`. Todo método em Python é obrigado a ter este paramêtro e por padronização adotou-se a palavra `self` (padrão PEP-8) que faz referência ao próprio objeto que está sendo criado e/ou manipulado."
   ]
  },
  {
   "cell_type": "code",
   "execution_count": 4,
   "metadata": {
    "slideshow": {
     "slide_type": "fragment"
    }
   },
   "outputs": [],
   "source": [
    "class aluno:\n",
    "    def __init__(self, matricula, nome, curso, nota_1, nota_2):\n",
    "        self.matricula = matricula\n",
    "        self.nome = nome\n",
    "        self.curso = curso\n",
    "        self.nota_1 = nota_1\n",
    "        self.nota_2 = nota_2\n",
    "        self.media = (nota_1 + nota_2) / 2\n",
    "    \n",
    "    def getMatricula (self):\n",
    "        return self.matricula\n",
    "    \n",
    "    def getNome (self):\n",
    "        return self.nome\n",
    "    \n",
    "    def getCurso (self):\n",
    "        return self.curso\n",
    "    \n",
    "    def getNota (self, bimestre = 1):\n",
    "        if bimestre == 1:\n",
    "            return self.nota_1\n",
    "        elif bimestre == 2:\n",
    "            return self.nota_2\n",
    "    \n",
    "    def getMedia (self):\n",
    "        return self.media"
   ]
  },
  {
   "cell_type": "code",
   "execution_count": 5,
   "metadata": {
    "slideshow": {
     "slide_type": "fragment"
    }
   },
   "outputs": [
    {
     "name": "stdout",
     "output_type": "stream",
     "text": [
      "Fernanda\n",
      "4.5\n"
     ]
    }
   ],
   "source": [
    "aluno1 = aluno(1, \"Fernanda\", \"ciências da computação\", 8.6, 7)\n",
    "aluno2 = aluno(2, \"Luiza\", \"sistemas de informação\", 4.5, 5.2)\n",
    "\n",
    "print(aluno1.getNome())\n",
    "print(aluno2.getNota())"
   ]
  },
  {
   "cell_type": "code",
   "execution_count": 6,
   "metadata": {
    "slideshow": {
     "slide_type": "fragment"
    }
   },
   "outputs": [
    {
     "name": "stdout",
     "output_type": "stream",
     "text": [
      "Matrícula: 1\n"
     ]
    }
   ],
   "source": [
    "print('Matrícula:', aluno1.getMatricula())"
   ]
  },
  {
   "cell_type": "markdown",
   "metadata": {
    "slideshow": {
     "slide_type": "subslide"
    }
   },
   "source": [
    "# Atividade Classe/Métodos\n",
    "Desenvolva uma classe (denominada Operacoes) que contenha os métodos para: adição, subtração, multiplicação e divisão.\n",
    "\n",
    "1. As operações são apenas entre dois números.\n",
    "2. Realize uma operação com cada método."
   ]
  },
  {
   "cell_type": "code",
   "execution_count": null,
   "metadata": {
    "slideshow": {
     "slide_type": "fragment"
    }
   },
   "outputs": [],
   "source": [
    "class Operacoes:\n",
    "        def __init__(self, n_1, n_2):\n",
    "            self.val_1 = n_1\n",
    "            self.val_2 = n_2"
   ]
  },
  {
   "cell_type": "code",
   "execution_count": null,
   "metadata": {
    "slideshow": {
     "slide_type": "fragment"
    }
   },
   "outputs": [],
   "source": [
    "op = Operacoes(10, 20)\n",
    "\n",
    "print('Adição:', $$)\n",
    "print('Subtração:', $$)\n",
    "print('Multiplicação:', $$)\n",
    "print('Divisão:', $$)"
   ]
  }
 ],
 "metadata": {
  "celltoolbar": "Slideshow",
  "kernelspec": {
   "display_name": "Python [conda env:ciencia-de-dados]",
   "language": "python",
   "name": "conda-env-ciencia-de-dados-py"
  },
  "language_info": {
   "codemirror_mode": {
    "name": "ipython",
    "version": 3
   },
   "file_extension": ".py",
   "mimetype": "text/x-python",
   "name": "python",
   "nbconvert_exporter": "python",
   "pygments_lexer": "ipython3",
   "version": "3.7.10"
  },
  "rise": {
   "autolaunch": true,
   "enable_chalkboard": true,
   "progress": true,
   "scroll": true,
   "slideNumber": true
  }
 },
 "nbformat": 4,
 "nbformat_minor": 4
}
