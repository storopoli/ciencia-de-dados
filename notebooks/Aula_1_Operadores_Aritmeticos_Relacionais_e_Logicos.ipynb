{
 "cells": [
  {
   "cell_type": "markdown",
   "metadata": {
    "slideshow": {
     "slide_type": "skip"
    }
   },
   "source": [
    "[![Binder](https://mybinder.org/badge_logo.svg)](https://mybinder.org/v2/gh/storopoli/ciencia-de-dados/master?filepath=notebooks%2FAula_1_Operadores_Aritmeticos_Relacionais_e_Logicos.ipynb)\n",
    "<br>\n",
    "[![Open In Colab](https://colab.research.google.com/assets/colab-badge.svg)](https://colab.research.google.com/github/storopoli/ciencia-de-dados/blob/master/notebooks/Aula_1_Operadores_Aritmeticos_Relacionais_e_Logicos.ipynb)"
   ]
  },
  {
   "cell_type": "markdown",
   "metadata": {
    "slideshow": {
     "slide_type": "slide"
    }
   },
   "source": [
    "# Operadores Aritméticos, Relacionais e Lógicos\n",
    "\n",
    "**Objetivos**: Apresentar variáveis, operadores aritméticos, relacionais e lógicos utilizados em Python."
   ]
  },
  {
   "cell_type": "markdown",
   "metadata": {
    "slideshow": {
     "slide_type": "fragment"
    }
   },
   "source": [
    "Documentação Python 3: https://docs.python.org/3/library/index.html"
   ]
  },
  {
   "cell_type": "markdown",
   "metadata": {
    "slideshow": {
     "slide_type": "slide"
    }
   },
   "source": [
    "## Variáveis\n",
    "\n",
    "Uma variável reserva espaço de memória para armazenar um certo tipo de dado e\n",
    "relacionado a um nome para referenciar o seu conteúdo (nome da variável).\n",
    "\n",
    "3 tipos básicos:\n",
    "* Numérico\n",
    "* Texto (String)\n",
    "* Lógico (Booleano)"
   ]
  },
  {
   "cell_type": "markdown",
   "metadata": {
    "slideshow": {
     "slide_type": "subslide"
    }
   },
   "source": [
    "### Variáveis Numéricas\n",
    "\n",
    "Podem ser de dois tipos:\n",
    "* `int`: número inteiro\n",
    "* `float`: número real (ponto flutuante)"
   ]
  },
  {
   "cell_type": "code",
   "execution_count": 1,
   "metadata": {
    "scrolled": true,
    "slideshow": {
     "slide_type": "subslide"
    }
   },
   "outputs": [
    {
     "name": "stdout",
     "output_type": "stream",
     "text": [
      "<class 'int'>\n",
      "<class 'float'>\n"
     ]
    }
   ],
   "source": [
    "# isto é um comentário\n",
    "x = 10\n",
    "y = 8.9\n",
    "\n",
    "print(type(x))\n",
    "print(type(y))"
   ]
  },
  {
   "cell_type": "markdown",
   "metadata": {
    "slideshow": {
     "slide_type": "subslide"
    }
   },
   "source": [
    "### Variáveis de Texto (`str`)\n",
    "\n",
    "Qualquer texto é uma `str`"
   ]
  },
  {
   "cell_type": "code",
   "execution_count": 2,
   "metadata": {
    "scrolled": true,
    "slideshow": {
     "slide_type": "subslide"
    }
   },
   "outputs": [
    {
     "name": "stdout",
     "output_type": "stream",
     "text": [
      "<class 'str'>\n",
      "Número de caracteres do logo:  9\n",
      "Bem-vindo à UNINOVE, o seu professor é Duda e Edson\n"
     ]
    }
   ],
   "source": [
    "universidade = 'UNINOVE'\n",
    "logo = 'uni9 é 10'\n",
    "professor = \"Duda e Edson\" # usando aspas duplas \"\n",
    "\n",
    "print(type(logo))\n",
    "print('Número de caracteres do logo: ', len(logo)) # usando ,\n",
    "print('Bem-vindo à ' + universidade +\n",
    "      ', o seu professor é ' + professor) # usando +"
   ]
  },
  {
   "cell_type": "markdown",
   "metadata": {
    "slideshow": {
     "slide_type": "subslide"
    }
   },
   "source": [
    "### Strings Multi-linhas (_Multi-line strings_)\n",
    "\n",
    "Se você usar três aspas duplas `\"\"\"` você consegue fazer `str`s multi-linhas:"
   ]
  },
  {
   "cell_type": "code",
   "execution_count": 3,
   "metadata": {
    "slideshow": {
     "slide_type": "fragment"
    }
   },
   "outputs": [
    {
     "name": "stdout",
     "output_type": "stream",
     "text": [
      "\n",
      "A Python I should not advise, —\n",
      "It needs a doctor for its eyes,\n",
      "And has the measles yearly.\n",
      "However, if you feel inclined\n",
      "To get one (to improve your mind,\n",
      "And not from fashion merely),\n",
      "Allow no music near its cage;\n",
      "And when it flies into a rage\n",
      "Chastise it, most severely.\n",
      "I had an Aunt in Yucatan\n",
      "Who bought a Python from a man\n",
      "And kept it for a pet.\n",
      "She died, because she never knew\n",
      "These simple little rules and few; —\n",
      "The snake is living yet.\n",
      "\n"
     ]
    }
   ],
   "source": [
    "str_multi = \"\"\"\n",
    "A Python I should not advise, —\n",
    "It needs a doctor for its eyes,\n",
    "And has the measles yearly.\n",
    "However, if you feel inclined\n",
    "To get one (to improve your mind,\n",
    "And not from fashion merely),\n",
    "Allow no music near its cage;\n",
    "And when it flies into a rage\n",
    "Chastise it, most severely.\n",
    "I had an Aunt in Yucatan\n",
    "Who bought a Python from a man\n",
    "And kept it for a pet.\n",
    "She died, because she never knew\n",
    "These simple little rules and few; —\n",
    "The snake is living yet.\n",
    "\"\"\"\n",
    "\n",
    "print(str_multi)"
   ]
  },
  {
   "cell_type": "markdown",
   "metadata": {
    "slideshow": {
     "slide_type": "subslide"
    }
   },
   "source": [
    "#### `fstrings`\n",
    "\n",
    "As `fstrings` foram introduzidas em Python versão 3.6 e são uma forma conveniente de nos fazermos substituição de _placeholders_ em uma string por variáveis ou expressões:\n",
    "\n",
    "Funciona assim:\n",
    "\n",
    "```python\n",
    "f\"Aqui é uma string com uma {var}\"\n",
    "```"
   ]
  },
  {
   "cell_type": "code",
   "execution_count": 4,
   "metadata": {
    "slideshow": {
     "slide_type": "fragment"
    }
   },
   "outputs": [
    {
     "name": "stdout",
     "output_type": "stream",
     "text": [
      "Bem-vindo à UNINOVE. Seus professores são Duda e Edson.\n",
      "<class 'str'>\n"
     ]
    }
   ],
   "source": [
    "fstring = f\"Bem-vindo à UNINOVE. Seus professores são {professor}.\"\n",
    "print(fstring)\n",
    "print(type(fstring))"
   ]
  },
  {
   "cell_type": "code",
   "execution_count": 5,
   "metadata": {
    "slideshow": {
     "slide_type": "fragment"
    }
   },
   "outputs": [
    {
     "data": {
      "text/plain": [
       "'2 + 2 = 4'"
      ]
     },
     "execution_count": 5,
     "metadata": {},
     "output_type": "execute_result"
    }
   ],
   "source": [
    "# também funciona para expressões\n",
    "f\"2 + 2 = {2+2}\""
   ]
  },
  {
   "cell_type": "code",
   "execution_count": 6,
   "metadata": {
    "slideshow": {
     "slide_type": "fragment"
    }
   },
   "outputs": [
    {
     "data": {
      "text/plain": [
       "'Absoluto de -2 - 2 = 4'"
      ]
     },
     "execution_count": 6,
     "metadata": {},
     "output_type": "execute_result"
    }
   ],
   "source": [
    "# também funciona para funções\n",
    "f\"Absoluto de -2 - 2 = {abs(-2-2)}\""
   ]
  },
  {
   "cell_type": "markdown",
   "metadata": {
    "slideshow": {
     "slide_type": "subslide"
    }
   },
   "source": [
    "### Variáveis Lógicas (`bool`)\n",
    "\n",
    "* Verdadeiro = `True` = $1$\n",
    "* Falso = `False` = $0$"
   ]
  },
  {
   "cell_type": "code",
   "execution_count": 7,
   "metadata": {
    "scrolled": true,
    "slideshow": {
     "slide_type": "subslide"
    }
   },
   "outputs": [
    {
     "name": "stdout",
     "output_type": "stream",
     "text": [
      "True\n",
      "<class 'bool'>\n"
     ]
    }
   ],
   "source": [
    "mortalidade = True # cuidado com o TitleCase true != True\n",
    "\n",
    "print(mortalidade)\n",
    "print(type(mortalidade))"
   ]
  },
  {
   "cell_type": "markdown",
   "metadata": {
    "slideshow": {
     "slide_type": "subslide"
    }
   },
   "source": [
    "#### Não temos os *parkour* de JavaScript\n",
    "\n",
    "`str` + `int` dá um erro:"
   ]
  },
  {
   "cell_type": "code",
   "execution_count": 8,
   "metadata": {
    "slideshow": {
     "slide_type": "fragment"
    }
   },
   "outputs": [],
   "source": [
    "# o código abaixo dá um erro\n",
    "#\"3\" + 1\n",
    "\n",
    "# TypeError: can only concatenate str (not \"int\") to str"
   ]
  },
  {
   "cell_type": "markdown",
   "metadata": {
    "slideshow": {
     "slide_type": "slide"
    }
   },
   "source": [
    "## Leitura de Dados do Teclado\n",
    "\n",
    "A função utilizada para efetuar a leitura de dados a partir do teclado é a função `input()`."
   ]
  },
  {
   "cell_type": "code",
   "execution_count": 9,
   "metadata": {
    "scrolled": true,
    "slideshow": {
     "slide_type": "fragment"
    }
   },
   "outputs": [
    {
     "name": "stdout",
     "output_type": "stream",
     "text": [
      "dados do aluno\n",
      "informe seu nome: Duda\n",
      "informe sua idade: 33\n",
      "Duda, você tem 33 anos!\n"
     ]
    }
   ],
   "source": [
    "print(\"dados do aluno\")\n",
    "nome = input(\"informe seu nome: \")\n",
    "idade = input (\"informe sua idade: \")\n",
    "print(f\"{nome}, você tem {idade} anos!\")"
   ]
  },
  {
   "cell_type": "markdown",
   "metadata": {
    "slideshow": {
     "slide_type": "slide"
    }
   },
   "source": [
    "## Operadores Aritméticos\n",
    "\n",
    "* Soma `x + y`\n",
    "* Subtração `x - y`\n",
    "* Multiplicação `x * y`\n",
    "* Divisão `x / y`\n",
    "* Divisão desconsiderando a parte fracionária `x // y`\n",
    "* Potência `x ** y`\n",
    "* Resto de uma divisão `x % y`\n",
    "* Converter para Inteiro `int(x)`\n",
    "* Converter para Real `float(x)`"
   ]
  },
  {
   "cell_type": "code",
   "execution_count": 10,
   "metadata": {
    "scrolled": true,
    "slideshow": {
     "slide_type": "subslide"
    }
   },
   "outputs": [
    {
     "name": "stdout",
     "output_type": "stream",
     "text": [
      "Soma: 13\n",
      "Subtração: 7\n",
      "Multiplicação: 30\n",
      "Divisão: 3.3333333333333335\n",
      "Divisão desconsiderando a parte fracionária: 3\n",
      "Módulo - Resto de uma divisão: 1\n",
      "x elevado à y potência: 1000\n",
      "Converter para inteiro: 4\n",
      "Converter para inteiro (texto): 4\n",
      "Converter para float: 9.0\n",
      "Converter para float (texto): 4.36\n"
     ]
    }
   ],
   "source": [
    "x = 10\n",
    "y = 3\n",
    "\n",
    "print('Soma:', x + y)\n",
    "print('Subtração:', x - y)\n",
    "print('Multiplicação:', x * y)\n",
    "print('Divisão:', x / y)\n",
    "print('Divisão desconsiderando a parte fracionária:', x // y)\n",
    "print('Módulo - Resto de uma divisão:', x % y)\n",
    "print('x elevado à y potência:', x ** y)\n",
    "print('Converter para inteiro:', int(4.36))\n",
    "print('Converter para inteiro (texto):', int(\"4\"))\n",
    "print('Converter para float:', float(9))\n",
    "print('Converter para float (texto):', float(\"4.36\"))"
   ]
  },
  {
   "cell_type": "markdown",
   "metadata": {
    "slideshow": {
     "slide_type": "subslide"
    }
   },
   "source": [
    "### Arredondamento, Piso, Teto e Absoluto\n",
    "* Arredondamento `round()`\n",
    "* Teto - `ceil(x)` retornará o menor número inteiro **maior** ou igual a `x`.\n",
    "* Piso - `floor(x)` retornará o maior número inteiro **menor** ou igual a `x`.\n",
    "* Absoluto - `abs(x)` retornará um número `x` sempre **positivo**"
   ]
  },
  {
   "cell_type": "code",
   "execution_count": 11,
   "metadata": {
    "scrolled": true,
    "slideshow": {
     "slide_type": "fragment"
    }
   },
   "outputs": [
    {
     "name": "stdout",
     "output_type": "stream",
     "text": [
      "Arredondamento simples: 3\n",
      "Arredondamento com casas decimais: 3.332\n",
      "Piso (floor): 3\n",
      "Teto (ceil): 4\n"
     ]
    }
   ],
   "source": [
    "import math\n",
    "#import math as m\n",
    "#from math import floor, ceil\n",
    "\n",
    "print('Arredondamento simples:', round(3.33))\n",
    "print('Arredondamento com casas decimais:', round(3.33156487, 3)) # 3 casas\n",
    "print('Piso (floor):', math.floor(3.99))\n",
    "print('Teto (ceil):', math.ceil(3.001))"
   ]
  },
  {
   "cell_type": "markdown",
   "metadata": {
    "slideshow": {
     "slide_type": "slide"
    }
   },
   "source": [
    "## Operadores Relacionais\n",
    "\n",
    "Uma condição é o estabelecimento de uma relação lógica entre dois elementos. Para definir uma relação lógica é necessário usar operadores relacionais. Uma relação lógica (comparação) retorna somente os valores verdadeiro (`True`) ou falso (`False`)."
   ]
  },
  {
   "cell_type": "markdown",
   "metadata": {
    "slideshow": {
     "slide_type": "fragment"
    }
   },
   "source": [
    "* Igual a: `x == y` (não existe `x === y`)\n",
    "* Maior que: `x > y`\n",
    "* Menor que: `x < y`\n",
    "* Maior ou igual a: `x >= y`\n",
    "* Menor ou igual a: `x <= y`\n",
    "* Diferente de: `x != y`"
   ]
  },
  {
   "cell_type": "code",
   "execution_count": 12,
   "metadata": {
    "scrolled": true,
    "slideshow": {
     "slide_type": "subslide"
    }
   },
   "outputs": [
    {
     "name": "stdout",
     "output_type": "stream",
     "text": [
      "Igual a: False\n",
      "Maior que: False\n",
      "Menor que: True\n",
      "Maior ou igual a: False\n",
      "Menor ou igual a: True\n",
      "Diferente de: True\n"
     ]
    }
   ],
   "source": [
    "x = 3\n",
    "y = 4\n",
    "\n",
    "print('Igual a:', x == y)\n",
    "print('Maior que:', x > y)\n",
    "print('Menor que:', x < y)\n",
    "print('Maior ou igual a:', x >= y)\n",
    "print('Menor ou igual a:', x <= y)\n",
    "print('Diferente de:', x != y)"
   ]
  },
  {
   "cell_type": "markdown",
   "metadata": {
    "slideshow": {
     "slide_type": "slide"
    }
   },
   "source": [
    "## Operadores Lógicos\n",
    "São utilizados para uma mesma tomada de decisão que necessite de mais de uma condição. Também são conhecidos como operadores booleanos. Operadores lógicos retornam somente os valores verdadeiro ou falso.\n",
    "\n",
    "| Operador Lógico | Função    | Prioridade |\n",
    "|-----------------|-----------|---------------------|\n",
    "| `NOT`           | Negação   | 1                   |\n",
    "| `AND`           | Conjunção | 2                   |\n",
    "| `OR`            | Disjunção | 3                   |"
   ]
  },
  {
   "cell_type": "code",
   "execution_count": 13,
   "metadata": {
    "scrolled": true,
    "slideshow": {
     "slide_type": "subslide"
    }
   },
   "outputs": [
    {
     "name": "stdout",
     "output_type": "stream",
     "text": [
      "False\n",
      "True\n",
      "False\n"
     ]
    }
   ],
   "source": [
    "x = 1\n",
    "y = 3\n",
    "z = 5\n",
    "w = 2\n",
    "\n",
    "print((z > w) and (w > y))  # False\n",
    "print((z > w) or (w > y))   # True\n",
    "print(not (y + w == z))     # False"
   ]
  },
  {
   "cell_type": "markdown",
   "metadata": {
    "slideshow": {
     "slide_type": "slide"
    }
   },
   "source": [
    "## Atividades"
   ]
  },
  {
   "cell_type": "markdown",
   "metadata": {
    "slideshow": {
     "slide_type": "subslide"
    }
   },
   "source": [
    "1. Faça a leitura pelo teclado de três variáveis (a, b e c) e mostre o resultado para: a + b - c + (a * c) / a ** 2"
   ]
  },
  {
   "cell_type": "code",
   "execution_count": null,
   "metadata": {
    "slideshow": {
     "slide_type": "fragment"
    }
   },
   "outputs": [],
   "source": [
    "a = \n",
    "b = \n",
    "c = \n",
    "\n",
    "print('O resultado é:', a + b - c + (a * c) / a ** 2)"
   ]
  },
  {
   "cell_type": "markdown",
   "metadata": {
    "slideshow": {
     "slide_type": "subslide"
    }
   },
   "source": [
    "2. Calcular a área de um cubo."
   ]
  },
  {
   "cell_type": "code",
   "execution_count": null,
   "metadata": {
    "scrolled": true,
    "slideshow": {
     "slide_type": "fragment"
    }
   },
   "outputs": [],
   "source": [
    "lado = input(\"Digite o lado da face do cubo: \")\n",
    "Af = ???\n",
    "area_total = 6 * Af\n",
    "print(area_total)"
   ]
  },
  {
   "cell_type": "markdown",
   "metadata": {
    "slideshow": {
     "slide_type": "subslide"
    }
   },
   "source": [
    "3. Mostre os resultados das operações com as casas decimais determinadas."
   ]
  },
  {
   "cell_type": "code",
   "execution_count": null,
   "metadata": {
    "scrolled": true,
    "slideshow": {
     "slide_type": "fragment"
    }
   },
   "outputs": [],
   "source": [
    "print(78 / 35)              # três (2.229)\n",
    "print(-5 / 9)               # cinco (-0.55556)\n",
    "print(\"122\" / \"49.2\")       # duas (2.48)\n",
    "print(\"2.334\" * \"2.5678\")   # três (5.993)"
   ]
  }
 ],
 "metadata": {
  "celltoolbar": "Slideshow",
  "interpreter": {
   "hash": "5f57edc8ab8f7b961e464cf6cce72f8527ff9370e5e237d94a18e64275e674c4"
  },
  "kernelspec": {
   "display_name": "Python [conda env:ciencia-de-dados]",
   "language": "python",
   "name": "conda-env-ciencia-de-dados-py"
  },
  "language_info": {
   "codemirror_mode": {
    "name": "ipython",
    "version": 3
   },
   "file_extension": ".py",
   "mimetype": "text/x-python",
   "name": "python",
   "nbconvert_exporter": "python",
   "pygments_lexer": "ipython3",
   "version": "3.9.6"
  },
  "rise": {
   "autolaunch": true,
   "enable_chalkboard": true,
   "progress": true,
   "scroll": true,
   "slideNumber": true
  }
 },
 "nbformat": 4,
 "nbformat_minor": 4
}
