{
 "cells": [
  {
   "cell_type": "markdown",
   "metadata": {
    "slideshow": {
     "slide_type": "skip"
    }
   },
   "source": [
    "[![Binder](https://mybinder.org/badge_logo.svg)](https://mybinder.org/v2/gh/storopoli/ciencia-de-dados/main?filepath=notebooks%2FAula_18_a_Redes_Neurais_com_TensorFlow.ipynb)\n",
    "<br>\n",
    "[![Open In Colab](https://colab.research.google.com/assets/colab-badge.svg)](https://colab.research.google.com/github/storopoli/ciencia-de-dados/blob/main/notebooks/Aula_18_a_Redes_Neurais_com_TensorFlow.ipynb)"
   ]
  },
  {
   "cell_type": "markdown",
   "metadata": {
    "slideshow": {
     "slide_type": "slide"
    }
   },
   "source": [
    "# Redes Neurais com TensorFlow\n",
    "\n",
    "**Objetivos**: Aprender Redes Neurais Artificiais (RNA) usando a biblioteca `TensorFlow`."
   ]
  },
  {
   "cell_type": "markdown",
   "metadata": {
    "slideshow": {
     "slide_type": "subslide"
    }
   },
   "source": [
    "## TensorFlow e Keras\n",
    "\n",
    "[**TensorFlow**](https://www.tensorflow.org/) é uma biblioteca de código aberto para aprendizado de máquina aplicável a uma ampla variedade de tarefas. Foi criada pelo **Google** em 2015 é a principal biblioteca para criação e treinamento de redes neurais artificiais. A API toda é escrita em Python mas é executada em C++ na CPU ou em CUDA na GPU.\n",
    "\n",
    "[**Keras**](https://keras.io/) é uma biblioteca de código aberto para fácil criação e treinamento de redes neurais artificiais. Projetado para permitir experimentação rápida com redes neurais profundas, ele se concentra em ser fácil de usar, modular e extensível. Em 2017, a equipe do **TensorFlow** decidiu apoiar o Keras na biblioteca principal do **TensorFlow**."
   ]
  },
  {
   "cell_type": "markdown",
   "metadata": {
    "slideshow": {
     "slide_type": "subslide"
    }
   },
   "source": [
    "## O que é uma Rede Neural Artificial?\n",
    "\n",
    "Redes neurais artificiais (RNAs) são modelos computacionais inspirados pelo sistema nervoso central (em particular o cérebro) que são capazes de realizar o aprendizado de máquina bem como o reconhecimento de padrões. Redes neurais artificiais geralmente são apresentadas como sistemas de \"neurônios interconectados, que podem computar valores de entradas\", simulando o comportamento de redes neurais biológicas."
   ]
  },
  {
   "cell_type": "markdown",
   "metadata": {
    "slideshow": {
     "slide_type": "subslide"
    }
   },
   "source": [
    "<img src=\"images/redes_neurais.jpeg\" alt=\"redes neurais\" style=\"width: 500px;\"/>"
   ]
  },
  {
   "cell_type": "markdown",
   "metadata": {
    "slideshow": {
     "slide_type": "subslide"
    }
   },
   "source": [
    "## Como a rede neural aprende?\n",
    "\n",
    "Em cada neurônio há uma função de ativação (*activation function*) que processa uma combinação linear entre inputs e pesos sinápticos, gerando assim um sinal de saída.\n",
    "\n",
    "A informação flui da *input layer* para as *hidden layers* e por fim para a *output layer*. Nesse fluxo os inputs de dados da *input layer* são alimentados para os neurônios das *hidden layers* que por fim alimentam o neurônio final da *output layer*.\n",
    "\n",
    "A primeira passada de informação (propagação) pela rede é geralmente feita com parâmetros aleatórios para as funções de ativação dos neurônios.\n",
    "\n",
    "Ao realizar a propagação, chamada de *feed forward*, temos sinais de saídas nos neurônios da output layer. \n",
    "\n",
    "No fim da propagação, a função custo (uma métrica de erro) é calculada e o modelo então ajusta os parâmetros dos neurônios na direção de um menor custo (por meio do gradiente - derivada multivariada).\n",
    "\n",
    "Assim uma nova propagação é gerada e a numa nova função custo e calculada. Assim como é realizado a atualização dos parâmetros dos neurônios.\n",
    "\n",
    "O nome desse algoritmo é **Retro-propagação** (*Backpropagation*). E cada vez que ele é executado denomina-se como época (*epoch*). E quandos as épocas estabelecidas se encerram, a rede neural encerra o seu treinamento/aprendizagem."
   ]
  },
  {
   "cell_type": "markdown",
   "metadata": {
    "slideshow": {
     "slide_type": "subslide"
    }
   },
   "source": [
    "<img src=\"images/backpropagation.gif\" alt=\"backpropagation\" style=\"width: 500px;\"/>"
   ]
  },
  {
   "cell_type": "markdown",
   "metadata": {
    "slideshow": {
     "slide_type": "subslide"
    }
   },
   "source": [
    "## Funções de Ativação\n",
    "\n",
    "| **Sigmoid**                                                  | **Tanh**                                                     | **ReLU**                                                     | **Leaky ReLU**                                               |\n",
    "| ------------------------------------------------------------ | ------------------------------------------------------------ | ------------------------------------------------------------ | ------------------------------------------------------------ |\n",
    "| $g(z)=\\frac{1}{1+e^{-z}}$                                    | $g(z)=\\frac{e^{z}-e^{-z}}{e^{z}+e^{-z}}$                     | $g(z)=\\max (0, z)$                                           | $\\begin{array}{c}{g(z)=\\max (\\epsilon z, z)} \\\\ {\\text { com } \\epsilon \\ll 1}\\end{array}$ |\n",
    "| ![Illustration](images/sigmoid.png) | ![Illustration](images/tanh.png) | ![Illustration](images/relu.png) | ![Illustration](images/leaky-relu.png) |\n",
    "\n"
   ]
  },
  {
   "cell_type": "markdown",
   "metadata": {
    "slideshow": {
     "slide_type": "subslide"
    }
   },
   "source": [
    "## Algoritmos de Otimização\n",
    "\n",
    "Keras possui diversos:\n",
    "* **SGD**: _**S**tochastic **G**radient **D**escent_\n",
    "* **SGD com Momento**: SGD com Momento usando a derivada (ou gradiente) do ponto atual\n",
    "* **SGD com Momento Nesterov**: SGD com Momento mas  usa a derivada (ou o gradiente) parcial do ponto seguinte (Nesterov, 1983)\n",
    "* **RMSprop**: SGD com taxa de aprendizagem adaptativa  (Hinton, Srivastava & Swersky, 2012) -- `RMSProp`\n",
    "* **AdaGrad**: SGD com taxa de aprendizagem adaptativa (Duchi, Hazan, & Yoram, 2011) --  `AdaGrad`\n",
    "* **Adam**: SGD com taxa de aprendizagem adaptativa e momento (Kingma, Diederick & Jimmy, 2014) --- `ADAM`\n",
    "\n",
    "Os mais importantes são o SGD e o Adam"
   ]
  },
  {
   "cell_type": "markdown",
   "metadata": {
    "slideshow": {
     "slide_type": "subslide"
    }
   },
   "source": [
    "### SGD - Stochastic Gradient Descent\n",
    "\n",
    "[`tf.keras.optimizers.SGD()`](https://keras.io/api/optimizers/sgd/):\n",
    "\n",
    "* `learning_rate=0.01` - Taxa de Aprendizagem $\\eta > 0$\n",
    "* `momentum=0.0` - hyperparâmetro $\\geq 0$ que acelera o *gradient descent* na direção relevante e mitiga oscilações. \n",
    "* `nesterov=False` - `bool` para se aplica *Nesterov Momentum* ou não. *Nesterov Momentum* usa posições intermediárias do gradiente no cálculo do *momentum*. Proposto por Yuri Nesterov em 1983.\n",
    "    "
   ]
  },
  {
   "cell_type": "markdown",
   "metadata": {
    "slideshow": {
     "slide_type": "subslide"
    }
   },
   "source": [
    "### Momentum\n",
    "\n",
    "<img src=\"images/momentum.gif\" alt=\"momentum\" style=\"width: 300px;\"/>"
   ]
  },
  {
   "cell_type": "markdown",
   "metadata": {
    "slideshow": {
     "slide_type": "subslide"
    }
   },
   "source": [
    "### Adam\n",
    "\n",
    "Adam é um método de SGD que usa uma estimativa adaptativa dos momentos de primeira ordem e momentos de segunda ordem. Proposto por Kingma & Ba (2014).\n",
    "\n",
    "[`tf.keras.optimizers.Adam()`](https://keras.io/api/optimizers/adam/):\n",
    "\n",
    "* `learning_rate=0.001` - Taxa de Aprendizagem $\\eta > 0$. Valor padrão menor que o do `SGD()`.\n",
    "* `beta_1=0.9` - O decrescimento exponencial da estimativa dos momentos de primeira ordem.\n",
    "* `beta_2=0.999` - O decrescimento exponencial da estimativa dos momentos de segunda ordem.    "
   ]
  },
  {
   "cell_type": "markdown",
   "metadata": {
    "slideshow": {
     "slide_type": "subslide"
    }
   },
   "source": [
    "### Momentum\n",
    "\n",
    "<img src=\"images/comparacao_otimizadores.gif\" alt=\"comparacao_otimizadores\" style=\"width: 500px;\"/>"
   ]
  },
  {
   "cell_type": "markdown",
   "metadata": {
    "slideshow": {
     "slide_type": "subslide"
    }
   },
   "source": [
    "### Momentum\n",
    "\n",
    "<img src=\"images/opt1.gif\" alt=\"comparacao_otimizadores_2\" style=\"width: 500px;\"/>"
   ]
  },
  {
   "cell_type": "markdown",
   "metadata": {
    "slideshow": {
     "slide_type": "subslide"
    }
   },
   "source": [
    "### Momentum\n",
    "\n",
    "<img src=\"images/opt2.gif\" alt=\"comparacao_otimizadores_3\" style=\"width: 500px;\"/>"
   ]
  },
  {
   "cell_type": "markdown",
   "metadata": {
    "slideshow": {
     "slide_type": "subslide"
    }
   },
   "source": [
    "## Funções Custo\n",
    "\n",
    "As funções custos se dividem em dois tipos:\n",
    "\n",
    "1. Funções Custo de **Classificação**\n",
    "2. Funções Custo de **Regressão**"
   ]
  },
  {
   "cell_type": "markdown",
   "metadata": {
    "slideshow": {
     "slide_type": "subslide"
    }
   },
   "source": [
    "### Funcões Custo de Classificação\n",
    "\n",
    "Mais utilizadas\n",
    "\n",
    "\n",
    "* *Binary Cross-entropy* (Entropia cruzada binária): [`tf.keras.losses.BinaryCrossentropy()`](https://keras.io/api/losses/probabilistic_losses/#binarycrossentropy-class)\n",
    "* *Categorical Cross-entropy* (Entropia cruzada categórica): [`tf.keras.losses.CategoricalCrossentropy()`](https://keras.io/api/losses/probabilistic_losses/#categoricalcrossentropy-class)"
   ]
  },
  {
   "cell_type": "markdown",
   "metadata": {
    "slideshow": {
     "slide_type": "subslide"
    }
   },
   "source": [
    "### Funcões Custo de Regressão\n",
    "\n",
    "Mais utilizadas\n",
    "* MSE - *Mean Squared Error* (Erro quadrado médio): [`tf.keras.losses.MeanSquaredError()`](https://keras.io/api/losses/regression_losses/#meansquarederror-class)\n",
    "* MAE - *Mean Absolute Error* (Erro absoluto médio): [`tf.keras.losses.MeanAbsoluteError()`](https://keras.io/api/losses/regression_losses/#meanabsoluteerror-class)"
   ]
  },
  {
   "cell_type": "markdown",
   "metadata": {
    "slideshow": {
     "slide_type": "subslide"
    }
   },
   "source": [
    "## Como construir sua rede neural no Keras\n",
    "\n",
    "Construir redes neurais com o **Keras** é muito fácil."
   ]
  },
  {
   "cell_type": "code",
   "execution_count": 1,
   "metadata": {
    "slideshow": {
     "slide_type": "slide"
    }
   },
   "outputs": [],
   "source": [
    "import tensorflow as tf\n",
    "import tensorflow.keras as keras"
   ]
  },
  {
   "cell_type": "markdown",
   "metadata": {
    "slideshow": {
     "slide_type": "subslide"
    }
   },
   "source": [
    "### Exemplo de Classificação Binária"
   ]
  },
  {
   "cell_type": "code",
   "execution_count": 2,
   "metadata": {
    "slideshow": {
     "slide_type": "subslide"
    }
   },
   "outputs": [
    {
     "name": "stdout",
     "output_type": "stream",
     "text": [
      "Model: \"sequential\"\n",
      "_________________________________________________________________\n",
      "Layer (type)                 Output Shape              Param #   \n",
      "=================================================================\n",
      "dense (Dense)                (None, 20, 20)            40        \n",
      "_________________________________________________________________\n",
      "dense_1 (Dense)              (None, 20, 20)            420       \n",
      "_________________________________________________________________\n",
      "dense_2 (Dense)              (None, 20, 1)             21        \n",
      "=================================================================\n",
      "Total params: 481\n",
      "Trainable params: 481\n",
      "Non-trainable params: 0\n",
      "_________________________________________________________________\n"
     ]
    }
   ],
   "source": [
    "model = keras.models.Sequential()  # Cria uma rede neural sequencial - feed foward\n",
    "model.add(keras.layers.Dense(20, activation='relu', input_shape=(20, 1))) # primeira hidden layer\n",
    "model.add(keras.layers.Dense(20, activation='LeakyReLU')) # segunda hidden layer\n",
    "model.add(keras.layers.Dense(1, activation= 'sigmoid')) # output layer com ativação sigmoid\n",
    "\n",
    "model.summary()"
   ]
  },
  {
   "cell_type": "markdown",
   "metadata": {
    "slideshow": {
     "slide_type": "subslide"
    }
   },
   "source": [
    "### Exemplo de Regressão"
   ]
  },
  {
   "cell_type": "code",
   "execution_count": 3,
   "metadata": {
    "slideshow": {
     "slide_type": "subslide"
    }
   },
   "outputs": [
    {
     "name": "stdout",
     "output_type": "stream",
     "text": [
      "Model: \"sequential_1\"\n",
      "_________________________________________________________________\n",
      "Layer (type)                 Output Shape              Param #   \n",
      "=================================================================\n",
      "dense_3 (Dense)              (None, 20, 20)            40        \n",
      "_________________________________________________________________\n",
      "dense_4 (Dense)              (None, 20, 20)            420       \n",
      "_________________________________________________________________\n",
      "dense_5 (Dense)              (None, 20, 1)             21        \n",
      "=================================================================\n",
      "Total params: 481\n",
      "Trainable params: 481\n",
      "Non-trainable params: 0\n",
      "_________________________________________________________________\n"
     ]
    }
   ],
   "source": [
    "model = keras.models.Sequential()  # Cria uma rede neural sequencial - feed foward\n",
    "model.add(keras.layers.Dense(20, activation='relu', input_shape=(20, 1))) # primeira hidden layer\n",
    "model.add(keras.layers.Dense(20, activation='LeakyReLU')) # segunda hidden layer\n",
    "model.add(keras.layers.Dense(1, activation= 'linear')) # output layer com ativação linear\n",
    "\n",
    "model.summary()"
   ]
  },
  {
   "cell_type": "markdown",
   "metadata": {
    "slideshow": {
     "slide_type": "subslide"
    }
   },
   "source": [
    "### Exemplo de Multiclassificação (não-binária - acima de duas classes)"
   ]
  },
  {
   "cell_type": "code",
   "execution_count": 4,
   "metadata": {
    "slideshow": {
     "slide_type": "subslide"
    }
   },
   "outputs": [
    {
     "name": "stdout",
     "output_type": "stream",
     "text": [
      "Model: \"sequential_2\"\n",
      "_________________________________________________________________\n",
      "Layer (type)                 Output Shape              Param #   \n",
      "=================================================================\n",
      "dense_6 (Dense)              (None, 20, 20)            40        \n",
      "_________________________________________________________________\n",
      "dense_7 (Dense)              (None, 20, 20)            420       \n",
      "_________________________________________________________________\n",
      "dense_8 (Dense)              (None, 20, 100)           2100      \n",
      "=================================================================\n",
      "Total params: 2,560\n",
      "Trainable params: 2,560\n",
      "Non-trainable params: 0\n",
      "_________________________________________________________________\n"
     ]
    }
   ],
   "source": [
    "model = keras.models.Sequential()  # Cria uma rede neural sequencial - feed foward\n",
    "model.add(keras.layers.Dense(20, activation='relu', input_shape=(20, 1))) # primeira hidden layer\n",
    "model.add(keras.layers.Dense(20, activation='LeakyReLU')) # segunda hidden layer\n",
    "model.add(keras.layers.Dense(100, activation= 'softmax')) # output layer com ativação softmax com 10 classes\n",
    "\n",
    "model.summary()"
   ]
  },
  {
   "cell_type": "markdown",
   "metadata": {
    "slideshow": {
     "slide_type": "subslide"
    }
   },
   "source": [
    "## Como treinar sua rede neural no Keras\n",
    "\n",
    "Uma vez especificado o modelo, ele deve ser compilado com o comando `model.compile()` no qual deve se especificar a função custo `loss`, o otimizador `optimizer` e as métricas `metrics` como lista"
   ]
  },
  {
   "cell_type": "code",
   "execution_count": 5,
   "metadata": {
    "slideshow": {
     "slide_type": "fragment"
    }
   },
   "outputs": [],
   "source": [
    "model.compile(loss=keras.losses.categorical_crossentropy,\n",
    "             optimizer=keras.optimizers.SGD(),\n",
    "             metrics=[keras.metrics.Accuracy()])"
   ]
  },
  {
   "cell_type": "markdown",
   "metadata": {
    "slideshow": {
     "slide_type": "subslide"
    }
   },
   "source": [
    "## Como ajustar o treinamento sua rede neural no Keras\n",
    "\n",
    "* Batch Size\n",
    "* Dropout\n",
    "* Early Stopping"
   ]
  },
  {
   "cell_type": "markdown",
   "metadata": {
    "slideshow": {
     "slide_type": "subslide"
    }
   },
   "source": [
    "### Batch Size\n",
    "\n",
    "Tamanho do Batch de dados que passa por vez pela rede neural antes da atualização dos parâmetros pelo *backpropagation*. Tamanhos grandes resultam em instabilidade no treinamento. Geralmente usam-se potências de $2$ $(2,4,8,16,\\dots, 2^n)$.\n",
    "\n",
    "Em Abril de 2018, Yann LeCun, um dos principais pesquisadores sobre redes neurais e ganhador do \"nobel\" da computação (Prêmio Turing) [twittou](https://twitter.com/ylecun/status/989610208497360896) em resposta à Masters & Luschi (2018) que mostrava diversos contextos de *batch size*:\n",
    "\n",
    ">\"Friends don't let friends use mini-batches larger than 32\"\n",
    "\n",
    "Então 32 é um valor empiricamente verificado que dá estabilidade ao treinamento.\n",
    "\n",
    "> Dominic Masters and Carlo Luschi. \"Revisiting small batch training for deep neural networks.\" _arXiv preprint arXiv:1804.07612_ (2018)."
   ]
  },
  {
   "cell_type": "markdown",
   "metadata": {
    "slideshow": {
     "slide_type": "subslide"
    }
   },
   "source": [
    "### Dropout\n",
    "\n",
    "Uma medida de regularização na qual evita-se overfitting proposta por Hinton em 2012. *Dropout* é um algoritmo que especifica que a cada iteração de época do treino os neurônios possuem uma probabilidade de serem removidos (não utilizados) para a aprendizagem. Geralmente a probabilidade ideal fica em torno de 20% ($0.2$).\n",
    "\n",
    "Coloca-se como se fosse uma camada após a camada que deseja aplicar o dropout:\n",
    "\n",
    "```python\n",
    "model.add(keras.layers.Dense(4, activation='relu'))  # hidden layer\n",
    "model.add(keras.layers.Dropout(0.2))                 # dropout layer\n",
    "```"
   ]
  },
  {
   "cell_type": "markdown",
   "metadata": {
    "slideshow": {
     "slide_type": "subslide"
    }
   },
   "source": [
    "<img src=\"images/dropout.gif\" alt=\"dropout\" style=\"width: 500px;\"/>"
   ]
  },
  {
   "cell_type": "markdown",
   "metadata": {
    "slideshow": {
     "slide_type": "subslide"
    }
   },
   "source": [
    "### *Early Stopping* (Parada Precoce)\n",
    "\n",
    "Usar *Early Stopping* significa que, no final de cada época, devemos calcular o erro da rede. Se ele não diminuir significativamente após $n$ épocas, o treinamento é interrompido e a rede utiliza os parâmetros aprendidos até o ponto de interrupção.\n",
    "\n",
    "É um `callback` especificado durante o treino\n",
    "\n",
    "* [`tf.keras.callbacks.EarlyStopping()`](https://keras.io/api/callbacks/early_stopping/)\n",
    "    * `monitor='val_loss'` - métrica a monitorar\n",
    "    * `patience=N` - número de épocas a esperar até não conseguir nenhum aprimoramento para interrupção do treinamento"
   ]
  },
  {
   "cell_type": "markdown",
   "metadata": {
    "slideshow": {
     "slide_type": "subslide"
    }
   },
   "source": [
    "Após isso é só treinar o modelo com `model.fit(X_train, y_train)` especificando o número de épocas `epochs`, tamanho do batch `batch_size` e dados de validação `validation_data`."
   ]
  },
  {
   "cell_type": "markdown",
   "metadata": {
    "slideshow": {
     "slide_type": "subslide"
    }
   },
   "source": [
    "```python\n",
    "history  = model.fit(X_train, y_train,\n",
    "                     batch_size=batch_size,\n",
    "                     epochs=epochs,\n",
    "                     verbose=1,\n",
    "                     validation_data=(X_test, y_test),\n",
    "                     callbacks=[keras.callbacks.EarlyStopping(\n",
    "                         monitor='val_loss',\n",
    "                         patience=3)])\n",
    "```"
   ]
  },
  {
   "cell_type": "markdown",
   "metadata": {
    "slideshow": {
     "slide_type": "subslide"
    }
   },
   "source": [
    "## Visualizando o avanço do treinamento"
   ]
  },
  {
   "cell_type": "markdown",
   "metadata": {
    "slideshow": {
     "slide_type": "subslide"
    }
   },
   "source": [
    "```python\n",
    "# Plot acurácia de treino e validação\n",
    "plt.plot(history.history['accuracy'])\n",
    "plt.plot(history.history['val_accuracy'])\n",
    "plt.title('Model accuracy')\n",
    "plt.ylabel('Accuracy')\n",
    "plt.xlabel('Epoch')\n",
    "plt.legend(['Train', 'Test'], loc='upper left')\n",
    "plt.show()\n",
    "\n",
    "# Plot custo de treino e validação\n",
    "plt.plot(history.history['loss'])\n",
    "plt.plot(history.history['val_loss'])\n",
    "plt.title('Model loss')\n",
    "plt.ylabel('Loss')\n",
    "plt.xlabel('Epoch')\n",
    "plt.legend(['Train', 'Test'], loc='upper left')\n",
    "plt.show()\n",
    "```"
   ]
  },
  {
   "cell_type": "markdown",
   "metadata": {
    "slideshow": {
     "slide_type": "slide"
    }
   },
   "source": [
    "## Exemplo com o dataset Titanic\n",
    "\n",
    "Contém 891 passageiros reais do Titanic que afundou em 15/04/1912 matando 1502 de 2224 passageiros e tripulação que estavam a bordo.\n",
    "\n",
    "* `survived`: *dummy* `0` ou `1` \n",
    "* `pclass`: Classe do Passageiro\n",
    "    - `1`: Primeira Classe\n",
    "    - `2`: Segunda Classe\n",
    "    - `3`: Terceira Classe\n",
    "* `sex`: Sexo `male` ou `female`\n",
    "* `age`: Idade\n",
    "* `sibsp`: Número de Irmãos (*Siblings*) e Esposas (*spouse*) a bordo\n",
    "* `parch`: Número de pais/filhos a bordo\n",
    "* `fare`: Valor pago pela passagem em libras\n",
    "* `embarked`: Porto que embarcou\n",
    "    - `C`: Cherbourg\n",
    "    - `Q`: Queenstown\n",
    "    - `S`: Southampton)\n",
    "* `class`: Mesmo que `pclass` só que em texto\n",
    "* `adult_male`: *dummy* para `age > 16` e `sex == 'male'`\n",
    "* `deck`: Qual deck a cabine do passageiro se situava\n",
    "* `alive`: Mesmo que survived só que com `yes` ou `no`\n",
    "* `alone`: *dummy* para se viajava sozinho\n",
    "\n",
    ">Obs: usar `random_state = 123`"
   ]
  },
  {
   "cell_type": "markdown",
   "metadata": {
    "slideshow": {
     "slide_type": "subslide"
    }
   },
   "source": [
    "<img src=\"images/titanic.png\" alt=\"titanic\" style=\"width: 500px;\"/>"
   ]
  },
  {
   "cell_type": "code",
   "execution_count": 6,
   "metadata": {
    "slideshow": {
     "slide_type": "subslide"
    }
   },
   "outputs": [],
   "source": [
    "import seaborn as sns\n",
    "import pandas as pd\n",
    "from sklearn.model_selection import train_test_split\n",
    "titanic = sns.load_dataset('titanic')\n",
    "\n",
    "feature_names = ['pclass', 'female', 'age', 'fare']\n",
    "titanic['female'] = titanic['sex'].map({'male': 0, 'female': 1})\n",
    "titanic.dropna(subset=feature_names, inplace=True)  #891 para 714\n",
    "\n",
    "X = titanic[feature_names].to_numpy()\n",
    "y = titanic['survived'].to_numpy()\n",
    "\n",
    "X_train, X_test, y_train, y_test = train_test_split(X, y,\n",
    "                                                    test_size=0.25,\n",
    "                                                    random_state=123)"
   ]
  },
  {
   "cell_type": "code",
   "execution_count": 7,
   "metadata": {
    "slideshow": {
     "slide_type": "subslide"
    }
   },
   "outputs": [
    {
     "name": "stdout",
     "output_type": "stream",
     "text": [
      "Tamanho de X_train:  (535, 4)\n",
      "Tamanho de X_test:  (179, 4)\n",
      "Tamanho de y_train:  (535,)\n",
      "Tamanho de y_test:  (179,)\n"
     ]
    }
   ],
   "source": [
    "print('Tamanho de X_train: ', X_train.shape)\n",
    "print('Tamanho de X_test: ', X_test.shape)\n",
    "print('Tamanho de y_train: ', y_train.shape)\n",
    "print('Tamanho de y_test: ', y_test.shape)"
   ]
  },
  {
   "cell_type": "code",
   "execution_count": 8,
   "metadata": {
    "scrolled": true,
    "slideshow": {
     "slide_type": "subslide"
    }
   },
   "outputs": [
    {
     "name": "stdout",
     "output_type": "stream",
     "text": [
      "Model: \"sequential_3\"\n",
      "_________________________________________________________________\n",
      "Layer (type)                 Output Shape              Param #   \n",
      "=================================================================\n",
      "dense_9 (Dense)              (None, 4)                 20        \n",
      "_________________________________________________________________\n",
      "dropout (Dropout)            (None, 4)                 0         \n",
      "_________________________________________________________________\n",
      "dense_10 (Dense)             (None, 1)                 5         \n",
      "=================================================================\n",
      "Total params: 25\n",
      "Trainable params: 25\n",
      "Non-trainable params: 0\n",
      "_________________________________________________________________\n"
     ]
    }
   ],
   "source": [
    "model = keras.models.Sequential()  # Cria uma rede neural sequencial - feed foward\n",
    "model.add(keras.layers.Dense(4, activation='relu', input_shape=X_train[0].shape)) # primeira hidden layer\n",
    "model.add(keras.layers.Dropout(0.2))\n",
    "model.add(keras.layers.Dense(1, activation= 'sigmoid')) # output layer com ativação sigmoid\n",
    "\n",
    "model.summary()"
   ]
  },
  {
   "cell_type": "code",
   "execution_count": 9,
   "metadata": {
    "slideshow": {
     "slide_type": "fragment"
    }
   },
   "outputs": [],
   "source": [
    "model.compile(loss=keras.losses.binary_crossentropy,\n",
    "             optimizer=keras.optimizers.Adam(),\n",
    "             metrics=['accuracy'])"
   ]
  },
  {
   "cell_type": "code",
   "execution_count": 10,
   "metadata": {
    "slideshow": {
     "slide_type": "subslide"
    }
   },
   "outputs": [
    {
     "name": "stdout",
     "output_type": "stream",
     "text": [
      "Epoch 1/100\n",
      "17/17 [==============================] - 0s 8ms/step - loss: 20.5455 - accuracy: 0.5664 - val_loss: 14.0240 - val_accuracy: 0.6034\n",
      "Epoch 2/100\n",
      "17/17 [==============================] - 0s 2ms/step - loss: 19.1556 - accuracy: 0.5626 - val_loss: 13.1088 - val_accuracy: 0.6034\n",
      "Epoch 3/100\n",
      "17/17 [==============================] - 0s 2ms/step - loss: 18.7690 - accuracy: 0.5757 - val_loss: 12.2278 - val_accuracy: 0.6034\n",
      "Epoch 4/100\n",
      "17/17 [==============================] - 0s 2ms/step - loss: 17.3987 - accuracy: 0.5645 - val_loss: 11.3958 - val_accuracy: 0.6034\n",
      "Epoch 5/100\n",
      "17/17 [==============================] - 0s 2ms/step - loss: 16.0133 - accuracy: 0.5738 - val_loss: 10.6085 - val_accuracy: 0.6034\n",
      "Epoch 6/100\n",
      "17/17 [==============================] - 0s 2ms/step - loss: 16.4447 - accuracy: 0.5477 - val_loss: 9.8426 - val_accuracy: 0.6034\n",
      "Epoch 7/100\n",
      "17/17 [==============================] - 0s 2ms/step - loss: 14.0243 - accuracy: 0.5551 - val_loss: 9.1506 - val_accuracy: 0.6034\n",
      "Epoch 8/100\n",
      "17/17 [==============================] - 0s 2ms/step - loss: 13.1090 - accuracy: 0.5645 - val_loss: 8.4964 - val_accuracy: 0.6034\n",
      "Epoch 9/100\n",
      "17/17 [==============================] - 0s 3ms/step - loss: 13.1418 - accuracy: 0.5439 - val_loss: 7.8715 - val_accuracy: 0.6034\n",
      "Epoch 10/100\n",
      "17/17 [==============================] - 0s 2ms/step - loss: 12.4623 - accuracy: 0.5364 - val_loss: 7.2462 - val_accuracy: 0.6034\n",
      "Epoch 11/100\n",
      "17/17 [==============================] - 0s 2ms/step - loss: 10.5419 - accuracy: 0.5196 - val_loss: 6.6986 - val_accuracy: 0.6034\n",
      "Epoch 12/100\n",
      "17/17 [==============================] - 0s 2ms/step - loss: 9.6310 - accuracy: 0.5402 - val_loss: 6.2094 - val_accuracy: 0.5978\n",
      "Epoch 13/100\n",
      "17/17 [==============================] - 0s 2ms/step - loss: 9.1552 - accuracy: 0.5271 - val_loss: 5.7680 - val_accuracy: 0.5978\n",
      "Epoch 14/100\n",
      "17/17 [==============================] - 0s 2ms/step - loss: 9.0625 - accuracy: 0.5327 - val_loss: 5.3404 - val_accuracy: 0.5698\n",
      "Epoch 15/100\n",
      "17/17 [==============================] - 0s 2ms/step - loss: 8.2354 - accuracy: 0.5103 - val_loss: 4.9462 - val_accuracy: 0.5475\n",
      "Epoch 16/100\n",
      "17/17 [==============================] - 0s 2ms/step - loss: 7.6079 - accuracy: 0.4897 - val_loss: 4.6038 - val_accuracy: 0.5307\n",
      "Epoch 17/100\n",
      "17/17 [==============================] - 0s 2ms/step - loss: 6.8022 - accuracy: 0.4935 - val_loss: 4.2831 - val_accuracy: 0.5028\n",
      "Epoch 18/100\n",
      "17/17 [==============================] - 0s 2ms/step - loss: 6.7813 - accuracy: 0.4243 - val_loss: 3.9596 - val_accuracy: 0.4469\n",
      "Epoch 19/100\n",
      "17/17 [==============================] - 0s 2ms/step - loss: 5.9797 - accuracy: 0.4374 - val_loss: 3.6761 - val_accuracy: 0.4078\n",
      "Epoch 20/100\n",
      "17/17 [==============================] - 0s 2ms/step - loss: 5.5666 - accuracy: 0.3664 - val_loss: 3.3051 - val_accuracy: 0.3575\n",
      "Epoch 21/100\n",
      "17/17 [==============================] - 0s 2ms/step - loss: 4.8293 - accuracy: 0.3963 - val_loss: 2.9275 - val_accuracy: 0.3240\n",
      "Epoch 22/100\n",
      "17/17 [==============================] - 0s 2ms/step - loss: 4.6522 - accuracy: 0.3664 - val_loss: 2.4819 - val_accuracy: 0.3184\n",
      "Epoch 23/100\n",
      "17/17 [==============================] - 0s 2ms/step - loss: 3.5366 - accuracy: 0.3551 - val_loss: 1.8489 - val_accuracy: 0.3296\n",
      "Epoch 24/100\n",
      "17/17 [==============================] - 0s 2ms/step - loss: 2.3331 - accuracy: 0.3551 - val_loss: 1.2683 - val_accuracy: 0.3408\n",
      "Epoch 25/100\n",
      "17/17 [==============================] - 0s 2ms/step - loss: 1.7377 - accuracy: 0.3458 - val_loss: 0.8262 - val_accuracy: 0.3799\n",
      "Epoch 26/100\n",
      "17/17 [==============================] - 0s 2ms/step - loss: 1.3730 - accuracy: 0.3888 - val_loss: 0.8019 - val_accuracy: 0.4022\n",
      "Epoch 27/100\n",
      "17/17 [==============================] - 0s 2ms/step - loss: 2.0712 - accuracy: 0.3925 - val_loss: 0.8050 - val_accuracy: 0.3687\n",
      "Epoch 28/100\n",
      "17/17 [==============================] - 0s 2ms/step - loss: 1.9494 - accuracy: 0.3738 - val_loss: 0.8020 - val_accuracy: 0.3631\n",
      "Epoch 29/100\n",
      "17/17 [==============================] - 0s 2ms/step - loss: 1.6729 - accuracy: 0.3607 - val_loss: 0.7677 - val_accuracy: 0.4078\n",
      "Epoch 30/100\n",
      "17/17 [==============================] - 0s 2ms/step - loss: 1.1808 - accuracy: 0.3963 - val_loss: 0.7543 - val_accuracy: 0.4078\n",
      "Epoch 31/100\n",
      "17/17 [==============================] - 0s 2ms/step - loss: 1.8788 - accuracy: 0.3701 - val_loss: 0.7586 - val_accuracy: 0.3855\n",
      "Epoch 32/100\n",
      "17/17 [==============================] - 0s 2ms/step - loss: 1.5401 - accuracy: 0.3813 - val_loss: 0.7423 - val_accuracy: 0.3966\n",
      "Epoch 33/100\n",
      "17/17 [==============================] - 0s 2ms/step - loss: 1.0883 - accuracy: 0.3925 - val_loss: 0.7353 - val_accuracy: 0.3966\n",
      "Epoch 34/100\n",
      "17/17 [==============================] - 0s 2ms/step - loss: 2.0238 - accuracy: 0.3944 - val_loss: 0.7264 - val_accuracy: 0.4022\n",
      "Epoch 35/100\n",
      "17/17 [==============================] - 0s 2ms/step - loss: 1.4208 - accuracy: 0.3888 - val_loss: 0.7270 - val_accuracy: 0.3911\n",
      "Epoch 36/100\n",
      "17/17 [==============================] - 0s 2ms/step - loss: 1.2484 - accuracy: 0.3963 - val_loss: 0.7200 - val_accuracy: 0.3911\n",
      "Epoch 37/100\n",
      "17/17 [==============================] - 0s 2ms/step - loss: 1.5292 - accuracy: 0.3813 - val_loss: 0.7146 - val_accuracy: 0.3911\n",
      "Epoch 38/100\n",
      "17/17 [==============================] - 0s 2ms/step - loss: 0.9751 - accuracy: 0.3981 - val_loss: 0.7147 - val_accuracy: 0.3855\n",
      "Epoch 39/100\n",
      "17/17 [==============================] - 0s 1ms/step - loss: 1.5151 - accuracy: 0.3907 - val_loss: 0.7088 - val_accuracy: 0.3855\n",
      "Epoch 40/100\n",
      "17/17 [==============================] - 0s 2ms/step - loss: 1.4401 - accuracy: 0.3850 - val_loss: 0.7074 - val_accuracy: 0.3911\n",
      "Epoch 41/100\n",
      "17/17 [==============================] - 0s 1ms/step - loss: 1.1502 - accuracy: 0.4037 - val_loss: 0.6992 - val_accuracy: 0.4022\n",
      "Epoch 42/100\n",
      "17/17 [==============================] - 0s 2ms/step - loss: 1.3502 - accuracy: 0.3963 - val_loss: 0.6990 - val_accuracy: 0.3911\n",
      "Epoch 43/100\n",
      "17/17 [==============================] - 0s 2ms/step - loss: 1.0239 - accuracy: 0.3963 - val_loss: 0.6954 - val_accuracy: 0.3911\n",
      "Epoch 44/100\n",
      "17/17 [==============================] - 0s 2ms/step - loss: 1.2818 - accuracy: 0.4000 - val_loss: 0.6932 - val_accuracy: 0.3911\n",
      "Epoch 45/100\n",
      "17/17 [==============================] - 0s 2ms/step - loss: 1.0667 - accuracy: 0.4019 - val_loss: 0.6880 - val_accuracy: 0.3966\n",
      "Epoch 46/100\n",
      "17/17 [==============================] - 0s 2ms/step - loss: 1.1225 - accuracy: 0.3963 - val_loss: 0.6848 - val_accuracy: 0.4022\n",
      "Epoch 47/100\n",
      "17/17 [==============================] - 0s 2ms/step - loss: 1.2545 - accuracy: 0.3850 - val_loss: 0.6823 - val_accuracy: 0.4022\n",
      "Epoch 48/100\n",
      "17/17 [==============================] - 0s 2ms/step - loss: 1.0208 - accuracy: 0.3907 - val_loss: 0.6835 - val_accuracy: 0.4078\n",
      "Epoch 49/100\n",
      "17/17 [==============================] - 0s 2ms/step - loss: 1.1124 - accuracy: 0.4037 - val_loss: 0.6799 - val_accuracy: 0.3966\n",
      "Epoch 50/100\n",
      "17/17 [==============================] - 0s 2ms/step - loss: 1.1561 - accuracy: 0.3869 - val_loss: 0.6775 - val_accuracy: 0.3911\n",
      "Epoch 51/100\n",
      "17/17 [==============================] - 0s 2ms/step - loss: 0.8686 - accuracy: 0.4131 - val_loss: 0.6763 - val_accuracy: 0.3966\n",
      "Epoch 52/100\n",
      "17/17 [==============================] - 0s 2ms/step - loss: 0.8222 - accuracy: 0.5364 - val_loss: 0.6756 - val_accuracy: 0.6816\n",
      "Epoch 53/100\n",
      "17/17 [==============================] - 0s 2ms/step - loss: 1.0017 - accuracy: 0.6393 - val_loss: 0.6733 - val_accuracy: 0.6760\n",
      "Epoch 54/100\n",
      "17/17 [==============================] - 0s 1ms/step - loss: 1.0243 - accuracy: 0.6505 - val_loss: 0.6725 - val_accuracy: 0.6816\n",
      "Epoch 55/100\n",
      "17/17 [==============================] - 0s 2ms/step - loss: 1.0404 - accuracy: 0.6411 - val_loss: 0.6714 - val_accuracy: 0.6872\n",
      "Epoch 56/100\n",
      "17/17 [==============================] - 0s 2ms/step - loss: 1.2041 - accuracy: 0.6542 - val_loss: 0.6694 - val_accuracy: 0.6760\n",
      "Epoch 57/100\n",
      "17/17 [==============================] - 0s 2ms/step - loss: 1.0704 - accuracy: 0.6449 - val_loss: 0.6677 - val_accuracy: 0.6816\n",
      "Epoch 58/100\n",
      "17/17 [==============================] - 0s 2ms/step - loss: 1.1414 - accuracy: 0.6449 - val_loss: 0.6668 - val_accuracy: 0.6760\n",
      "Epoch 59/100\n",
      "17/17 [==============================] - 0s 2ms/step - loss: 0.9874 - accuracy: 0.6430 - val_loss: 0.6666 - val_accuracy: 0.6704\n",
      "Epoch 60/100\n",
      "17/17 [==============================] - 0s 1ms/step - loss: 1.1457 - accuracy: 0.6374 - val_loss: 0.6657 - val_accuracy: 0.6816\n",
      "Epoch 61/100\n",
      "17/17 [==============================] - 0s 1ms/step - loss: 0.8663 - accuracy: 0.6523 - val_loss: 0.6649 - val_accuracy: 0.6760\n",
      "Epoch 62/100\n",
      "17/17 [==============================] - 0s 1ms/step - loss: 0.7826 - accuracy: 0.6617 - val_loss: 0.6623 - val_accuracy: 0.6760\n",
      "Epoch 63/100\n",
      "17/17 [==============================] - 0s 1ms/step - loss: 0.8931 - accuracy: 0.6411 - val_loss: 0.6609 - val_accuracy: 0.6648\n",
      "Epoch 64/100\n",
      "17/17 [==============================] - 0s 1ms/step - loss: 0.8433 - accuracy: 0.6579 - val_loss: 0.6599 - val_accuracy: 0.6592\n",
      "Epoch 65/100\n",
      "17/17 [==============================] - 0s 1ms/step - loss: 0.9895 - accuracy: 0.6318 - val_loss: 0.6592 - val_accuracy: 0.6592\n",
      "Epoch 66/100\n",
      "17/17 [==============================] - 0s 1ms/step - loss: 0.9639 - accuracy: 0.6449 - val_loss: 0.6583 - val_accuracy: 0.6704\n",
      "Epoch 67/100\n",
      "17/17 [==============================] - 0s 1ms/step - loss: 0.9320 - accuracy: 0.6561 - val_loss: 0.6588 - val_accuracy: 0.6592\n",
      "Epoch 68/100\n",
      "17/17 [==============================] - 0s 1ms/step - loss: 0.9397 - accuracy: 0.6336 - val_loss: 0.6590 - val_accuracy: 0.6648\n",
      "Epoch 69/100\n",
      "17/17 [==============================] - 0s 1ms/step - loss: 0.7125 - accuracy: 0.6430 - val_loss: 0.6582 - val_accuracy: 0.6592\n",
      "Epoch 70/100\n",
      "17/17 [==============================] - 0s 1ms/step - loss: 0.8377 - accuracy: 0.6393 - val_loss: 0.6587 - val_accuracy: 0.6704\n",
      "Epoch 71/100\n",
      "17/17 [==============================] - 0s 1ms/step - loss: 0.8214 - accuracy: 0.6505 - val_loss: 0.6577 - val_accuracy: 0.6592\n",
      "Epoch 72/100\n",
      "17/17 [==============================] - 0s 2ms/step - loss: 0.8469 - accuracy: 0.6318 - val_loss: 0.6577 - val_accuracy: 0.6425\n",
      "Epoch 73/100\n",
      "17/17 [==============================] - 0s 2ms/step - loss: 0.8126 - accuracy: 0.6393 - val_loss: 0.6574 - val_accuracy: 0.6592\n",
      "Epoch 74/100\n",
      "17/17 [==============================] - 0s 1ms/step - loss: 0.8890 - accuracy: 0.6280 - val_loss: 0.6569 - val_accuracy: 0.6480\n",
      "Epoch 75/100\n",
      "17/17 [==============================] - 0s 2ms/step - loss: 0.9265 - accuracy: 0.6486 - val_loss: 0.6574 - val_accuracy: 0.6536\n",
      "Epoch 76/100\n",
      "17/17 [==============================] - 0s 2ms/step - loss: 0.9042 - accuracy: 0.6374 - val_loss: 0.6582 - val_accuracy: 0.6425\n",
      "Epoch 77/100\n",
      "17/17 [==============================] - 0s 1ms/step - loss: 0.8201 - accuracy: 0.6411 - val_loss: 0.6587 - val_accuracy: 0.6425\n",
      "Epoch 78/100\n",
      "17/17 [==============================] - 0s 2ms/step - loss: 0.8297 - accuracy: 0.6280 - val_loss: 0.6605 - val_accuracy: 0.6536\n",
      "Epoch 79/100\n",
      "17/17 [==============================] - 0s 2ms/step - loss: 0.8108 - accuracy: 0.6336 - val_loss: 0.6601 - val_accuracy: 0.6425\n",
      "Epoch 80/100\n",
      "17/17 [==============================] - 0s 2ms/step - loss: 0.8309 - accuracy: 0.6318 - val_loss: 0.6593 - val_accuracy: 0.6369\n",
      "Epoch 81/100\n",
      "17/17 [==============================] - 0s 1ms/step - loss: 0.8474 - accuracy: 0.6243 - val_loss: 0.6593 - val_accuracy: 0.6425\n",
      "Epoch 82/100\n",
      "17/17 [==============================] - 0s 1ms/step - loss: 0.7678 - accuracy: 0.6523 - val_loss: 0.6605 - val_accuracy: 0.6425\n",
      "Epoch 83/100\n",
      "17/17 [==============================] - 0s 1ms/step - loss: 0.8456 - accuracy: 0.6299 - val_loss: 0.6601 - val_accuracy: 0.6425\n",
      "Epoch 84/100\n",
      "17/17 [==============================] - 0s 1ms/step - loss: 0.7551 - accuracy: 0.6336 - val_loss: 0.6599 - val_accuracy: 0.6425\n",
      "Epoch 85/100\n",
      "17/17 [==============================] - 0s 1ms/step - loss: 0.7754 - accuracy: 0.6393 - val_loss: 0.6602 - val_accuracy: 0.6425\n",
      "Epoch 86/100\n",
      "17/17 [==============================] - 0s 1ms/step - loss: 0.7125 - accuracy: 0.6523 - val_loss: 0.6600 - val_accuracy: 0.6425\n",
      "Epoch 87/100\n",
      "17/17 [==============================] - 0s 1ms/step - loss: 0.7083 - accuracy: 0.6336 - val_loss: 0.6594 - val_accuracy: 0.6425\n",
      "Epoch 88/100\n",
      "17/17 [==============================] - 0s 2ms/step - loss: 0.8590 - accuracy: 0.6318 - val_loss: 0.6590 - val_accuracy: 0.6425\n",
      "Epoch 89/100\n",
      "17/17 [==============================] - 0s 2ms/step - loss: 0.8340 - accuracy: 0.6187 - val_loss: 0.6587 - val_accuracy: 0.6369\n",
      "Epoch 90/100\n",
      "17/17 [==============================] - 0s 2ms/step - loss: 0.7855 - accuracy: 0.6355 - val_loss: 0.6581 - val_accuracy: 0.6480\n",
      "Epoch 91/100\n",
      "17/17 [==============================] - 0s 1ms/step - loss: 0.7231 - accuracy: 0.6430 - val_loss: 0.6598 - val_accuracy: 0.6425\n",
      "Epoch 92/100\n",
      "17/17 [==============================] - 0s 2ms/step - loss: 0.8439 - accuracy: 0.6318 - val_loss: 0.6588 - val_accuracy: 0.6425\n",
      "Epoch 93/100\n",
      "17/17 [==============================] - 0s 2ms/step - loss: 0.8056 - accuracy: 0.6411 - val_loss: 0.6577 - val_accuracy: 0.6480\n",
      "Epoch 94/100\n",
      "17/17 [==============================] - 0s 2ms/step - loss: 0.8251 - accuracy: 0.6318 - val_loss: 0.6571 - val_accuracy: 0.6425\n",
      "Epoch 95/100\n",
      "17/17 [==============================] - 0s 2ms/step - loss: 0.7147 - accuracy: 0.6355 - val_loss: 0.6570 - val_accuracy: 0.6425\n",
      "Epoch 96/100\n",
      "17/17 [==============================] - 0s 2ms/step - loss: 0.7824 - accuracy: 0.6430 - val_loss: 0.6565 - val_accuracy: 0.6425\n",
      "Epoch 97/100\n",
      "17/17 [==============================] - 0s 1ms/step - loss: 0.7857 - accuracy: 0.6280 - val_loss: 0.6569 - val_accuracy: 0.6425\n",
      "Epoch 98/100\n",
      "17/17 [==============================] - 0s 2ms/step - loss: 0.7275 - accuracy: 0.6393 - val_loss: 0.6567 - val_accuracy: 0.6425\n",
      "Epoch 99/100\n",
      "17/17 [==============================] - 0s 1ms/step - loss: 0.7659 - accuracy: 0.6280 - val_loss: 0.6561 - val_accuracy: 0.6425\n",
      "Epoch 100/100\n",
      "17/17 [==============================] - 0s 1ms/step - loss: 0.8003 - accuracy: 0.6318 - val_loss: 0.6577 - val_accuracy: 0.6425\n"
     ]
    }
   ],
   "source": [
    "batch_size = 32  # X_train 535 / 32 = 16.71 (então são 17 batches de 32)\n",
    "epochs = 100\n",
    "\n",
    "history  = model.fit(X_train, y_train,\n",
    "                     batch_size=batch_size,\n",
    "                     epochs=epochs,\n",
    "                     verbose=1,\n",
    "                     validation_data=(X_test, y_test))"
   ]
  },
  {
   "cell_type": "code",
   "execution_count": 11,
   "metadata": {
    "slideshow": {
     "slide_type": "subslide"
    }
   },
   "outputs": [
    {
     "data": {
      "image/png": "[encoded data removed]",
      "text/plain": [
       "<Figure size 900x600 with 1 Axes>"
      ]
     },
     "metadata": {
      "needs_background": "light"
     },
     "output_type": "display_data"
    },
    {
     "data": {
      "image/png": "[encoded data removed]",
      "text/plain": [
       "<Figure size 900x600 with 1 Axes>"
      ]
     },
     "metadata": {
      "needs_background": "light"
     },
     "output_type": "display_data"
    }
   ],
   "source": [
    "import matplotlib\n",
    "import matplotlib.pyplot as plt\n",
    "\n",
    "matplotlib.rcParams['figure.dpi'] = 150\n",
    "\n",
    "# Plot acurácia de treino e validação\n",
    "plt.plot(history.history['accuracy'])\n",
    "plt.plot(history.history['val_accuracy'])\n",
    "plt.title('Acurácia do Modelo')\n",
    "plt.ylabel('Acurácia')\n",
    "plt.xlabel('Época')\n",
    "plt.legend(['Treino', 'Teste'], loc='upper left')\n",
    "plt.show()\n",
    "\n",
    "# Plot custo de treino e validação\n",
    "plt.plot(history.history['loss'])\n",
    "plt.plot(history.history['val_loss'])\n",
    "plt.title('Custo do Modelo')\n",
    "plt.ylabel('Custo')\n",
    "plt.xlabel('Época')\n",
    "plt.legend(['Treino', 'Teste'], loc='upper left')\n",
    "plt.show()"
   ]
  },
  {
   "cell_type": "markdown",
   "metadata": {
    "slideshow": {
     "slide_type": "subslide"
    }
   },
   "source": [
    "### Acurácia do Modelo\n",
    "\n",
    "Usar o comando `model.evaluate()`\n",
    "\n",
    "Para a métrica acurácia, retorna um score de acurácia `float` entre $0$ e $1$\n",
    "    \n",
    "> Obs: Regressão Logística acurácias: 0.69 Treino e 0.7 Teste\n",
    "\n",
    "> Obs: *Support Vector Machines* acurácias: 0.79 Treino e 0.75 Teste\n",
    "\n",
    "> Obs: Árvores de Decisão acurácias: 0.79 Treino e 0.79 Teste\n",
    "\n",
    "> Obs: Florestas Aleatórias acurácias: 0.84 Treino e 0.82 Teste"
   ]
  },
  {
   "cell_type": "code",
   "execution_count": 12,
   "metadata": {
    "slideshow": {
     "slide_type": "subslide"
    }
   },
   "outputs": [
    {
     "name": "stdout",
     "output_type": "stream",
     "text": [
      "6/6 [==============================] - 0s 1ms/step - loss: 0.6577 - accuracy: 0.6425\n"
     ]
    },
    {
     "data": {
      "text/plain": [
       "[0.6576788425445557, 0.6424580812454224]"
      ]
     },
     "execution_count": 12,
     "metadata": {},
     "output_type": "execute_result"
    }
   ],
   "source": [
    "model.evaluate(X_test, y_test)\n",
    "\n",
    "# X_test 179 / 32 = 5.59 (então são 6 batches de 32)"
   ]
  },
  {
   "cell_type": "markdown",
   "metadata": {
    "slideshow": {
     "slide_type": "subslide"
    }
   },
   "source": [
    "## Fazer previsões com o modelo\n",
    "\n",
    "* `model.predict(X_new)` para obter uma probabilidade `float` entre $0$ e $1$\n",
    "* `(model.predict(X_new) > 0.5).astype(\"int32\")` para obter um `int` $0$ ou $1$ representando a classe (Classificação Binária)\n",
    "* `np.argmax(model.predict(X_new), axis=-1)` para obter um `int` representando a classe (Classificação Multiclasse)"
   ]
  },
  {
   "cell_type": "code",
   "execution_count": 13,
   "metadata": {
    "slideshow": {
     "slide_type": "subslide"
    }
   },
   "outputs": [
    {
     "data": {
      "text/plain": [
       "array([[0],\n",
       "       [0],\n",
       "       [0],\n",
       "       [0],\n",
       "       [1],\n",
       "       [0],\n",
       "       [0],\n",
       "       [0],\n",
       "       [0],\n",
       "       [0],\n",
       "       [0],\n",
       "       [0],\n",
       "       [0],\n",
       "       [0],\n",
       "       [0],\n",
       "       [0],\n",
       "       [0],\n",
       "       [0],\n",
       "       [0],\n",
       "       [0],\n",
       "       [0],\n",
       "       [0],\n",
       "       [0],\n",
       "       [1],\n",
       "       [0],\n",
       "       [0],\n",
       "       [0],\n",
       "       [0],\n",
       "       [0],\n",
       "       [0],\n",
       "       [0],\n",
       "       [0],\n",
       "       [1],\n",
       "       [0],\n",
       "       [0],\n",
       "       [0],\n",
       "       [0],\n",
       "       [0],\n",
       "       [0],\n",
       "       [0],\n",
       "       [0],\n",
       "       [0],\n",
       "       [0],\n",
       "       [0],\n",
       "       [0],\n",
       "       [0],\n",
       "       [0],\n",
       "       [1],\n",
       "       [0],\n",
       "       [1],\n",
       "       [0],\n",
       "       [1],\n",
       "       [0],\n",
       "       [0],\n",
       "       [0],\n",
       "       [0],\n",
       "       [0],\n",
       "       [0],\n",
       "       [0],\n",
       "       [0],\n",
       "       [1],\n",
       "       [0],\n",
       "       [0],\n",
       "       [0],\n",
       "       [0],\n",
       "       [0],\n",
       "       [0],\n",
       "       [1],\n",
       "       [0],\n",
       "       [0],\n",
       "       [0],\n",
       "       [0],\n",
       "       [0],\n",
       "       [0],\n",
       "       [0],\n",
       "       [0],\n",
       "       [0],\n",
       "       [0],\n",
       "       [0],\n",
       "       [0],\n",
       "       [0],\n",
       "       [0],\n",
       "       [0],\n",
       "       [0],\n",
       "       [0],\n",
       "       [1],\n",
       "       [0],\n",
       "       [0],\n",
       "       [0],\n",
       "       [0],\n",
       "       [0],\n",
       "       [0],\n",
       "       [0],\n",
       "       [0],\n",
       "       [1],\n",
       "       [0],\n",
       "       [0],\n",
       "       [0],\n",
       "       [0],\n",
       "       [1],\n",
       "       [0],\n",
       "       [0],\n",
       "       [0],\n",
       "       [0],\n",
       "       [0],\n",
       "       [0],\n",
       "       [0],\n",
       "       [0],\n",
       "       [0],\n",
       "       [0],\n",
       "       [0],\n",
       "       [0],\n",
       "       [1],\n",
       "       [0],\n",
       "       [0],\n",
       "       [0],\n",
       "       [0],\n",
       "       [0],\n",
       "       [1],\n",
       "       [0],\n",
       "       [0],\n",
       "       [0],\n",
       "       [0],\n",
       "       [0],\n",
       "       [0],\n",
       "       [0],\n",
       "       [0],\n",
       "       [1],\n",
       "       [0],\n",
       "       [0],\n",
       "       [0],\n",
       "       [0],\n",
       "       [0],\n",
       "       [0],\n",
       "       [0],\n",
       "       [0],\n",
       "       [0],\n",
       "       [0],\n",
       "       [0],\n",
       "       [0],\n",
       "       [0],\n",
       "       [0],\n",
       "       [0],\n",
       "       [0],\n",
       "       [0],\n",
       "       [0],\n",
       "       [0],\n",
       "       [0],\n",
       "       [0],\n",
       "       [0],\n",
       "       [0],\n",
       "       [0],\n",
       "       [0],\n",
       "       [0],\n",
       "       [0],\n",
       "       [0],\n",
       "       [0],\n",
       "       [0],\n",
       "       [0],\n",
       "       [0],\n",
       "       [0],\n",
       "       [1],\n",
       "       [0],\n",
       "       [0],\n",
       "       [0],\n",
       "       [0],\n",
       "       [0],\n",
       "       [0],\n",
       "       [0],\n",
       "       [0],\n",
       "       [0],\n",
       "       [0],\n",
       "       [0],\n",
       "       [0],\n",
       "       [0],\n",
       "       [0],\n",
       "       [0],\n",
       "       [0],\n",
       "       [0]], dtype=int32)"
      ]
     },
     "execution_count": 13,
     "metadata": {},
     "output_type": "execute_result"
    }
   ],
   "source": [
    "(model.predict(X_test) > 0.5).astype('int32')"
   ]
  },
  {
   "cell_type": "markdown",
   "metadata": {
    "slideshow": {
     "slide_type": "slide"
    }
   },
   "source": [
    "## Referências\n",
    "\n",
    "* Hinton, Geoffrey, Nitish Srivastava, and Kevin Swersky. “Neural Networks for Machine Learning Lecture 6a Overview of Mini--Batch Gradient Descent,” 2012.\n",
    "* Kingma, Diederik P., and Jimmy Ba. “Adam: A Method for Stochastic Optimization,” December 22, 2014. https://arxiv.org/abs/1412.6980.\n",
    "* Nesterov, Y. A method of solving a convex programming problem with convergence rate O(1/sqr(k)). Soviet Mathematics Doklady, 27:372–376, 1983.\n",
    "* Srivastava, Nitish, Geoffrey Hinton, Alex Krizhevsky, Ilya Sutskever, and Ruslan Salakhutdinov. “Dropout: A Simple Way to Prevent Neural Networks from Overfitting.” Journal of Machine Learning Research 15, no. 56 (2014): 1929–58."
   ]
  }
 ],
 "metadata": {
  "celltoolbar": "Slideshow",
  "kernelspec": {
   "display_name": "Python 3 (ipykernel)",
   "language": "python",
   "name": "python3"
  },
  "language_info": {
   "codemirror_mode": {
    "name": "ipython",
    "version": 3
   },
   "file_extension": ".py",
   "mimetype": "text/x-python",
   "name": "python",
   "nbconvert_exporter": "python",
   "pygments_lexer": "ipython3",
   "version": "3.10.4"
  },
  "rise": {
   "autolaunch": true,
   "enable_chalkboard": true,
   "progress": true,
   "scroll": true,
   "slideNumber": true,
   "theme": "black"
  }
 },
 "nbformat": 4,
 "nbformat_minor": 4
}
