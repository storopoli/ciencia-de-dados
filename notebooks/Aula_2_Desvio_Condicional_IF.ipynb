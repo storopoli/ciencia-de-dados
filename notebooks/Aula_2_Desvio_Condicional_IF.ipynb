{
 "cells": [
  {
   "cell_type": "markdown",
   "metadata": {
    "slideshow": {
     "slide_type": "skip"
    }
   },
   "source": [
    "[![Binder](https://mybinder.org/badge_logo.svg)](https://mybinder.org/v2/gh/storopoli/ciencia-de-dados/master?filepath=notebooks%2FAula_2_Desvio_Condicional_IF.ipynb)\n",
    "<br>\n",
    "[![Open In Colab](https://colab.research.google.com/assets/colab-badge.svg)](https://colab.research.google.com/github/storopoli/ciencia-de-dados/blob/master/notebooks/Aula_2_Desvio_Condicional_IF.ipynb)"
   ]
  },
  {
   "cell_type": "markdown",
   "metadata": {
    "slideshow": {
     "slide_type": "slide"
    }
   },
   "source": [
    "# Desvio Condicional (`IF`)\n",
    "\n",
    "**Objetivos**: Apresentar desvio condicional em Python (`IF`)"
   ]
  },
  {
   "cell_type": "markdown",
   "metadata": {
    "slideshow": {
     "slide_type": "fragment"
    }
   },
   "source": [
    "Os desvios condicionais, também chamados de estruturas de seleção ou decisão, são\n",
    "utilizados quando existe a necessidade de verificar condições para a realização de uma\n",
    "instrução ou de uma sequência de instruções. Os testes de seleção também podem ser\n",
    "utilizados para verificar opções de escolha."
   ]
  },
  {
   "cell_type": "markdown",
   "metadata": {
    "slideshow": {
     "slide_type": "slide"
    }
   },
   "source": [
    "## Desvio Condicional Simples\n",
    "\n",
    "Esse tipo de desvio é representado por uma instrução que avalia uma expressão lógica, resultando um valor que pode ser verdadeiro ou falso. Ele deve ser utilizado caso seja necessário executar instruções somente se uma condição for verdadeira.\n",
    "\n",
    "**Cuidado com indentação (*identation*)**\n",
    "\n",
    "```python\n",
    "if (condição):\n",
    "    instruções condição verdadeira\n",
    "instruções independentemente da condição ser verdadeira ou não\n",
    "```"
   ]
  },
  {
   "cell_type": "code",
   "execution_count": 1,
   "metadata": {
    "slideshow": {
     "slide_type": "subslide"
    }
   },
   "outputs": [
    {
     "name": "stdout",
     "output_type": "stream",
     "text": [
      "a é igual a b\n",
      "Valor de c:  2\n"
     ]
    }
   ],
   "source": [
    "a = 5\n",
    "b = 5\n",
    "c = 0\n",
    "\n",
    "if (a == b):\n",
    "    print('a é igual a b')\n",
    "    c +=2\n",
    "print('Valor de c: ', c)"
   ]
  },
  {
   "cell_type": "code",
   "execution_count": 2,
   "metadata": {
    "slideshow": {
     "slide_type": "subslide"
    }
   },
   "outputs": [
    {
     "name": "stdout",
     "output_type": "stream",
     "text": [
      "Valor de c:  0\n"
     ]
    }
   ],
   "source": [
    "a = 5\n",
    "b = 5\n",
    "c = 0\n",
    "if (a != b):\n",
    "    print('a é diferente de b')\n",
    "    c +=2\n",
    "print('Valor de c: ', c)"
   ]
  },
  {
   "cell_type": "code",
   "execution_count": 3,
   "metadata": {
    "slideshow": {
     "slide_type": "subslide"
    }
   },
   "outputs": [
    {
     "name": "stdout",
     "output_type": "stream",
     "text": [
      "a é igual a b\n",
      "c mais cinco é igual a a\n",
      "Valor de c:  4\n"
     ]
    }
   ],
   "source": [
    "a = 5\n",
    "b = 5\n",
    "c = 0\n",
    "\n",
    "if (a == b):\n",
    "    print('a é igual a b')\n",
    "    if (c + 5 == a):\n",
    "        print('c mais cinco é igual a a')\n",
    "        c += 2\n",
    "    c +=2\n",
    "print('Valor de c: ', c)"
   ]
  },
  {
   "cell_type": "code",
   "execution_count": 4,
   "metadata": {
    "slideshow": {
     "slide_type": "subslide"
    }
   },
   "outputs": [
    {
     "name": "stdout",
     "output_type": "stream",
     "text": [
      "a é igual a b\n",
      "Valor de c:  2\n"
     ]
    }
   ],
   "source": [
    "a = 5\n",
    "b = 5\n",
    "c = 0\n",
    "\n",
    "if (a == b):\n",
    "    print('a é igual a b')\n",
    "    if (c + 6 == a):\n",
    "        print('c mais seis é igual a a')\n",
    "        c += 2\n",
    "    c +=2\n",
    "print('Valor de c: ', c)"
   ]
  },
  {
   "cell_type": "markdown",
   "metadata": {
    "slideshow": {
     "slide_type": "slide"
    }
   },
   "source": [
    "## Desvio Condicional Composto\n",
    "O desvio condicional composto prevê uma condição com 2 conjuntos de instruções para serem realizados de acordo com a avaliação da resposta: um bloco de instruções para resposta verdadeiro e um bloco de instruções para resposta falso.\n",
    "\n",
    "```python\n",
    "if (condição):\n",
    "    instruções condição verdadeira\n",
    "else:\n",
    "    instrução condição falsa\n",
    "instruções independentemente da condição ser verdadeira ou não\n",
    "```"
   ]
  },
  {
   "cell_type": "code",
   "execution_count": 5,
   "metadata": {
    "slideshow": {
     "slide_type": "subslide"
    }
   },
   "outputs": [
    {
     "name": "stdout",
     "output_type": "stream",
     "text": [
      "a é igual a b\n",
      "c mais cinco é igual a a\n",
      "Valor de c:  2\n"
     ]
    }
   ],
   "source": [
    "a = 5\n",
    "b = 5\n",
    "c = 0\n",
    "\n",
    "if (a == b):\n",
    "    print('a é igual a b')\n",
    "    if (c + 5 == a):\n",
    "        print('c mais cinco é igual a a')\n",
    "        c += 2\n",
    "else:\n",
    "    c +=3\n",
    "print('Valor de c: ', c)"
   ]
  },
  {
   "cell_type": "code",
   "execution_count": 6,
   "metadata": {
    "slideshow": {
     "slide_type": "fragment"
    }
   },
   "outputs": [
    {
     "name": "stdout",
     "output_type": "stream",
     "text": [
      "Valor de c:  3\n"
     ]
    }
   ],
   "source": [
    "a = 5\n",
    "b = 5\n",
    "c = 0\n",
    "\n",
    "if (a != b):\n",
    "    print('a é diferente de b')\n",
    "    if (c + 6 == a):\n",
    "        print('c mais seis é igual a a')\n",
    "        c += 2\n",
    "else:\n",
    "    c +=3\n",
    "print('Valor de c: ', c)"
   ]
  },
  {
   "cell_type": "markdown",
   "metadata": {
    "slideshow": {
     "slide_type": "slide"
    }
   },
   "source": [
    "## Desvio Condicional Encadeado\n",
    "Um desvio condicional encadeado é uma sequência de testes de seleção, os quais serão executados ou não de acordo com o resultado das condições e de acordo com o encadeamento dos testes.\n",
    "\n",
    "Existem casos em que é necessário estabelecer algumas verificações lógicas de condições definidas sucessivamente. A ideia aqui apresentada sugere a possibilidade de usar uma condição dentro de outra condição, o que leva a uma estrutura de decisão encadeada ou aninhada."
   ]
  },
  {
   "cell_type": "markdown",
   "metadata": {
    "slideshow": {
     "slide_type": "subslide"
    }
   },
   "source": [
    "```python\n",
    "if (condição_1):\n",
    "    instruções condição_1 verdadeira\n",
    "elif (condição_2):\n",
    "    instruções condição_2 verdadeira\n",
    "elif (condição_3):\n",
    "    instruções condição_3 verdadeira\n",
    "else:\n",
    "    instrução condições falsas\n",
    "instruções independentemente das condições serem verdadeiras ou não\n",
    "```"
   ]
  },
  {
   "cell_type": "code",
   "execution_count": 7,
   "metadata": {
    "slideshow": {
     "slide_type": "subslide"
    }
   },
   "outputs": [
    {
     "name": "stdout",
     "output_type": "stream",
     "text": [
      "informe valor de a: \n",
      "2\n",
      "11\n"
     ]
    }
   ],
   "source": [
    "c = 0\n",
    "a = int(input(\"informe valor de a: \\n\"))\n",
    "\n",
    "if (a==1):\n",
    "    c = 10\n",
    "elif (a==2):\n",
    "    c = 11\n",
    "elif (a==3):\n",
    "    c = 12\n",
    "elif (a==4):\n",
    "    c = 13\n",
    "elif (a==5):\n",
    "    c = 14\n",
    "else:\n",
    "    c = 20\n",
    "print(c)"
   ]
  },
  {
   "cell_type": "markdown",
   "metadata": {
    "slideshow": {
     "slide_type": "slide"
    }
   },
   "source": [
    "## Atividade\n",
    "\n",
    "1. Designe uma variável `x` com o valor $8$\n",
    "2. Designe uma variável `y` com o valor $15$\n",
    "3. Crie 2 desvios condicionais:\n",
    "    * O primeiro deve imprimir \"Ao menos uma das condições foi satisfeita\" se `x` maior que $3$ **ou** `y` é número par\n",
    "    * O segundo deve imprimir \"Nenhuma condição foi satisfeita\" se `x` menor ou igual a $3$ **e** `y` é número ímpar\n",
    "\n",
    "\n",
    "Observação: use o módulo `%` para identificar número *ímpar* e *par*"
   ]
  },
  {
   "cell_type": "code",
   "execution_count": null,
   "metadata": {
    "slideshow": {
     "slide_type": "fragment"
    }
   },
   "outputs": [],
   "source": [
    "###"
   ]
  },
  {
   "cell_type": "markdown",
   "metadata": {
    "slideshow": {
     "slide_type": "subslide"
    }
   },
   "source": [
    "Resolva a equação do 2° Grau a seguir, realizando a entrada dos valores de (a, b e c) pelo teclado.\n",
    "\n",
    "A solução real da equação é dada por $ax^2 + bx + c = 0$, fórmula de Baskara.\n",
    "\n",
    "Exemplo:\n",
    "\n",
    "$a=1$, $b=3$ e $c=2$\n",
    "\n",
    "$ \\Delta = b^2 - 4ac $, com $a \\neq 0$\n",
    "\n",
    "Se $ \\Delta < 0$ então mostrar \"não há solução real\"\n",
    "\n",
    "Senão, calcular e apresentar os resultados.\n",
    "\n",
    "$ x_{1}=\\frac{-b-\\sqrt{\\Delta}}{2a} $\n",
    "<br><br>\n",
    " $ x_{2} = \\frac{-b +\\sqrt{\\Delta}}{2a} $"
   ]
  },
  {
   "cell_type": "code",
   "execution_count": null,
   "metadata": {
    "slideshow": {
     "slide_type": "fragment"
    }
   },
   "outputs": [],
   "source": [
    "###"
   ]
  }
 ],
 "metadata": {
  "celltoolbar": "Slideshow",
  "kernelspec": {
   "display_name": "Python [conda env:ciencia-de-dados]",
   "language": "python",
   "name": "conda-env-ciencia-de-dados-py"
  },
  "language_info": {
   "codemirror_mode": {
    "name": "ipython",
    "version": 3
   },
   "file_extension": ".py",
   "mimetype": "text/x-python",
   "name": "python",
   "nbconvert_exporter": "python",
   "pygments_lexer": "ipython3",
   "version": "3.7.10"
  },
  "rise": {
   "autolaunch": true,
   "enable_chalkboard": true,
   "progress": true,
   "scroll": true,
   "slideNumber": true
  }
 },
 "nbformat": 4,
 "nbformat_minor": 4
}
